{
 "cells": [
  {
   "cell_type": "code",
   "execution_count": 1,
   "metadata": {},
   "outputs": [],
   "source": [
    "import numpy as np\n",
    "import pandas as pd\n",
    "import scipy.stats as stats\n",
    "%matplotlib inline\n",
    "%config IPCompleter.greedy=True"
   ]
  },
  {
   "cell_type": "markdown",
   "metadata": {},
   "source": [
    "# TRAINING DATA"
   ]
  },
  {
   "cell_type": "code",
   "execution_count": 2,
   "metadata": {},
   "outputs": [],
   "source": [
    "df = pd.read_csv('../datasets/train.csv')"
   ]
  },
  {
   "cell_type": "code",
   "execution_count": 3,
   "metadata": {},
   "outputs": [
    {
     "data": {
      "text/plain": [
       "array(['Id', 'PID', 'MS SubClass', 'MS Zoning', 'Lot Frontage',\n",
       "       'Lot Area', 'Street', 'Alley', 'Lot Shape', 'Land Contour',\n",
       "       'Utilities', 'Lot Config', 'Land Slope', 'Neighborhood',\n",
       "       'Condition 1', 'Condition 2', 'Bldg Type', 'House Style',\n",
       "       'Overall Qual', 'Overall Cond', 'Year Built', 'Year Remod/Add',\n",
       "       'Roof Style', 'Roof Matl', 'Exterior 1st', 'Exterior 2nd',\n",
       "       'Mas Vnr Type', 'Mas Vnr Area', 'Exter Qual', 'Exter Cond',\n",
       "       'Foundation', 'Bsmt Qual', 'Bsmt Cond', 'Bsmt Exposure',\n",
       "       'BsmtFin Type 1', 'BsmtFin SF 1', 'BsmtFin Type 2', 'BsmtFin SF 2',\n",
       "       'Bsmt Unf SF', 'Total Bsmt SF', 'Heating', 'Heating QC',\n",
       "       'Central Air', 'Electrical', '1st Flr SF', '2nd Flr SF',\n",
       "       'Low Qual Fin SF', 'Gr Liv Area', 'Bsmt Full Bath',\n",
       "       'Bsmt Half Bath', 'Full Bath', 'Half Bath', 'Bedroom AbvGr',\n",
       "       'Kitchen AbvGr', 'Kitchen Qual', 'TotRms AbvGrd', 'Functional',\n",
       "       'Fireplaces', 'Fireplace Qu', 'Garage Type', 'Garage Yr Blt',\n",
       "       'Garage Finish', 'Garage Cars', 'Garage Area', 'Garage Qual',\n",
       "       'Garage Cond', 'Paved Drive', 'Wood Deck SF', 'Open Porch SF',\n",
       "       'Enclosed Porch', '3Ssn Porch', 'Screen Porch', 'Pool Area',\n",
       "       'Pool QC', 'Fence', 'Misc Feature', 'Misc Val', 'Mo Sold',\n",
       "       'Yr Sold', 'Sale Type', 'SalePrice'], dtype=object)"
      ]
     },
     "execution_count": 3,
     "metadata": {},
     "output_type": "execute_result"
    }
   ],
   "source": [
    "df.columns.values"
   ]
  },
  {
   "cell_type": "markdown",
   "metadata": {},
   "source": [
    "### MS SubClass | nominal (baseline = 20)"
   ]
  },
  {
   "cell_type": "code",
   "execution_count": 4,
   "metadata": {},
   "outputs": [
    {
     "name": "stdout",
     "output_type": "stream",
     "text": [
      "starting shape\t (2051, 81)\n"
     ]
    },
    {
     "data": {
      "text/plain": [
       "20     770\n",
       "60     394\n",
       "50     198\n",
       "120    132\n",
       "30     101\n",
       "70      90\n",
       "160     88\n",
       "80      86\n",
       "90      75\n",
       "190     46\n",
       "85      28\n",
       "75      16\n",
       "45      11\n",
       "180     11\n",
       "40       4\n",
       "150      1\n",
       "Name: MS SubClass, dtype: int64"
      ]
     },
     "execution_count": 4,
     "metadata": {},
     "output_type": "execute_result"
    }
   ],
   "source": [
    "# Stage 1\n",
    "column_name='MS SubClass'\n",
    "shape_before = df.shape\n",
    "print('starting shape\\t', shape_before)\n",
    "df[column_name].value_counts()"
   ]
  },
  {
   "cell_type": "code",
   "execution_count": 5,
   "metadata": {},
   "outputs": [
    {
     "name": "stdout",
     "output_type": "stream",
     "text": [
      "MSsubclass_30\tMSsubclass_40\tMSsubclass_45\tMSsubclass_50\tMSsubclass_60\tMSsubclass_70\tMSsubclass_75\tMSsubclass_80\tMSsubclass_85\tMSsubclass_90\tMSsubclass_120\tMSsubclass_150\tMSsubclass_160\tMSsubclass_180\tMSsubclass_190\t\n",
      "count ===>>> 15\n"
     ]
    }
   ],
   "source": [
    "# Stage 2 ==NOMINAL==\n",
    "prefix = 'MSsubclass'\n",
    "prefix_search = prefix+'_'\n",
    "df=pd.get_dummies(df,prefix=prefix,columns=[column_name],drop_first=True)\n",
    "count = 0\n",
    "for i in df.columns:\n",
    "    if prefix_search in i:\n",
    "        print(i,end='\\t')\n",
    "        count += 1\n",
    "print('\\ncount ===>>>', count)"
   ]
  },
  {
   "cell_type": "code",
   "execution_count": 6,
   "metadata": {},
   "outputs": [
    {
     "name": "stdout",
     "output_type": "stream",
     "text": [
      "after transformation\t (2051, 95)\n",
      "====================== added 14 columns ======================\n"
     ]
    }
   ],
   "source": [
    "# Stage 3\n",
    "shape_after = df.shape\n",
    "print('after transformation\\t', shape_after)\n",
    "print('====================== added',shape_after[1]-shape_before[1],'columns ======================')"
   ]
  },
  {
   "cell_type": "markdown",
   "metadata": {},
   "source": [
    "### Street | nominal (baseline = Grvl)"
   ]
  },
  {
   "cell_type": "code",
   "execution_count": 7,
   "metadata": {},
   "outputs": [
    {
     "name": "stdout",
     "output_type": "stream",
     "text": [
      "starting shape\t (2051, 95)\n"
     ]
    },
    {
     "data": {
      "text/plain": [
       "Pave    2044\n",
       "Grvl       7\n",
       "Name: Street, dtype: int64"
      ]
     },
     "execution_count": 7,
     "metadata": {},
     "output_type": "execute_result"
    }
   ],
   "source": [
    "# Stage 1\n",
    "shape_before = df.shape\n",
    "print('starting shape\\t', shape_before)\n",
    "column_name='Street'\n",
    "df[column_name].value_counts()"
   ]
  },
  {
   "cell_type": "code",
   "execution_count": 8,
   "metadata": {},
   "outputs": [
    {
     "name": "stdout",
     "output_type": "stream",
     "text": [
      "Street_Pave\t\n",
      "count ===>>> 1\n"
     ]
    }
   ],
   "source": [
    "# Stage 2 ==NOMINAL==\n",
    "prefix = 'Street'\n",
    "prefix_search = prefix+'_'\n",
    "df=pd.get_dummies(df,prefix=prefix,columns=[column_name],drop_first=True)\n",
    "count = 0\n",
    "for i in df.columns:\n",
    "    if prefix_search in i:\n",
    "        print(i,end='\\t')\n",
    "        count += 1\n",
    "print('\\ncount ===>>>', count)"
   ]
  },
  {
   "cell_type": "code",
   "execution_count": 9,
   "metadata": {},
   "outputs": [
    {
     "name": "stdout",
     "output_type": "stream",
     "text": [
      "after transformation\t (2051, 95)\n",
      "====================== added 0 columns ======================\n"
     ]
    }
   ],
   "source": [
    "# Stage 3\n",
    "shape_after = df.shape\n",
    "print('after transformation\\t', shape_after)\n",
    "print('====================== added',shape_after[1]-shape_before[1],'columns ======================')"
   ]
  },
  {
   "cell_type": "markdown",
   "metadata": {},
   "source": [
    "### Alley | DROPPED (93% missing) "
   ]
  },
  {
   "cell_type": "code",
   "execution_count": 10,
   "metadata": {},
   "outputs": [
    {
     "name": "stdout",
     "output_type": "stream",
     "text": [
      "starting shape\t (2051, 95)\n",
      "Alley is empty in 1911 rows\n",
      "Alley is zero in 0 rows\n"
     ]
    }
   ],
   "source": [
    "# Stage 1\n",
    "column_name='Alley'\n",
    "shape_before = df.shape\n",
    "print('starting shape\\t', shape_before)\n",
    "print(column_name,'is empty in',df[df[column_name].isnull()].shape[0],'rows')\n",
    "print(column_name,'is zero in',df[df[column_name] == 0].shape[0],'rows')"
   ]
  },
  {
   "cell_type": "code",
   "execution_count": 11,
   "metadata": {},
   "outputs": [],
   "source": [
    "# Stage 2\n",
    "# Drop column\n",
    "df.drop(column_name,axis=1,inplace=True);"
   ]
  },
  {
   "cell_type": "code",
   "execution_count": 12,
   "metadata": {},
   "outputs": [
    {
     "name": "stdout",
     "output_type": "stream",
     "text": [
      "after transformation\t (2051, 94)\n",
      "====================== added -1 columns ======================\n"
     ]
    }
   ],
   "source": [
    "# Stage 3\n",
    "shape_after = df.shape\n",
    "print('after transformation\\t', shape_after)\n",
    "print('====================== added',shape_after[1]-shape_before[1],'columns ======================')"
   ]
  },
  {
   "cell_type": "markdown",
   "metadata": {},
   "source": [
    "### Lot Shape | ordinal"
   ]
  },
  {
   "cell_type": "code",
   "execution_count": 13,
   "metadata": {},
   "outputs": [
    {
     "name": "stdout",
     "output_type": "stream",
     "text": [
      "starting shape\t (2051, 94)\n"
     ]
    },
    {
     "data": {
      "text/plain": [
       "Reg    1295\n",
       "IR1     692\n",
       "IR2      55\n",
       "IR3       9\n",
       "Name: Lot Shape, dtype: int64"
      ]
     },
     "execution_count": 13,
     "metadata": {},
     "output_type": "execute_result"
    }
   ],
   "source": [
    "# Stage 1\n",
    "column_name='Lot Shape'\n",
    "shape_before = df.shape\n",
    "print('starting shape\\t', shape_before)\n",
    "df[column_name].value_counts()"
   ]
  },
  {
   "cell_type": "code",
   "execution_count": 14,
   "metadata": {},
   "outputs": [
    {
     "name": "stdout",
     "output_type": "stream",
     "text": [
      "After transformation:\n"
     ]
    },
    {
     "data": {
      "text/plain": [
       "4    1295\n",
       "3     692\n",
       "2      55\n",
       "1       9\n",
       "Name: Lot Shape, dtype: int64"
      ]
     },
     "execution_count": 14,
     "metadata": {},
     "output_type": "execute_result"
    }
   ],
   "source": [
    "# Stage 2 ==ORDINAL==\n",
    "# dummy = 0, followed by increasing merit\n",
    "category_list = ['dummy','IR3','IR2','IR1','Reg']\n",
    "df[column_name]=pd.Categorical(df[column_name],ordered=True,categories=category_list).codes\n",
    "print('After transformation:')\n",
    "df[column_name].value_counts()"
   ]
  },
  {
   "cell_type": "code",
   "execution_count": 15,
   "metadata": {},
   "outputs": [
    {
     "name": "stdout",
     "output_type": "stream",
     "text": [
      "after transformation\t (2051, 94)\n",
      "====================== added 0 columns ======================\n"
     ]
    }
   ],
   "source": [
    "# Stage 3\n",
    "shape_after = df.shape\n",
    "print('after transformation\\t', shape_after)\n",
    "print('====================== added',shape_after[1]-shape_before[1],'columns ======================')"
   ]
  },
  {
   "cell_type": "markdown",
   "metadata": {},
   "source": [
    "### Land Contour | nominal (baseline = Bnk)"
   ]
  },
  {
   "cell_type": "code",
   "execution_count": 16,
   "metadata": {},
   "outputs": [
    {
     "name": "stdout",
     "output_type": "stream",
     "text": [
      "starting shape\t (2051, 94)\n"
     ]
    },
    {
     "data": {
      "text/plain": [
       "Lvl    1843\n",
       "HLS      85\n",
       "Bnk      80\n",
       "Low      43\n",
       "Name: Land Contour, dtype: int64"
      ]
     },
     "execution_count": 16,
     "metadata": {},
     "output_type": "execute_result"
    }
   ],
   "source": [
    "# Stage 1\n",
    "shape_before = df.shape\n",
    "print('starting shape\\t', shape_before)\n",
    "column_name='Land Contour'\n",
    "df[column_name].value_counts()"
   ]
  },
  {
   "cell_type": "code",
   "execution_count": 17,
   "metadata": {},
   "outputs": [
    {
     "name": "stdout",
     "output_type": "stream",
     "text": [
      "LandContour_HLS\tLandContour_Low\tLandContour_Lvl\t\n",
      "count ===>>> 3\n"
     ]
    }
   ],
   "source": [
    "# Stage 2 ==NOMINAL==\n",
    "prefix = 'LandContour'\n",
    "prefix_search = prefix+'_'\n",
    "df=pd.get_dummies(df,prefix=prefix,columns=[column_name],drop_first=True)\n",
    "count = 0\n",
    "for i in df.columns:\n",
    "    if prefix_search in i:\n",
    "        print(i,end='\\t')\n",
    "        count += 1\n",
    "print('\\ncount ===>>>', count)"
   ]
  },
  {
   "cell_type": "code",
   "execution_count": 18,
   "metadata": {},
   "outputs": [
    {
     "name": "stdout",
     "output_type": "stream",
     "text": [
      "after transformation\t (2051, 96)\n",
      "====================== added 2 columns ======================\n"
     ]
    }
   ],
   "source": [
    "# Stage 3\n",
    "shape_after = df.shape\n",
    "print('after transformation\\t', shape_after)\n",
    "print('====================== added',shape_after[1]-shape_before[1],'columns ======================')"
   ]
  },
  {
   "cell_type": "markdown",
   "metadata": {},
   "source": [
    "### Utilities | DROPPED"
   ]
  },
  {
   "cell_type": "code",
   "execution_count": 19,
   "metadata": {},
   "outputs": [
    {
     "name": "stdout",
     "output_type": "stream",
     "text": [
      "starting shape\t (2051, 96)\n",
      "Utilities is empty in 0 rows\n",
      "Utilities is zero in 0 rows\n"
     ]
    }
   ],
   "source": [
    "# Stage 1\n",
    "column_name='Utilities'\n",
    "shape_before = df.shape\n",
    "print('starting shape\\t', shape_before)\n",
    "print(column_name,'is empty in',df[df[column_name].isnull()].shape[0],'rows')\n",
    "print(column_name,'is zero in',df[df[column_name] == 0].shape[0],'rows')"
   ]
  },
  {
   "cell_type": "code",
   "execution_count": 20,
   "metadata": {},
   "outputs": [],
   "source": [
    "# Stage 2\n",
    "# Drop column\n",
    "df.drop(column_name,axis=1,inplace=True);"
   ]
  },
  {
   "cell_type": "code",
   "execution_count": 21,
   "metadata": {},
   "outputs": [
    {
     "name": "stdout",
     "output_type": "stream",
     "text": [
      "after transformation\t (2051, 95)\n",
      "====================== added -1 columns ======================\n"
     ]
    }
   ],
   "source": [
    "# Stage 3\n",
    "shape_after = df.shape\n",
    "print('after transformation\\t', shape_after)\n",
    "print('====================== added',shape_after[1]-shape_before[1],'columns ======================')"
   ]
  },
  {
   "cell_type": "markdown",
   "metadata": {},
   "source": [
    "### Lot Config | nominal (baseline = Corner)"
   ]
  },
  {
   "cell_type": "code",
   "execution_count": 22,
   "metadata": {},
   "outputs": [
    {
     "name": "stdout",
     "output_type": "stream",
     "text": [
      "starting shape\t (2051, 95)\n"
     ]
    },
    {
     "data": {
      "text/plain": [
       "Inside     1503\n",
       "Corner      348\n",
       "CulDSac     131\n",
       "FR2          60\n",
       "FR3           9\n",
       "Name: Lot Config, dtype: int64"
      ]
     },
     "execution_count": 22,
     "metadata": {},
     "output_type": "execute_result"
    }
   ],
   "source": [
    "# Stage 1\n",
    "column_name='Lot Config'\n",
    "shape_before = df.shape\n",
    "print('starting shape\\t', shape_before)\n",
    "df[column_name].value_counts()"
   ]
  },
  {
   "cell_type": "code",
   "execution_count": 23,
   "metadata": {},
   "outputs": [
    {
     "name": "stdout",
     "output_type": "stream",
     "text": [
      "LotConf_CulDSac\tLotConf_FR2\tLotConf_FR3\tLotConf_Inside\t\n",
      "count ===>>> 4\n"
     ]
    }
   ],
   "source": [
    "# Stage 2 ==NOMINAL==\n",
    "prefix = 'LotConf'\n",
    "prefix_search = prefix+'_'\n",
    "df=pd.get_dummies(df,prefix=prefix,columns=[column_name],drop_first=True)\n",
    "count = 0\n",
    "for i in df.columns:\n",
    "    if prefix_search in i:\n",
    "        print(i,end='\\t')\n",
    "        count += 1\n",
    "print('\\ncount ===>>>', count)"
   ]
  },
  {
   "cell_type": "code",
   "execution_count": 24,
   "metadata": {},
   "outputs": [
    {
     "name": "stdout",
     "output_type": "stream",
     "text": [
      "after transformation\t (2051, 98)\n",
      "====================== added 3 columns ======================\n"
     ]
    }
   ],
   "source": [
    "# Stage 3\n",
    "shape_after = df.shape\n",
    "print('after transformation\\t', shape_after)\n",
    "print('====================== added',shape_after[1]-shape_before[1],'columns ======================')"
   ]
  },
  {
   "cell_type": "markdown",
   "metadata": {},
   "source": [
    "### Land Slope | ordinal"
   ]
  },
  {
   "cell_type": "code",
   "execution_count": 25,
   "metadata": {},
   "outputs": [
    {
     "name": "stdout",
     "output_type": "stream",
     "text": [
      "starting shape\t (2051, 98)\n"
     ]
    },
    {
     "data": {
      "text/plain": [
       "Gtl    1953\n",
       "Mod      88\n",
       "Sev      10\n",
       "Name: Land Slope, dtype: int64"
      ]
     },
     "execution_count": 25,
     "metadata": {},
     "output_type": "execute_result"
    }
   ],
   "source": [
    "# Stage 1\n",
    "column_name='Land Slope'\n",
    "shape_before = df.shape\n",
    "print('starting shape\\t', shape_before)\n",
    "df[column_name].value_counts()"
   ]
  },
  {
   "cell_type": "code",
   "execution_count": 26,
   "metadata": {},
   "outputs": [
    {
     "name": "stdout",
     "output_type": "stream",
     "text": [
      "After transformation:\n"
     ]
    },
    {
     "data": {
      "text/plain": [
       "3    1953\n",
       "2      88\n",
       "1      10\n",
       "Name: Land Slope, dtype: int64"
      ]
     },
     "execution_count": 26,
     "metadata": {},
     "output_type": "execute_result"
    }
   ],
   "source": [
    "# Stage 2 ==ORDINAL==\n",
    "# dummy = 0, followed by increasing merit\n",
    "category_list = ['dummy','Sev','Mod','Gtl']\n",
    "df[column_name]=pd.Categorical(df[column_name],ordered=True,categories=category_list).codes\n",
    "print('After transformation:')\n",
    "df[column_name].value_counts()"
   ]
  },
  {
   "cell_type": "code",
   "execution_count": 27,
   "metadata": {},
   "outputs": [
    {
     "name": "stdout",
     "output_type": "stream",
     "text": [
      "after transformation\t (2051, 98)\n",
      "====================== added 0 columns ======================\n"
     ]
    }
   ],
   "source": [
    "# Stage 3\n",
    "shape_after = df.shape\n",
    "print('after transformation\\t', shape_after)\n",
    "print('====================== added',shape_after[1]-shape_before[1],'columns ======================')"
   ]
  },
  {
   "cell_type": "markdown",
   "metadata": {},
   "source": [
    "### Neighborhood | nominal (baseline = Blmngtn)"
   ]
  },
  {
   "cell_type": "code",
   "execution_count": 28,
   "metadata": {},
   "outputs": [
    {
     "name": "stdout",
     "output_type": "stream",
     "text": [
      "starting shape\t (2051, 98)\n"
     ]
    },
    {
     "data": {
      "text/plain": [
       "NAmes      310\n",
       "CollgCr    180\n",
       "OldTown    163\n",
       "Edwards    143\n",
       "Somerst    130\n",
       "NridgHt    122\n",
       "Gilbert    116\n",
       "Sawyer     111\n",
       "SawyerW     87\n",
       "NWAmes      87\n",
       "Mitchel     82\n",
       "BrkSide     76\n",
       "Crawfor     71\n",
       "IDOTRR      69\n",
       "Timber      48\n",
       "NoRidge     48\n",
       "StoneBr     38\n",
       "SWISU       32\n",
       "ClearCr     27\n",
       "MeadowV     24\n",
       "Blmngtn     22\n",
       "BrDale      19\n",
       "NPkVill     17\n",
       "Veenker     17\n",
       "Blueste      6\n",
       "Greens       3\n",
       "GrnHill      2\n",
       "Landmrk      1\n",
       "Name: Neighborhood, dtype: int64"
      ]
     },
     "execution_count": 28,
     "metadata": {},
     "output_type": "execute_result"
    }
   ],
   "source": [
    "# Stage 1\n",
    "column_name='Neighborhood'\n",
    "shape_before = df.shape\n",
    "print('starting shape\\t', shape_before)\n",
    "df[column_name].value_counts()"
   ]
  },
  {
   "cell_type": "code",
   "execution_count": 29,
   "metadata": {},
   "outputs": [
    {
     "name": "stdout",
     "output_type": "stream",
     "text": [
      "ngbhd_Blueste\tngbhd_BrDale\tngbhd_BrkSide\tngbhd_ClearCr\tngbhd_CollgCr\tngbhd_Crawfor\tngbhd_Edwards\tngbhd_Gilbert\tngbhd_Greens\tngbhd_GrnHill\tngbhd_IDOTRR\tngbhd_Landmrk\tngbhd_MeadowV\tngbhd_Mitchel\tngbhd_NAmes\tngbhd_NPkVill\tngbhd_NWAmes\tngbhd_NoRidge\tngbhd_NridgHt\tngbhd_OldTown\tngbhd_SWISU\tngbhd_Sawyer\tngbhd_SawyerW\tngbhd_Somerst\tngbhd_StoneBr\tngbhd_Timber\tngbhd_Veenker\t\n",
      "count ===>>> 27\n"
     ]
    }
   ],
   "source": [
    "# Stage 2 ==NOMINAL==\n",
    "prefix = 'ngbhd'\n",
    "prefix_search = prefix+'_'\n",
    "df=pd.get_dummies(df,prefix=prefix,columns=[column_name],drop_first=True)\n",
    "count = 0\n",
    "for i in df.columns:\n",
    "    if prefix_search in i:\n",
    "        print(i,end='\\t')\n",
    "        count += 1\n",
    "print('\\ncount ===>>>', count)"
   ]
  },
  {
   "cell_type": "code",
   "execution_count": 30,
   "metadata": {},
   "outputs": [
    {
     "name": "stdout",
     "output_type": "stream",
     "text": [
      "after transformation\t (2051, 124)\n",
      "====================== added 26 columns ======================\n"
     ]
    }
   ],
   "source": [
    "# Stage 3\n",
    "shape_after = df.shape\n",
    "print('after transformation\\t', shape_after)\n",
    "print('====================== added',shape_after[1]-shape_before[1],'columns ======================')"
   ]
  },
  {
   "cell_type": "markdown",
   "metadata": {},
   "source": [
    "### Condition 1 | nominal (baseline = Artery)"
   ]
  },
  {
   "cell_type": "code",
   "execution_count": 31,
   "metadata": {},
   "outputs": [
    {
     "name": "stdout",
     "output_type": "stream",
     "text": [
      "starting shape\t (2051, 124)\n"
     ]
    },
    {
     "data": {
      "text/plain": [
       "Norm      1767\n",
       "Feedr      109\n",
       "Artery      70\n",
       "RRAn        36\n",
       "PosN        27\n",
       "RRAe        21\n",
       "PosA        12\n",
       "RRNn         6\n",
       "RRNe         3\n",
       "Name: Condition 1, dtype: int64"
      ]
     },
     "execution_count": 31,
     "metadata": {},
     "output_type": "execute_result"
    }
   ],
   "source": [
    "# Stage 1\n",
    "column_name='Condition 1'\n",
    "shape_before = df.shape\n",
    "print('starting shape\\t', shape_before)\n",
    "df[column_name].value_counts()"
   ]
  },
  {
   "cell_type": "code",
   "execution_count": 32,
   "metadata": {},
   "outputs": [
    {
     "name": "stdout",
     "output_type": "stream",
     "text": [
      "cond1_Feedr\tcond1_Norm\tcond1_PosA\tcond1_PosN\tcond1_RRAe\tcond1_RRAn\tcond1_RRNe\tcond1_RRNn\t\n",
      "count ===>>> 8\n"
     ]
    }
   ],
   "source": [
    "# Stage 2 ==NOMINAL==\n",
    "# prefix = column_name\n",
    "prefix = 'cond1'\n",
    "prefix_search = prefix+'_'\n",
    "df=pd.get_dummies(df,prefix=prefix,columns=[column_name],drop_first=True)\n",
    "count = 0\n",
    "for i in df.columns:\n",
    "    if prefix_search in i:\n",
    "        print(i,end='\\t')\n",
    "        count += 1\n",
    "print('\\ncount ===>>>', count)"
   ]
  },
  {
   "cell_type": "code",
   "execution_count": 33,
   "metadata": {},
   "outputs": [
    {
     "name": "stdout",
     "output_type": "stream",
     "text": [
      "after transformation\t (2051, 131)\n",
      "====================== added 7 columns ======================\n"
     ]
    }
   ],
   "source": [
    "# Stage 3\n",
    "shape_after = df.shape\n",
    "print('after transformation\\t', shape_after)\n",
    "print('====================== added',shape_after[1]-shape_before[1],'columns ======================')"
   ]
  },
  {
   "cell_type": "markdown",
   "metadata": {},
   "source": [
    "### Condition 2 | nominal (baseline = Artery)"
   ]
  },
  {
   "cell_type": "code",
   "execution_count": 34,
   "metadata": {},
   "outputs": [
    {
     "name": "stdout",
     "output_type": "stream",
     "text": [
      "starting shape\t (2051, 131)\n"
     ]
    },
    {
     "data": {
      "text/plain": [
       "Norm      2025\n",
       "Feedr       11\n",
       "Artery       5\n",
       "PosA         3\n",
       "PosN         3\n",
       "RRNn         2\n",
       "RRAn         1\n",
       "RRAe         1\n",
       "Name: Condition 2, dtype: int64"
      ]
     },
     "execution_count": 34,
     "metadata": {},
     "output_type": "execute_result"
    }
   ],
   "source": [
    "# Stage 1\n",
    "column_name='Condition 2'\n",
    "shape_before = df.shape\n",
    "print('starting shape\\t', shape_before)\n",
    "df[column_name].value_counts()"
   ]
  },
  {
   "cell_type": "code",
   "execution_count": 35,
   "metadata": {},
   "outputs": [
    {
     "name": "stdout",
     "output_type": "stream",
     "text": [
      "cond2_Feedr\tcond2_Norm\tcond2_PosA\tcond2_PosN\tcond2_RRAe\tcond2_RRAn\tcond2_RRNn\t\n",
      "count ===>>> 7\n"
     ]
    }
   ],
   "source": [
    "# Stage 2 ==NOMINAL==\n",
    "prefix = 'cond2'\n",
    "prefix_search = prefix+'_'\n",
    "df=pd.get_dummies(df,prefix=prefix,columns=[column_name],drop_first=True)\n",
    "count = 0\n",
    "for i in df.columns:\n",
    "    if prefix_search in i:\n",
    "        print(i,end='\\t')\n",
    "        count += 1\n",
    "print('\\ncount ===>>>', count)"
   ]
  },
  {
   "cell_type": "code",
   "execution_count": 36,
   "metadata": {},
   "outputs": [
    {
     "name": "stdout",
     "output_type": "stream",
     "text": [
      "after transformation\t (2051, 137)\n",
      "====================== added 6 columns ======================\n"
     ]
    }
   ],
   "source": [
    "# Stage 3\n",
    "shape_after = df.shape\n",
    "print('after transformation\\t', shape_after)\n",
    "print('====================== added',shape_after[1]-shape_before[1],'columns ======================')"
   ]
  },
  {
   "cell_type": "markdown",
   "metadata": {},
   "source": [
    "### Bldg Type | nominal (baseline = 1Fam)"
   ]
  },
  {
   "cell_type": "code",
   "execution_count": 37,
   "metadata": {},
   "outputs": [
    {
     "name": "stdout",
     "output_type": "stream",
     "text": [
      "starting shape\t (2051, 137)\n"
     ]
    },
    {
     "data": {
      "text/plain": [
       "1Fam      1700\n",
       "TwnhsE     161\n",
       "Duplex      75\n",
       "Twnhs       69\n",
       "2fmCon      46\n",
       "Name: Bldg Type, dtype: int64"
      ]
     },
     "execution_count": 37,
     "metadata": {},
     "output_type": "execute_result"
    }
   ],
   "source": [
    "# Stage 1\n",
    "column_name='Bldg Type'\n",
    "shape_before = df.shape\n",
    "print('starting shape\\t', shape_before)\n",
    "df[column_name].value_counts()"
   ]
  },
  {
   "cell_type": "code",
   "execution_count": 38,
   "metadata": {},
   "outputs": [
    {
     "name": "stdout",
     "output_type": "stream",
     "text": [
      "bldgtype_2fmCon\tbldgtype_Duplex\tbldgtype_Twnhs\tbldgtype_TwnhsE\t\n",
      "count ===>>> 4\n"
     ]
    }
   ],
   "source": [
    "# Stage 2 ==NOMINAL==\n",
    "prefix = 'bldgtype'\n",
    "prefix_search = prefix+'_'\n",
    "df=pd.get_dummies(df,prefix=prefix,columns=[column_name],drop_first=True)\n",
    "count = 0\n",
    "for i in df.columns:\n",
    "    if prefix_search in i:\n",
    "        print(i,end='\\t')\n",
    "        count += 1\n",
    "print('\\ncount ===>>>', count)"
   ]
  },
  {
   "cell_type": "code",
   "execution_count": 39,
   "metadata": {},
   "outputs": [
    {
     "name": "stdout",
     "output_type": "stream",
     "text": [
      "after transformation\t (2051, 140)\n",
      "====================== added 3 columns ======================\n"
     ]
    }
   ],
   "source": [
    "# Stage 3\n",
    "shape_after = df.shape\n",
    "print('after transformation\\t', shape_after)\n",
    "print('====================== added',shape_after[1]-shape_before[1],'columns ======================')"
   ]
  },
  {
   "cell_type": "markdown",
   "metadata": {},
   "source": [
    "### Roof Style | nominal (baseline = Flat)"
   ]
  },
  {
   "cell_type": "code",
   "execution_count": 40,
   "metadata": {},
   "outputs": [
    {
     "name": "stdout",
     "output_type": "stream",
     "text": [
      "starting shape\t (2051, 140)\n"
     ]
    },
    {
     "data": {
      "text/plain": [
       "Gable      1619\n",
       "Hip         397\n",
       "Flat         13\n",
       "Gambrel      12\n",
       "Mansard       7\n",
       "Shed          3\n",
       "Name: Roof Style, dtype: int64"
      ]
     },
     "execution_count": 40,
     "metadata": {},
     "output_type": "execute_result"
    }
   ],
   "source": [
    "# Stage 1\n",
    "column_name='Roof Style'\n",
    "shape_before = df.shape\n",
    "print('starting shape\\t', shape_before)\n",
    "df[column_name].value_counts()"
   ]
  },
  {
   "cell_type": "code",
   "execution_count": 41,
   "metadata": {},
   "outputs": [
    {
     "name": "stdout",
     "output_type": "stream",
     "text": [
      "roofstyle_Gable\troofstyle_Gambrel\troofstyle_Hip\troofstyle_Mansard\troofstyle_Shed\t\n",
      "count ===>>> 5\n"
     ]
    }
   ],
   "source": [
    "# Stage 2 ==NOMINAL==\n",
    "prefix = 'roofstyle'\n",
    "prefix_search = prefix+'_'\n",
    "df=pd.get_dummies(df,prefix=prefix,columns=[column_name],drop_first=True)\n",
    "count = 0\n",
    "for i in df.columns:\n",
    "    if prefix_search in i:\n",
    "        print(i,end='\\t')\n",
    "        count += 1\n",
    "print('\\ncount ===>>>', count)"
   ]
  },
  {
   "cell_type": "code",
   "execution_count": 42,
   "metadata": {},
   "outputs": [
    {
     "name": "stdout",
     "output_type": "stream",
     "text": [
      "after transformation\t (2051, 144)\n",
      "====================== added 4 columns ======================\n"
     ]
    }
   ],
   "source": [
    "# Stage 3\n",
    "shape_after = df.shape\n",
    "print('after transformation\\t', shape_after)\n",
    "print('====================== added',shape_after[1]-shape_before[1],'columns ======================')"
   ]
  },
  {
   "cell_type": "markdown",
   "metadata": {},
   "source": [
    "### Roof Matl | nominal (baseline = ClyTile)"
   ]
  },
  {
   "cell_type": "code",
   "execution_count": 43,
   "metadata": {},
   "outputs": [
    {
     "name": "stdout",
     "output_type": "stream",
     "text": [
      "starting shape\t (2051, 144)\n"
     ]
    },
    {
     "data": {
      "text/plain": [
       "CompShg    2025\n",
       "Tar&Grv      15\n",
       "WdShngl       5\n",
       "WdShake       4\n",
       "Membran       1\n",
       "ClyTile       1\n",
       "Name: Roof Matl, dtype: int64"
      ]
     },
     "execution_count": 43,
     "metadata": {},
     "output_type": "execute_result"
    }
   ],
   "source": [
    "# Stage 1\n",
    "column_name='Roof Matl'\n",
    "shape_before = df.shape\n",
    "print('starting shape\\t', shape_before)\n",
    "df[column_name].value_counts()"
   ]
  },
  {
   "cell_type": "code",
   "execution_count": 44,
   "metadata": {},
   "outputs": [
    {
     "name": "stdout",
     "output_type": "stream",
     "text": [
      "roofmatl_CompShg\troofmatl_Membran\troofmatl_Tar&Grv\troofmatl_WdShake\troofmatl_WdShngl\t\n",
      "count ===>>> 5\n"
     ]
    }
   ],
   "source": [
    "# Stage 2 ==NOMINAL==\n",
    "prefix = 'roofmatl'\n",
    "prefix_search = prefix+'_'\n",
    "df=pd.get_dummies(df,prefix=prefix,columns=[column_name],drop_first=True)\n",
    "count = 0\n",
    "for i in df.columns:\n",
    "    if prefix_search in i:\n",
    "        print(i,end='\\t')\n",
    "        count += 1\n",
    "print('\\ncount ===>>>', count)"
   ]
  },
  {
   "cell_type": "code",
   "execution_count": 45,
   "metadata": {},
   "outputs": [
    {
     "name": "stdout",
     "output_type": "stream",
     "text": [
      "after transformation\t (2051, 148)\n",
      "====================== added 4 columns ======================\n"
     ]
    }
   ],
   "source": [
    "# Stage 3\n",
    "shape_after = df.shape\n",
    "print('after transformation\\t', shape_after)\n",
    "print('====================== added',shape_after[1]-shape_before[1],'columns ======================')"
   ]
  },
  {
   "cell_type": "markdown",
   "metadata": {},
   "source": [
    "### Exterior 1st | nominal (baseline = AsbShng)"
   ]
  },
  {
   "cell_type": "code",
   "execution_count": 46,
   "metadata": {},
   "outputs": [
    {
     "name": "stdout",
     "output_type": "stream",
     "text": [
      "starting shape\t (2051, 148)\n"
     ]
    },
    {
     "data": {
      "text/plain": [
       "VinylSd    724\n",
       "MetalSd    331\n",
       "HdBoard    300\n",
       "Wd Sdng    276\n",
       "Plywood    152\n",
       "CemntBd     90\n",
       "BrkFace     64\n",
       "WdShing     45\n",
       "AsbShng     33\n",
       "Stucco      27\n",
       "BrkComm      3\n",
       "CBlock       2\n",
       "Stone        2\n",
       "AsphShn      1\n",
       "ImStucc      1\n",
       "Name: Exterior 1st, dtype: int64"
      ]
     },
     "execution_count": 46,
     "metadata": {},
     "output_type": "execute_result"
    }
   ],
   "source": [
    "# Stage 1\n",
    "column_name='Exterior 1st'\n",
    "shape_before = df.shape\n",
    "print('starting shape\\t', shape_before)\n",
    "df[column_name].value_counts()"
   ]
  },
  {
   "cell_type": "code",
   "execution_count": 47,
   "metadata": {},
   "outputs": [
    {
     "name": "stdout",
     "output_type": "stream",
     "text": [
      "Ext1st_AsphShn\tExt1st_BrkComm\tExt1st_BrkFace\tExt1st_CBlock\tExt1st_CemntBd\tExt1st_HdBoard\tExt1st_ImStucc\tExt1st_MetalSd\tExt1st_Plywood\tExt1st_Stone\tExt1st_Stucco\tExt1st_VinylSd\tExt1st_Wd Sdng\tExt1st_WdShing\t\n",
      "count ===>>> 14\n"
     ]
    }
   ],
   "source": [
    "# Stage 2 ==NOMINAL==\n",
    "prefix = 'Ext1st'\n",
    "prefix_search = prefix+'_'\n",
    "df=pd.get_dummies(df,prefix=prefix,columns=[column_name],drop_first=True)\n",
    "count = 0\n",
    "for i in df.columns:\n",
    "    if prefix_search in i:\n",
    "        print(i,end='\\t')\n",
    "        count += 1\n",
    "print('\\ncount ===>>>', count)"
   ]
  },
  {
   "cell_type": "code",
   "execution_count": 48,
   "metadata": {},
   "outputs": [
    {
     "name": "stdout",
     "output_type": "stream",
     "text": [
      "after transformation\t (2051, 161)\n",
      "====================== added 13 columns ======================\n"
     ]
    }
   ],
   "source": [
    "# Stage 3\n",
    "shape_after = df.shape\n",
    "print('after transformation\\t', shape_after)\n",
    "print('====================== added',shape_after[1]-shape_before[1],'columns ======================')"
   ]
  },
  {
   "cell_type": "markdown",
   "metadata": {},
   "source": [
    "### Mas Vnr Type | nominal (baseline = BrkCmn)"
   ]
  },
  {
   "cell_type": "code",
   "execution_count": 49,
   "metadata": {},
   "outputs": [
    {
     "name": "stdout",
     "output_type": "stream",
     "text": [
      "starting shape\t (2051, 161)\n"
     ]
    },
    {
     "data": {
      "text/plain": [
       "None       1218\n",
       "BrkFace     630\n",
       "Stone       168\n",
       "BrkCmn       13\n",
       "Name: Mas Vnr Type, dtype: int64"
      ]
     },
     "execution_count": 49,
     "metadata": {},
     "output_type": "execute_result"
    }
   ],
   "source": [
    "# Stage 1\n",
    "column_name='Mas Vnr Type'\n",
    "shape_before = df.shape\n",
    "print('starting shape\\t', shape_before)\n",
    "df[column_name].value_counts()"
   ]
  },
  {
   "cell_type": "code",
   "execution_count": 50,
   "metadata": {},
   "outputs": [
    {
     "name": "stdout",
     "output_type": "stream",
     "text": [
      "MasVType_BrkFace\tMasVType_None\tMasVType_Stone\t\n",
      "count ===>>> 3\n"
     ]
    }
   ],
   "source": [
    "# Stage 2 ==NOMINAL==\n",
    "prefix = 'MasVType'\n",
    "prefix_search = prefix+'_'\n",
    "df=pd.get_dummies(df,prefix=prefix,columns=[column_name],drop_first=True)\n",
    "count = 0\n",
    "for i in df.columns:\n",
    "    if prefix_search in i:\n",
    "        print(i,end='\\t')\n",
    "        count += 1\n",
    "print('\\ncount ===>>>', count)"
   ]
  },
  {
   "cell_type": "code",
   "execution_count": 51,
   "metadata": {},
   "outputs": [
    {
     "name": "stdout",
     "output_type": "stream",
     "text": [
      "after transformation\t (2051, 163)\n",
      "====================== added 2 columns ======================\n"
     ]
    }
   ],
   "source": [
    "# Stage 3\n",
    "shape_after = df.shape\n",
    "print('after transformation\\t', shape_after)\n",
    "print('====================== added',shape_after[1]-shape_before[1],'columns ======================')"
   ]
  },
  {
   "cell_type": "markdown",
   "metadata": {},
   "source": [
    "### Mas Vnr Area | update missing values"
   ]
  },
  {
   "cell_type": "code",
   "execution_count": 52,
   "metadata": {},
   "outputs": [
    {
     "name": "stdout",
     "output_type": "stream",
     "text": [
      "starting shape\t (2051, 163)\n"
     ]
    }
   ],
   "source": [
    "# Stage 1\n",
    "column_name='Mas Vnr Area'\n",
    "shape_before = df.shape\n",
    "print('starting shape\\t', shape_before)"
   ]
  },
  {
   "cell_type": "code",
   "execution_count": 53,
   "metadata": {},
   "outputs": [],
   "source": [
    "# Stage 2\n",
    "fill_empty_with = 0\n",
    "df[column_name].fillna(fill_empty_with,inplace=True)"
   ]
  },
  {
   "cell_type": "code",
   "execution_count": 54,
   "metadata": {},
   "outputs": [
    {
     "name": "stdout",
     "output_type": "stream",
     "text": [
      "after transformation\t (2051, 163)\n",
      "====================== added 0 columns ======================\n"
     ]
    }
   ],
   "source": [
    "# Stage 3\n",
    "shape_after = df.shape\n",
    "print('after transformation\\t', shape_after)\n",
    "print('====================== added',shape_after[1]-shape_before[1],'columns ======================')"
   ]
  },
  {
   "cell_type": "markdown",
   "metadata": {},
   "source": [
    "### Exter Qual | ordinal"
   ]
  },
  {
   "cell_type": "code",
   "execution_count": 55,
   "metadata": {},
   "outputs": [
    {
     "name": "stdout",
     "output_type": "stream",
     "text": [
      "starting shape\t (2051, 163)\n"
     ]
    },
    {
     "data": {
      "text/plain": [
       "TA    1247\n",
       "Gd     697\n",
       "Ex      81\n",
       "Fa      26\n",
       "Name: Exter Qual, dtype: int64"
      ]
     },
     "execution_count": 55,
     "metadata": {},
     "output_type": "execute_result"
    }
   ],
   "source": [
    "# Stage 1\n",
    "column_name='Exter Qual'\n",
    "shape_before = df.shape\n",
    "print('starting shape\\t', shape_before)\n",
    "df[column_name].value_counts()"
   ]
  },
  {
   "cell_type": "code",
   "execution_count": 56,
   "metadata": {},
   "outputs": [
    {
     "name": "stdout",
     "output_type": "stream",
     "text": [
      "After transformation:\n"
     ]
    },
    {
     "data": {
      "text/plain": [
       "2    1247\n",
       "3     697\n",
       "4      81\n",
       "1      26\n",
       "Name: Exter Qual, dtype: int64"
      ]
     },
     "execution_count": 56,
     "metadata": {},
     "output_type": "execute_result"
    }
   ],
   "source": [
    "# Stage 2 ==ORDINAL==\n",
    "# dummy = 0, followed by increasing merit\n",
    "category_list = ['dummy','Fa','TA','Gd','Ex']\n",
    "df[column_name]=pd.Categorical(df[column_name],ordered=True,categories=category_list).codes\n",
    "print('After transformation:')\n",
    "df[column_name].value_counts()"
   ]
  },
  {
   "cell_type": "code",
   "execution_count": 57,
   "metadata": {},
   "outputs": [
    {
     "name": "stdout",
     "output_type": "stream",
     "text": [
      "after transformation\t (2051, 163)\n",
      "====================== added 0 columns ======================\n"
     ]
    }
   ],
   "source": [
    "# Stage 3\n",
    "shape_after = df.shape\n",
    "print('after transformation\\t', shape_after)\n",
    "print('====================== added',shape_after[1]-shape_before[1],'columns ======================')"
   ]
  },
  {
   "cell_type": "markdown",
   "metadata": {},
   "source": [
    "### Exter Cond | ordinal"
   ]
  },
  {
   "cell_type": "code",
   "execution_count": 58,
   "metadata": {},
   "outputs": [
    {
     "name": "stdout",
     "output_type": "stream",
     "text": [
      "starting shape\t (2051, 163)\n"
     ]
    },
    {
     "data": {
      "text/plain": [
       "TA    1778\n",
       "Gd     215\n",
       "Fa      49\n",
       "Ex       7\n",
       "Po       2\n",
       "Name: Exter Cond, dtype: int64"
      ]
     },
     "execution_count": 58,
     "metadata": {},
     "output_type": "execute_result"
    }
   ],
   "source": [
    "# Stage 1\n",
    "column_name='Exter Cond'\n",
    "shape_before = df.shape\n",
    "print('starting shape\\t', shape_before)\n",
    "df[column_name].value_counts()"
   ]
  },
  {
   "cell_type": "code",
   "execution_count": 59,
   "metadata": {},
   "outputs": [
    {
     "name": "stdout",
     "output_type": "stream",
     "text": [
      "After transformation:\n"
     ]
    },
    {
     "data": {
      "text/plain": [
       "3    1778\n",
       "4     215\n",
       "2      49\n",
       "5       7\n",
       "1       2\n",
       "Name: Exter Cond, dtype: int64"
      ]
     },
     "execution_count": 59,
     "metadata": {},
     "output_type": "execute_result"
    }
   ],
   "source": [
    "# Stage 2 ==ORDINAL==\n",
    "# dummy = 0, followed by increasing merit\n",
    "category_list = ['dummy','Po','Fa','TA','Gd','Ex']\n",
    "df[column_name]=pd.Categorical(df[column_name],ordered=True,categories=category_list).codes\n",
    "print('After transformation:')\n",
    "df[column_name].value_counts()"
   ]
  },
  {
   "cell_type": "code",
   "execution_count": 60,
   "metadata": {},
   "outputs": [
    {
     "name": "stdout",
     "output_type": "stream",
     "text": [
      "after transformation\t (2051, 163)\n",
      "====================== added 0 columns ======================\n"
     ]
    }
   ],
   "source": [
    "# Stage 3\n",
    "shape_after = df.shape\n",
    "print('after transformation\\t', shape_after)\n",
    "print('====================== added',shape_after[1]-shape_before[1],'columns ======================')"
   ]
  },
  {
   "cell_type": "markdown",
   "metadata": {},
   "source": [
    "### Bsmt Qual | ordinal"
   ]
  },
  {
   "cell_type": "code",
   "execution_count": 61,
   "metadata": {},
   "outputs": [
    {
     "name": "stdout",
     "output_type": "stream",
     "text": [
      "starting shape\t (2051, 163)\n",
      "Bsmt Qual is empty in 55 rows\n"
     ]
    },
    {
     "data": {
      "text/plain": [
       "TA    887\n",
       "Gd    864\n",
       "Ex    184\n",
       "Fa     60\n",
       "Po      1\n",
       "Name: Bsmt Qual, dtype: int64"
      ]
     },
     "execution_count": 61,
     "metadata": {},
     "output_type": "execute_result"
    }
   ],
   "source": [
    "# Stage 1\n",
    "column_name='Bsmt Qual'\n",
    "shape_before = df.shape\n",
    "print('starting shape\\t', shape_before)\n",
    "print(column_name,'is empty in',df[df[column_name].isnull()].shape[0],'rows')\n",
    "df[column_name].value_counts()"
   ]
  },
  {
   "cell_type": "code",
   "execution_count": 62,
   "metadata": {},
   "outputs": [
    {
     "data": {
      "text/plain": [
       "TA    887\n",
       "Gd    864\n",
       "Ex    184\n",
       "Fa     60\n",
       "NA     55\n",
       "Po      1\n",
       "Name: Bsmt Qual, dtype: int64"
      ]
     },
     "execution_count": 62,
     "metadata": {},
     "output_type": "execute_result"
    }
   ],
   "source": [
    "# Stage 1^\n",
    "fill_empty_with = 'NA'\n",
    "df[column_name].fillna(fill_empty_with,inplace=True)\n",
    "df[column_name].value_counts()"
   ]
  },
  {
   "cell_type": "code",
   "execution_count": 63,
   "metadata": {},
   "outputs": [
    {
     "name": "stdout",
     "output_type": "stream",
     "text": [
      "After transformation:\n"
     ]
    },
    {
     "data": {
      "text/plain": [
       "3    887\n",
       "4    864\n",
       "5    184\n",
       "2     60\n",
       "0     55\n",
       "1      1\n",
       "Name: Bsmt Qual, dtype: int64"
      ]
     },
     "execution_count": 63,
     "metadata": {},
     "output_type": "execute_result"
    }
   ],
   "source": [
    "# Stage 2 ==ORDINAL==\n",
    "# dummy = 0, followed by increasing merit\n",
    "category_list = ['NA','Po','Fa','TA','Gd','Ex']\n",
    "df[column_name]=pd.Categorical(df[column_name],ordered=True,categories=category_list).codes\n",
    "print('After transformation:')\n",
    "df[column_name].value_counts()"
   ]
  },
  {
   "cell_type": "code",
   "execution_count": 64,
   "metadata": {},
   "outputs": [
    {
     "name": "stdout",
     "output_type": "stream",
     "text": [
      "after transformation\t (2051, 163)\n",
      "====================== added 0 columns ======================\n"
     ]
    }
   ],
   "source": [
    "# Stage 3\n",
    "shape_after = df.shape\n",
    "print('after transformation\\t', shape_after)\n",
    "print('====================== added',shape_after[1]-shape_before[1],'columns ======================')"
   ]
  },
  {
   "cell_type": "markdown",
   "metadata": {},
   "source": [
    "### Bsmt Cond | ordinal"
   ]
  },
  {
   "cell_type": "code",
   "execution_count": 65,
   "metadata": {},
   "outputs": [
    {
     "name": "stdout",
     "output_type": "stream",
     "text": [
      "starting shape\t (2051, 163)\n",
      "Bsmt Cond is empty in 55 rows\n"
     ]
    },
    {
     "data": {
      "text/plain": [
       "TA    1834\n",
       "Gd      89\n",
       "Fa      65\n",
       "Po       5\n",
       "Ex       3\n",
       "Name: Bsmt Cond, dtype: int64"
      ]
     },
     "execution_count": 65,
     "metadata": {},
     "output_type": "execute_result"
    }
   ],
   "source": [
    "# Stage 1\n",
    "column_name='Bsmt Cond'\n",
    "shape_before = df.shape\n",
    "print('starting shape\\t', shape_before)\n",
    "print(column_name,'is empty in',df[df[column_name].isnull()].shape[0],'rows')\n",
    "df[column_name].value_counts()"
   ]
  },
  {
   "cell_type": "code",
   "execution_count": 66,
   "metadata": {},
   "outputs": [
    {
     "data": {
      "text/plain": [
       "TA    1834\n",
       "Gd      89\n",
       "Fa      65\n",
       "NA      55\n",
       "Po       5\n",
       "Ex       3\n",
       "Name: Bsmt Cond, dtype: int64"
      ]
     },
     "execution_count": 66,
     "metadata": {},
     "output_type": "execute_result"
    }
   ],
   "source": [
    "# Stage 1^\n",
    "fill_empty_with = 'NA'\n",
    "df[column_name].fillna(fill_empty_with,inplace=True)\n",
    "df[column_name].value_counts()"
   ]
  },
  {
   "cell_type": "code",
   "execution_count": 67,
   "metadata": {},
   "outputs": [
    {
     "name": "stdout",
     "output_type": "stream",
     "text": [
      "After transformation:\n"
     ]
    },
    {
     "data": {
      "text/plain": [
       "3    1834\n",
       "4      89\n",
       "2      65\n",
       "0      55\n",
       "1       5\n",
       "5       3\n",
       "Name: Bsmt Cond, dtype: int64"
      ]
     },
     "execution_count": 67,
     "metadata": {},
     "output_type": "execute_result"
    }
   ],
   "source": [
    "# Stage 2 ==ORDINAL==\n",
    "# dummy = 0, followed by increasing merit\n",
    "category_list = ['NA','Po','Fa','TA','Gd','Ex']\n",
    "df[column_name]=pd.Categorical(df[column_name],ordered=True,categories=category_list).codes\n",
    "print('After transformation:')\n",
    "df[column_name].value_counts()"
   ]
  },
  {
   "cell_type": "code",
   "execution_count": 68,
   "metadata": {},
   "outputs": [
    {
     "name": "stdout",
     "output_type": "stream",
     "text": [
      "after transformation\t (2051, 163)\n",
      "====================== added 0 columns ======================\n"
     ]
    }
   ],
   "source": [
    "# Stage 3\n",
    "shape_after = df.shape\n",
    "print('after transformation\\t', shape_after)\n",
    "print('====================== added',shape_after[1]-shape_before[1],'columns ======================')"
   ]
  },
  {
   "cell_type": "markdown",
   "metadata": {},
   "source": [
    "### Bsmt Exposure | ordinal"
   ]
  },
  {
   "cell_type": "code",
   "execution_count": 69,
   "metadata": {},
   "outputs": [
    {
     "name": "stdout",
     "output_type": "stream",
     "text": [
      "starting shape\t (2051, 163)\n",
      "Bsmt Exposure is empty in 58 rows\n"
     ]
    },
    {
     "data": {
      "text/plain": [
       "No    1339\n",
       "Av     288\n",
       "Gd     203\n",
       "Mn     163\n",
       "Name: Bsmt Exposure, dtype: int64"
      ]
     },
     "execution_count": 69,
     "metadata": {},
     "output_type": "execute_result"
    }
   ],
   "source": [
    "# Stage 1\n",
    "column_name='Bsmt Exposure'\n",
    "shape_before = df.shape\n",
    "print('starting shape\\t', shape_before)\n",
    "print(column_name,'is empty in',df[df[column_name].isnull()].shape[0],'rows')\n",
    "df[column_name].value_counts()"
   ]
  },
  {
   "cell_type": "code",
   "execution_count": 70,
   "metadata": {},
   "outputs": [
    {
     "data": {
      "text/plain": [
       "No    1339\n",
       "Av     288\n",
       "Gd     203\n",
       "Mn     163\n",
       "NA      58\n",
       "Name: Bsmt Exposure, dtype: int64"
      ]
     },
     "execution_count": 70,
     "metadata": {},
     "output_type": "execute_result"
    }
   ],
   "source": [
    "# Stage 1^\n",
    "fill_empty_with = 'NA'\n",
    "df[column_name].fillna(fill_empty_with,inplace=True)\n",
    "df[column_name].value_counts()"
   ]
  },
  {
   "cell_type": "code",
   "execution_count": 71,
   "metadata": {},
   "outputs": [
    {
     "name": "stdout",
     "output_type": "stream",
     "text": [
      "After transformation:\n"
     ]
    },
    {
     "data": {
      "text/plain": [
       "1    1339\n",
       "3     288\n",
       "4     203\n",
       "2     163\n",
       "0      58\n",
       "Name: Bsmt Exposure, dtype: int64"
      ]
     },
     "execution_count": 71,
     "metadata": {},
     "output_type": "execute_result"
    }
   ],
   "source": [
    "# Stage 2 ==ORDINAL==\n",
    "# dummy = 0, followed by increasing merit\n",
    "category_list = ['NA','No','Mn','Av','Gd']\n",
    "df[column_name]=pd.Categorical(df[column_name],ordered=True,categories=category_list).codes\n",
    "print('After transformation:')\n",
    "df[column_name].value_counts()"
   ]
  },
  {
   "cell_type": "code",
   "execution_count": 72,
   "metadata": {},
   "outputs": [
    {
     "name": "stdout",
     "output_type": "stream",
     "text": [
      "after transformation\t (2051, 163)\n",
      "====================== added 0 columns ======================\n"
     ]
    }
   ],
   "source": [
    "# Stage 3\n",
    "shape_after = df.shape\n",
    "print('after transformation\\t', shape_after)\n",
    "print('====================== added',shape_after[1]-shape_before[1],'columns ======================')"
   ]
  },
  {
   "cell_type": "markdown",
   "metadata": {},
   "source": [
    "### BsmtFin Type 1 | ordinal"
   ]
  },
  {
   "cell_type": "code",
   "execution_count": 73,
   "metadata": {},
   "outputs": [
    {
     "name": "stdout",
     "output_type": "stream",
     "text": [
      "starting shape\t (2051, 163)\n",
      "BsmtFin Type 1 is empty in 55 rows\n"
     ]
    },
    {
     "data": {
      "text/plain": [
       "GLQ    615\n",
       "Unf    603\n",
       "ALQ    293\n",
       "BLQ    200\n",
       "Rec    183\n",
       "LwQ    102\n",
       "Name: BsmtFin Type 1, dtype: int64"
      ]
     },
     "execution_count": 73,
     "metadata": {},
     "output_type": "execute_result"
    }
   ],
   "source": [
    "# Stage 1\n",
    "column_name='BsmtFin Type 1'\n",
    "shape_before = df.shape\n",
    "print('starting shape\\t', shape_before)\n",
    "print(column_name,'is empty in',df[df[column_name].isnull()].shape[0],'rows')\n",
    "df[column_name].value_counts()"
   ]
  },
  {
   "cell_type": "code",
   "execution_count": 74,
   "metadata": {},
   "outputs": [
    {
     "data": {
      "text/plain": [
       "GLQ    615\n",
       "Unf    603\n",
       "ALQ    293\n",
       "BLQ    200\n",
       "Rec    183\n",
       "LwQ    102\n",
       "NA      55\n",
       "Name: BsmtFin Type 1, dtype: int64"
      ]
     },
     "execution_count": 74,
     "metadata": {},
     "output_type": "execute_result"
    }
   ],
   "source": [
    "# Stage 1^\n",
    "fill_empty_with = 'NA'\n",
    "df[column_name].fillna(fill_empty_with,inplace=True)\n",
    "df[column_name].value_counts()"
   ]
  },
  {
   "cell_type": "code",
   "execution_count": 75,
   "metadata": {},
   "outputs": [
    {
     "name": "stdout",
     "output_type": "stream",
     "text": [
      "After transformation:\n"
     ]
    },
    {
     "data": {
      "text/plain": [
       "6    615\n",
       "1    603\n",
       "5    293\n",
       "4    200\n",
       "3    183\n",
       "2    102\n",
       "0     55\n",
       "Name: BsmtFin Type 1, dtype: int64"
      ]
     },
     "execution_count": 75,
     "metadata": {},
     "output_type": "execute_result"
    }
   ],
   "source": [
    "# Stage 2 ==ORDINAL==\n",
    "# dummy = 0, followed by increasing merit\n",
    "category_list = ['NA','Unf','LwQ','Rec','BLQ','ALQ','GLQ']\n",
    "df[column_name]=pd.Categorical(df[column_name],ordered=True,categories=category_list).codes\n",
    "print('After transformation:')\n",
    "df[column_name].value_counts()"
   ]
  },
  {
   "cell_type": "code",
   "execution_count": 76,
   "metadata": {},
   "outputs": [
    {
     "name": "stdout",
     "output_type": "stream",
     "text": [
      "after transformation\t (2051, 163)\n",
      "====================== added 0 columns ======================\n"
     ]
    }
   ],
   "source": [
    "# Stage 3\n",
    "shape_after = df.shape\n",
    "print('after transformation\\t', shape_after)\n",
    "print('====================== added',shape_after[1]-shape_before[1],'columns ======================')"
   ]
  },
  {
   "cell_type": "markdown",
   "metadata": {},
   "source": [
    "### BsmtFin SF 1 | DROPPED (32% zeros) "
   ]
  },
  {
   "cell_type": "code",
   "execution_count": 77,
   "metadata": {},
   "outputs": [
    {
     "name": "stdout",
     "output_type": "stream",
     "text": [
      "starting shape\t (2051, 163)\n",
      "BsmtFin SF 1 is empty in 1 rows\n",
      "BsmtFin SF 1 is zero in 657 rows\n"
     ]
    }
   ],
   "source": [
    "# Stage 1\n",
    "column_name='BsmtFin SF 1'\n",
    "shape_before = df.shape\n",
    "print('starting shape\\t', shape_before)\n",
    "print(column_name,'is empty in',df[df[column_name].isnull()].shape[0],'rows')\n",
    "print(column_name,'is zero in',df[df[column_name] == 0].shape[0],'rows')"
   ]
  },
  {
   "cell_type": "code",
   "execution_count": 78,
   "metadata": {},
   "outputs": [],
   "source": [
    "# Stage 2\n",
    "# Drop column\n",
    "df.drop(column_name,axis=1,inplace=True);"
   ]
  },
  {
   "cell_type": "code",
   "execution_count": 79,
   "metadata": {},
   "outputs": [
    {
     "name": "stdout",
     "output_type": "stream",
     "text": [
      "after transformation\t (2051, 162)\n",
      "====================== added -1 columns ======================\n"
     ]
    }
   ],
   "source": [
    "# Stage 3\n",
    "shape_after = df.shape\n",
    "print('after transformation\\t', shape_after)\n",
    "print('====================== added',shape_after[1]-shape_before[1],'columns ======================')"
   ]
  },
  {
   "cell_type": "markdown",
   "metadata": {},
   "source": [
    "### BsmtFin SF 2 | DROPPED (88% zeros) "
   ]
  },
  {
   "cell_type": "code",
   "execution_count": 80,
   "metadata": {},
   "outputs": [
    {
     "name": "stdout",
     "output_type": "stream",
     "text": [
      "starting shape\t (2051, 162)\n",
      "BsmtFin SF 2 is empty in 1 rows\n",
      "BsmtFin SF 2 is zero in 1803 rows\n"
     ]
    }
   ],
   "source": [
    "# Stage 1\n",
    "column_name='BsmtFin SF 2'\n",
    "shape_before = df.shape\n",
    "print('starting shape\\t', shape_before)\n",
    "print(column_name,'is empty in',df[df[column_name].isnull()].shape[0],'rows')\n",
    "print(column_name,'is zero in',df[df[column_name] == 0].shape[0],'rows')"
   ]
  },
  {
   "cell_type": "code",
   "execution_count": 81,
   "metadata": {},
   "outputs": [],
   "source": [
    "# Stage 2\n",
    "# Drop column\n",
    "df.drop(column_name,axis=1,inplace=True);"
   ]
  },
  {
   "cell_type": "code",
   "execution_count": 82,
   "metadata": {},
   "outputs": [
    {
     "name": "stdout",
     "output_type": "stream",
     "text": [
      "after transformation\t (2051, 161)\n",
      "====================== added -1 columns ======================\n"
     ]
    }
   ],
   "source": [
    "# Stage 3\n",
    "shape_after = df.shape\n",
    "print('after transformation\\t', shape_after)\n",
    "print('====================== added',shape_after[1]-shape_before[1],'columns ======================')"
   ]
  },
  {
   "cell_type": "markdown",
   "metadata": {},
   "source": [
    "### BsmtFin Type 2 | ordinal"
   ]
  },
  {
   "cell_type": "code",
   "execution_count": 83,
   "metadata": {},
   "outputs": [
    {
     "name": "stdout",
     "output_type": "stream",
     "text": [
      "starting shape\t (2051, 161)\n",
      "BsmtFin Type 2 is empty in 56 rows\n"
     ]
    },
    {
     "data": {
      "text/plain": [
       "Unf    1749\n",
       "Rec      80\n",
       "LwQ      60\n",
       "BLQ      48\n",
       "ALQ      35\n",
       "GLQ      23\n",
       "Name: BsmtFin Type 2, dtype: int64"
      ]
     },
     "execution_count": 83,
     "metadata": {},
     "output_type": "execute_result"
    }
   ],
   "source": [
    "# Stage 1\n",
    "column_name='BsmtFin Type 2'\n",
    "shape_before = df.shape\n",
    "print('starting shape\\t', shape_before)\n",
    "print(column_name,'is empty in',df[df[column_name].isnull()].shape[0],'rows')\n",
    "df[column_name].value_counts()"
   ]
  },
  {
   "cell_type": "code",
   "execution_count": 84,
   "metadata": {},
   "outputs": [
    {
     "data": {
      "text/plain": [
       "Unf    1749\n",
       "Rec      80\n",
       "LwQ      60\n",
       "NA       56\n",
       "BLQ      48\n",
       "ALQ      35\n",
       "GLQ      23\n",
       "Name: BsmtFin Type 2, dtype: int64"
      ]
     },
     "execution_count": 84,
     "metadata": {},
     "output_type": "execute_result"
    }
   ],
   "source": [
    "# Stage 1^\n",
    "fill_empty_with = 'NA'\n",
    "df[column_name].fillna(fill_empty_with,inplace=True)\n",
    "df[column_name].value_counts()"
   ]
  },
  {
   "cell_type": "code",
   "execution_count": 85,
   "metadata": {},
   "outputs": [
    {
     "name": "stdout",
     "output_type": "stream",
     "text": [
      "After transformation:\n"
     ]
    },
    {
     "data": {
      "text/plain": [
       "1    1749\n",
       "3      80\n",
       "2      60\n",
       "0      56\n",
       "4      48\n",
       "5      35\n",
       "6      23\n",
       "Name: BsmtFin Type 2, dtype: int64"
      ]
     },
     "execution_count": 85,
     "metadata": {},
     "output_type": "execute_result"
    }
   ],
   "source": [
    "# Stage 2 ==ORDINAL==\n",
    "# dummy = 0, followed by increasing merit\n",
    "category_list = ['NA','Unf','LwQ','Rec','BLQ','ALQ','GLQ']\n",
    "df[column_name]=pd.Categorical(df[column_name],ordered=True,categories=category_list).codes\n",
    "print('After transformation:')\n",
    "df[column_name].value_counts()"
   ]
  },
  {
   "cell_type": "code",
   "execution_count": 86,
   "metadata": {},
   "outputs": [
    {
     "name": "stdout",
     "output_type": "stream",
     "text": [
      "after transformation\t (2051, 161)\n",
      "====================== added 0 columns ======================\n"
     ]
    }
   ],
   "source": [
    "# Stage 3\n",
    "shape_after = df.shape\n",
    "print('after transformation\\t', shape_after)\n",
    "print('====================== added',shape_after[1]-shape_before[1],'columns ======================')"
   ]
  },
  {
   "cell_type": "markdown",
   "metadata": {},
   "source": [
    "### Heating | nominal (baseline = GasA)"
   ]
  },
  {
   "cell_type": "code",
   "execution_count": 87,
   "metadata": {},
   "outputs": [
    {
     "name": "stdout",
     "output_type": "stream",
     "text": [
      "starting shape\t (2051, 161)\n"
     ]
    },
    {
     "data": {
      "text/plain": [
       "GasA    2018\n",
       "GasW      20\n",
       "Wall       6\n",
       "Grav       5\n",
       "OthW       2\n",
       "Name: Heating, dtype: int64"
      ]
     },
     "execution_count": 87,
     "metadata": {},
     "output_type": "execute_result"
    }
   ],
   "source": [
    "# Stage 1\n",
    "column_name='Heating'\n",
    "shape_before = df.shape\n",
    "print('starting shape\\t', shape_before)\n",
    "df[column_name].value_counts()"
   ]
  },
  {
   "cell_type": "code",
   "execution_count": 88,
   "metadata": {},
   "outputs": [
    {
     "name": "stdout",
     "output_type": "stream",
     "text": [
      "Heating_GasW\tHeating_Grav\tHeating_OthW\tHeating_Wall\t\n",
      "count ===>>> 4\n"
     ]
    }
   ],
   "source": [
    "# Stage 2 ==NOMINAL==\n",
    "# prefix = column_name\n",
    "prefix = 'Heating'\n",
    "prefix_search = prefix+'_'\n",
    "df=pd.get_dummies(df,prefix=prefix,columns=[column_name],drop_first=True)\n",
    "count = 0\n",
    "for i in df.columns:\n",
    "    if prefix_search in i:\n",
    "        print(i,end='\\t')\n",
    "        count += 1\n",
    "print('\\ncount ===>>>', count)"
   ]
  },
  {
   "cell_type": "code",
   "execution_count": 89,
   "metadata": {},
   "outputs": [
    {
     "name": "stdout",
     "output_type": "stream",
     "text": [
      "after transformation\t (2051, 164)\n",
      "====================== added 3 columns ======================\n"
     ]
    }
   ],
   "source": [
    "# Stage 3\n",
    "shape_after = df.shape\n",
    "print('after transformation\\t', shape_after)\n",
    "print('====================== added',shape_after[1]-shape_before[1],'columns ======================')"
   ]
  },
  {
   "cell_type": "markdown",
   "metadata": {},
   "source": [
    "### Heating QC | ordinal"
   ]
  },
  {
   "cell_type": "code",
   "execution_count": 90,
   "metadata": {},
   "outputs": [
    {
     "name": "stdout",
     "output_type": "stream",
     "text": [
      "starting shape\t (2051, 164)\n",
      "Heating QC is empty in 0 rows\n"
     ]
    },
    {
     "data": {
      "text/plain": [
       "Ex    1065\n",
       "TA     597\n",
       "Gd     319\n",
       "Fa      67\n",
       "Po       3\n",
       "Name: Heating QC, dtype: int64"
      ]
     },
     "execution_count": 90,
     "metadata": {},
     "output_type": "execute_result"
    }
   ],
   "source": [
    "# Stage 1\n",
    "column_name='Heating QC'\n",
    "shape_before = df.shape\n",
    "print('starting shape\\t', shape_before)\n",
    "print(column_name,'is empty in',df[df[column_name].isnull()].shape[0],'rows')\n",
    "df[column_name].value_counts()"
   ]
  },
  {
   "cell_type": "code",
   "execution_count": 91,
   "metadata": {},
   "outputs": [
    {
     "name": "stdout",
     "output_type": "stream",
     "text": [
      "After transformation:\n"
     ]
    },
    {
     "data": {
      "text/plain": [
       "5    1065\n",
       "3     597\n",
       "4     319\n",
       "2      67\n",
       "1       3\n",
       "Name: Heating QC, dtype: int64"
      ]
     },
     "execution_count": 91,
     "metadata": {},
     "output_type": "execute_result"
    }
   ],
   "source": [
    "# Stage 2 ==ORDINAL==\n",
    "# dummy = 0, followed by increasing merit\n",
    "category_list = ['dummy','Po','Fa','TA','Gd','Ex']\n",
    "df[column_name]=pd.Categorical(df[column_name],ordered=True,categories=category_list).codes\n",
    "print('After transformation:')\n",
    "df[column_name].value_counts()"
   ]
  },
  {
   "cell_type": "code",
   "execution_count": 92,
   "metadata": {},
   "outputs": [
    {
     "name": "stdout",
     "output_type": "stream",
     "text": [
      "after transformation\t (2051, 164)\n",
      "====================== added 0 columns ======================\n"
     ]
    }
   ],
   "source": [
    "# Stage 3\n",
    "shape_after = df.shape\n",
    "print('after transformation\\t', shape_after)\n",
    "print('====================== added',shape_after[1]-shape_before[1],'columns ======================')"
   ]
  },
  {
   "cell_type": "markdown",
   "metadata": {},
   "source": [
    "### Central Air | nominal (baseline = 0)"
   ]
  },
  {
   "cell_type": "code",
   "execution_count": 93,
   "metadata": {},
   "outputs": [
    {
     "name": "stdout",
     "output_type": "stream",
     "text": [
      "starting shape\t (2051, 164)\n"
     ]
    },
    {
     "data": {
      "text/plain": [
       "Y    1910\n",
       "N     141\n",
       "Name: Central Air, dtype: int64"
      ]
     },
     "execution_count": 93,
     "metadata": {},
     "output_type": "execute_result"
    }
   ],
   "source": [
    "# Stage 1\n",
    "column_name='Central Air'\n",
    "shape_before = df.shape\n",
    "print('starting shape\\t', shape_before)\n",
    "df[column_name].value_counts()"
   ]
  },
  {
   "cell_type": "code",
   "execution_count": 94,
   "metadata": {},
   "outputs": [
    {
     "data": {
      "text/plain": [
       "1    1910\n",
       "0     141\n",
       "Name: Central Air, dtype: int64"
      ]
     },
     "execution_count": 94,
     "metadata": {},
     "output_type": "execute_result"
    }
   ],
   "source": [
    "# change values to integer\n",
    "df[column_name] = df[column_name].map(lambda x: 1 if x=='Y' else 0)\n",
    "df[column_name].value_counts()"
   ]
  },
  {
   "cell_type": "code",
   "execution_count": 95,
   "metadata": {},
   "outputs": [
    {
     "name": "stdout",
     "output_type": "stream",
     "text": [
      "CentralAir_1\t\n",
      "count ===>>> 1\n"
     ]
    }
   ],
   "source": [
    "# Stage 2 ==NOMINAL==\n",
    "prefix = 'CentralAir'\n",
    "prefix_search = prefix+'_'\n",
    "df=pd.get_dummies(df,prefix=prefix,columns=[column_name],drop_first=True)\n",
    "count = 0\n",
    "for i in df.columns:\n",
    "    if prefix_search in i:\n",
    "        print(i,end='\\t')\n",
    "        count += 1\n",
    "print('\\ncount ===>>>', count)"
   ]
  },
  {
   "cell_type": "code",
   "execution_count": 96,
   "metadata": {},
   "outputs": [
    {
     "name": "stdout",
     "output_type": "stream",
     "text": [
      "after transformation\t (2051, 164)\n",
      "====================== added 0 columns ======================\n"
     ]
    }
   ],
   "source": [
    "# Stage 3\n",
    "shape_after = df.shape\n",
    "print('after transformation\\t', shape_after)\n",
    "print('====================== added',shape_after[1]-shape_before[1],'columns ======================')"
   ]
  },
  {
   "cell_type": "markdown",
   "metadata": {},
   "source": [
    "### Electrical | ordinal"
   ]
  },
  {
   "cell_type": "code",
   "execution_count": 97,
   "metadata": {},
   "outputs": [
    {
     "name": "stdout",
     "output_type": "stream",
     "text": [
      "starting shape\t (2051, 164)\n",
      "Electrical is empty in 0 rows\n"
     ]
    },
    {
     "data": {
      "text/plain": [
       "SBrkr    1868\n",
       "FuseA     140\n",
       "FuseF      35\n",
       "FuseP       7\n",
       "Mix         1\n",
       "Name: Electrical, dtype: int64"
      ]
     },
     "execution_count": 97,
     "metadata": {},
     "output_type": "execute_result"
    }
   ],
   "source": [
    "# Stage 1\n",
    "column_name='Electrical'\n",
    "shape_before = df.shape\n",
    "print('starting shape\\t', shape_before)\n",
    "print(column_name,'is empty in',df[df[column_name].isnull()].shape[0],'rows')\n",
    "df[column_name].value_counts()"
   ]
  },
  {
   "cell_type": "code",
   "execution_count": 98,
   "metadata": {},
   "outputs": [
    {
     "name": "stdout",
     "output_type": "stream",
     "text": [
      "After transformation:\n"
     ]
    },
    {
     "data": {
      "text/plain": [
       "5    1868\n",
       "4     140\n",
       "3      35\n",
       "2       7\n",
       "1       1\n",
       "Name: Electrical, dtype: int64"
      ]
     },
     "execution_count": 98,
     "metadata": {},
     "output_type": "execute_result"
    }
   ],
   "source": [
    "# Stage 2 ==ORDINAL==\n",
    "# dummy = 0, followed by increasing merit\n",
    "category_list = ['dummy','Mix','FuseP','FuseF','FuseA','SBrkr']\n",
    "df[column_name]=pd.Categorical(df[column_name],ordered=True,categories=category_list).codes\n",
    "print('After transformation:')\n",
    "df[column_name].value_counts()"
   ]
  },
  {
   "cell_type": "code",
   "execution_count": 99,
   "metadata": {},
   "outputs": [
    {
     "name": "stdout",
     "output_type": "stream",
     "text": [
      "after transformation\t (2051, 164)\n",
      "====================== added 0 columns ======================\n"
     ]
    }
   ],
   "source": [
    "# Stage 3\n",
    "shape_after = df.shape\n",
    "print('after transformation\\t', shape_after)\n",
    "print('====================== added',shape_after[1]-shape_before[1],'columns ======================')"
   ]
  },
  {
   "cell_type": "markdown",
   "metadata": {},
   "source": [
    "### Low Qual Fin SF | DROPPED (98% zeros) "
   ]
  },
  {
   "cell_type": "code",
   "execution_count": 100,
   "metadata": {},
   "outputs": [
    {
     "name": "stdout",
     "output_type": "stream",
     "text": [
      "starting shape\t (2051, 164)\n",
      "Low Qual Fin SF is empty in 0 rows\n",
      "Low Qual Fin SF is zero in 2018 rows\n"
     ]
    }
   ],
   "source": [
    "# Stage 1\n",
    "column_name='Low Qual Fin SF'\n",
    "shape_before = df.shape\n",
    "print('starting shape\\t', shape_before)\n",
    "print(column_name,'is empty in',df[df[column_name].isnull()].shape[0],'rows')\n",
    "print(column_name,'is zero in',df[df[column_name] == 0].shape[0],'rows')"
   ]
  },
  {
   "cell_type": "code",
   "execution_count": 101,
   "metadata": {},
   "outputs": [],
   "source": [
    "# Stage 2\n",
    "# Drop column\n",
    "df.drop(column_name,axis=1,inplace=True);"
   ]
  },
  {
   "cell_type": "code",
   "execution_count": 102,
   "metadata": {},
   "outputs": [
    {
     "name": "stdout",
     "output_type": "stream",
     "text": [
      "after transformation\t (2051, 163)\n",
      "====================== added -1 columns ======================\n"
     ]
    }
   ],
   "source": [
    "# Stage 3\n",
    "shape_after = df.shape\n",
    "print('after transformation\\t', shape_after)\n",
    "print('====================== added',shape_after[1]-shape_before[1],'columns ======================')"
   ]
  },
  {
   "cell_type": "markdown",
   "metadata": {},
   "source": [
    "### Bsmt Full Bath | update missing values"
   ]
  },
  {
   "cell_type": "code",
   "execution_count": 103,
   "metadata": {},
   "outputs": [
    {
     "name": "stdout",
     "output_type": "stream",
     "text": [
      "starting shape\t (2051, 163)\n",
      "Bsmt Full Bath is float64\n",
      "Bsmt Full Bath is empty in 2 rows\n",
      "Bsmt Full Bath is zero in 1200 rows\n"
     ]
    }
   ],
   "source": [
    "# Stage 1\n",
    "column_name='Bsmt Full Bath'\n",
    "shape_before = df.shape\n",
    "print('starting shape\\t', shape_before)\n",
    "print(column_name,'is',df[column_name].dtypes)\n",
    "print(column_name,'is empty in',df[df[column_name].isnull()].shape[0],'rows')\n",
    "print(column_name,'is zero in',df[df[column_name] == 0].shape[0],'rows')"
   ]
  },
  {
   "cell_type": "code",
   "execution_count": 104,
   "metadata": {},
   "outputs": [],
   "source": [
    "# Stage 2\n",
    "fill_empty_with = 0\n",
    "df[column_name].fillna(fill_empty_with,inplace=True)"
   ]
  },
  {
   "cell_type": "code",
   "execution_count": 105,
   "metadata": {},
   "outputs": [
    {
     "name": "stdout",
     "output_type": "stream",
     "text": [
      "after transformation\t (2051, 163)\n",
      "====================== added 0 columns ======================\n"
     ]
    }
   ],
   "source": [
    "# Stage 3\n",
    "shape_after = df.shape\n",
    "print('after transformation\\t', shape_after)\n",
    "print('====================== added',shape_after[1]-shape_before[1],'columns ======================')"
   ]
  },
  {
   "cell_type": "markdown",
   "metadata": {},
   "source": [
    "### Bsmt Half Bath | update missing values"
   ]
  },
  {
   "cell_type": "code",
   "execution_count": 106,
   "metadata": {},
   "outputs": [
    {
     "name": "stdout",
     "output_type": "stream",
     "text": [
      "starting shape\t (2051, 163)\n",
      "Bsmt Half Bath is float64\n",
      "Bsmt Half Bath is empty in 2 rows\n",
      "Bsmt Half Bath is zero in 1923 rows\n"
     ]
    }
   ],
   "source": [
    "# Stage 1\n",
    "column_name='Bsmt Half Bath'\n",
    "shape_before = df.shape\n",
    "print('starting shape\\t', shape_before)\n",
    "print(column_name,'is',df[column_name].dtypes)\n",
    "print(column_name,'is empty in',df[df[column_name].isnull()].shape[0],'rows')\n",
    "print(column_name,'is zero in',df[df[column_name] == 0].shape[0],'rows')"
   ]
  },
  {
   "cell_type": "code",
   "execution_count": 107,
   "metadata": {},
   "outputs": [],
   "source": [
    "# Stage 2\n",
    "fill_empty_with = 0\n",
    "df[column_name].fillna(fill_empty_with,inplace=True)"
   ]
  },
  {
   "cell_type": "code",
   "execution_count": 108,
   "metadata": {},
   "outputs": [
    {
     "name": "stdout",
     "output_type": "stream",
     "text": [
      "after transformation\t (2051, 163)\n",
      "====================== added 0 columns ======================\n"
     ]
    }
   ],
   "source": [
    "# Stage 3\n",
    "shape_after = df.shape\n",
    "print('after transformation\\t', shape_after)\n",
    "print('====================== added',shape_after[1]-shape_before[1],'columns ======================')"
   ]
  },
  {
   "cell_type": "markdown",
   "metadata": {},
   "source": [
    "### Kitchen AbvGr | update missing values"
   ]
  },
  {
   "cell_type": "code",
   "execution_count": 109,
   "metadata": {},
   "outputs": [
    {
     "name": "stdout",
     "output_type": "stream",
     "text": [
      "starting shape\t (2051, 163)\n",
      "Kitchen AbvGr is int64\n",
      "Kitchen AbvGr is empty in 0 rows\n",
      "Kitchen AbvGr is zero in 2 rows\n"
     ]
    }
   ],
   "source": [
    "# Stage 1\n",
    "column_name='Kitchen AbvGr'\n",
    "shape_before = df.shape\n",
    "print('starting shape\\t', shape_before)\n",
    "print(column_name,'is',df[column_name].dtypes)\n",
    "print(column_name,'is empty in',df[df[column_name].isnull()].shape[0],'rows')\n",
    "print(column_name,'is zero in',df[df[column_name] == 0].shape[0],'rows')"
   ]
  },
  {
   "cell_type": "code",
   "execution_count": 110,
   "metadata": {},
   "outputs": [],
   "source": [
    "# Stage 2\n",
    "fill_empty_with = 0\n",
    "df[column_name].fillna(fill_empty_with,inplace=True)"
   ]
  },
  {
   "cell_type": "code",
   "execution_count": 111,
   "metadata": {},
   "outputs": [
    {
     "name": "stdout",
     "output_type": "stream",
     "text": [
      "after transformation\t (2051, 163)\n",
      "====================== added 0 columns ======================\n"
     ]
    }
   ],
   "source": [
    "# Stage 3\n",
    "shape_after = df.shape\n",
    "print('after transformation\\t', shape_after)\n",
    "print('====================== added',shape_after[1]-shape_before[1],'columns ======================')"
   ]
  },
  {
   "cell_type": "markdown",
   "metadata": {},
   "source": [
    "### Kitchen Qual | ordinal"
   ]
  },
  {
   "cell_type": "code",
   "execution_count": 112,
   "metadata": {},
   "outputs": [
    {
     "name": "stdout",
     "output_type": "stream",
     "text": [
      "starting shape\t (2051, 163)\n",
      "Kitchen Qual is object\n",
      "Kitchen Qual is empty in 0 rows\n",
      "Kitchen Qual is zero in 0 rows\n"
     ]
    },
    {
     "data": {
      "text/plain": [
       "TA    1047\n",
       "Gd     806\n",
       "Ex     151\n",
       "Fa      47\n",
       "Name: Kitchen Qual, dtype: int64"
      ]
     },
     "execution_count": 112,
     "metadata": {},
     "output_type": "execute_result"
    }
   ],
   "source": [
    "# Stage 1\n",
    "column_name='Kitchen Qual'\n",
    "shape_before = df.shape\n",
    "print('starting shape\\t', shape_before)\n",
    "print(column_name,'is',df[column_name].dtypes)\n",
    "print(column_name,'is empty in',df[df[column_name].isnull()].shape[0],'rows')\n",
    "print(column_name,'is zero in',df[df[column_name] == 0].shape[0],'rows')\n",
    "df[column_name].value_counts()"
   ]
  },
  {
   "cell_type": "code",
   "execution_count": 113,
   "metadata": {},
   "outputs": [
    {
     "name": "stdout",
     "output_type": "stream",
     "text": [
      "After transformation:\n"
     ]
    },
    {
     "data": {
      "text/plain": [
       "2    1047\n",
       "3     806\n",
       "4     151\n",
       "1      47\n",
       "Name: Kitchen Qual, dtype: int64"
      ]
     },
     "execution_count": 113,
     "metadata": {},
     "output_type": "execute_result"
    }
   ],
   "source": [
    "# Stage 2 ==ORDINAL==\n",
    "# dummy = 0, followed by increasing merit\n",
    "category_list = ['dummy','Fa','TA','Gd','Ex']\n",
    "df[column_name]=pd.Categorical(df[column_name],ordered=True,categories=category_list).codes\n",
    "print('After transformation:')\n",
    "df[column_name].value_counts()"
   ]
  },
  {
   "cell_type": "code",
   "execution_count": 114,
   "metadata": {},
   "outputs": [
    {
     "name": "stdout",
     "output_type": "stream",
     "text": [
      "after transformation\t (2051, 163)\n",
      "====================== added 0 columns ======================\n"
     ]
    }
   ],
   "source": [
    "# Stage 3\n",
    "shape_after = df.shape\n",
    "print('after transformation\\t', shape_after)\n",
    "print('====================== added',shape_after[1]-shape_before[1],'columns ======================')"
   ]
  },
  {
   "cell_type": "markdown",
   "metadata": {},
   "source": [
    "### TotRmsAbvGrd | DROPPED (since this is derived from bedrooms)"
   ]
  },
  {
   "cell_type": "code",
   "execution_count": 115,
   "metadata": {},
   "outputs": [
    {
     "name": "stdout",
     "output_type": "stream",
     "text": [
      "starting shape\t (2051, 163)\n",
      "TotRms AbvGrd is empty in 0 rows\n",
      "TotRms AbvGrd is zero in 0 rows\n"
     ]
    }
   ],
   "source": [
    "# Stage 1\n",
    "column_name='TotRms AbvGrd'\n",
    "shape_before = df.shape\n",
    "print('starting shape\\t', shape_before)\n",
    "print(column_name,'is empty in',df[df[column_name].isnull()].shape[0],'rows')\n",
    "print(column_name,'is zero in',df[df[column_name] == 0].shape[0],'rows')"
   ]
  },
  {
   "cell_type": "code",
   "execution_count": 116,
   "metadata": {},
   "outputs": [],
   "source": [
    "# Stage 2\n",
    "# Drop column\n",
    "df.drop(column_name,axis=1,inplace=True);"
   ]
  },
  {
   "cell_type": "code",
   "execution_count": 117,
   "metadata": {},
   "outputs": [
    {
     "name": "stdout",
     "output_type": "stream",
     "text": [
      "after transformation\t (2051, 162)\n",
      "====================== added -1 columns ======================\n"
     ]
    }
   ],
   "source": [
    "# Stage 3\n",
    "shape_after = df.shape\n",
    "print('after transformation\\t', shape_after)\n",
    "print('====================== added',shape_after[1]-shape_before[1],'columns ======================')"
   ]
  },
  {
   "cell_type": "markdown",
   "metadata": {},
   "source": [
    "### Functional | ordinal"
   ]
  },
  {
   "cell_type": "code",
   "execution_count": 118,
   "metadata": {},
   "outputs": [
    {
     "name": "stdout",
     "output_type": "stream",
     "text": [
      "starting shape\t (2051, 162)\n",
      "Functional is object\n",
      "Functional is empty in 0 rows\n",
      "Functional is zero in 0 rows\n"
     ]
    },
    {
     "data": {
      "text/plain": [
       "Typ     1915\n",
       "Min2      42\n",
       "Min1      42\n",
       "Mod       29\n",
       "Maj1      12\n",
       "Maj2       7\n",
       "Sev        2\n",
       "Sal        2\n",
       "Name: Functional, dtype: int64"
      ]
     },
     "execution_count": 118,
     "metadata": {},
     "output_type": "execute_result"
    }
   ],
   "source": [
    "# Stage 1\n",
    "column_name='Functional'\n",
    "shape_before = df.shape\n",
    "print('starting shape\\t', shape_before)\n",
    "print(column_name,'is',df[column_name].dtypes)\n",
    "print(column_name,'is empty in',df[df[column_name].isnull()].shape[0],'rows')\n",
    "print(column_name,'is zero in',df[df[column_name] == 0].shape[0],'rows')\n",
    "df[column_name].value_counts()"
   ]
  },
  {
   "cell_type": "code",
   "execution_count": 119,
   "metadata": {},
   "outputs": [
    {
     "name": "stdout",
     "output_type": "stream",
     "text": [
      "After transformation:\n"
     ]
    },
    {
     "data": {
      "text/plain": [
       "8    1915\n",
       "7      42\n",
       "6      42\n",
       "5      29\n",
       "4      12\n",
       "3       7\n",
       "1       2\n",
       "2       2\n",
       "Name: Functional, dtype: int64"
      ]
     },
     "execution_count": 119,
     "metadata": {},
     "output_type": "execute_result"
    }
   ],
   "source": [
    "# Stage 2 ==ORDINAL==\n",
    "# dummy = 0, followed by increasing merit\n",
    "category_list = ['dummy','Sal','Sev','Maj2','Maj1','Mod','Min2','Min1','Typ']\n",
    "df[column_name]=pd.Categorical(df[column_name],ordered=True,categories=category_list).codes\n",
    "print('After transformation:')\n",
    "df[column_name].value_counts()"
   ]
  },
  {
   "cell_type": "code",
   "execution_count": 120,
   "metadata": {},
   "outputs": [
    {
     "name": "stdout",
     "output_type": "stream",
     "text": [
      "after transformation\t (2051, 162)\n",
      "====================== added 0 columns ======================\n"
     ]
    }
   ],
   "source": [
    "# Stage 3\n",
    "shape_after = df.shape\n",
    "print('after transformation\\t', shape_after)\n",
    "print('====================== added',shape_after[1]-shape_before[1],'columns ======================')"
   ]
  },
  {
   "cell_type": "markdown",
   "metadata": {},
   "source": [
    "### FireplaceQu | ordinal"
   ]
  },
  {
   "cell_type": "code",
   "execution_count": 121,
   "metadata": {},
   "outputs": [
    {
     "name": "stdout",
     "output_type": "stream",
     "text": [
      "starting shape\t (2051, 162)\n",
      "Fireplace Qu is object\n",
      "Fireplace Qu is empty in 1000 rows\n",
      "Fireplace Qu is zero in 0 rows\n"
     ]
    },
    {
     "data": {
      "text/plain": [
       "Gd    523\n",
       "TA    407\n",
       "Fa     59\n",
       "Ex     31\n",
       "Po     31\n",
       "Name: Fireplace Qu, dtype: int64"
      ]
     },
     "execution_count": 121,
     "metadata": {},
     "output_type": "execute_result"
    }
   ],
   "source": [
    "# Stage 1\n",
    "column_name='Fireplace Qu'\n",
    "shape_before = df.shape\n",
    "print('starting shape\\t', shape_before)\n",
    "print(column_name,'is',df[column_name].dtypes)\n",
    "print(column_name,'is empty in',df[df[column_name].isnull()].shape[0],'rows')\n",
    "print(column_name,'is zero in',df[df[column_name] == 0].shape[0],'rows')\n",
    "df[column_name].value_counts()"
   ]
  },
  {
   "cell_type": "code",
   "execution_count": 122,
   "metadata": {},
   "outputs": [
    {
     "data": {
      "text/plain": [
       "NA    1000\n",
       "Gd     523\n",
       "TA     407\n",
       "Fa      59\n",
       "Ex      31\n",
       "Po      31\n",
       "Name: Fireplace Qu, dtype: int64"
      ]
     },
     "execution_count": 122,
     "metadata": {},
     "output_type": "execute_result"
    }
   ],
   "source": [
    "# Stage 1^\n",
    "fill_empty_with = 'NA'\n",
    "df[column_name].fillna(fill_empty_with,inplace=True)\n",
    "df[column_name].value_counts()"
   ]
  },
  {
   "cell_type": "code",
   "execution_count": 123,
   "metadata": {},
   "outputs": [
    {
     "name": "stdout",
     "output_type": "stream",
     "text": [
      "After transformation:\n"
     ]
    },
    {
     "data": {
      "text/plain": [
       "0    1000\n",
       "4     523\n",
       "3     407\n",
       "2      59\n",
       "5      31\n",
       "1      31\n",
       "Name: Fireplace Qu, dtype: int64"
      ]
     },
     "execution_count": 123,
     "metadata": {},
     "output_type": "execute_result"
    }
   ],
   "source": [
    "# Stage 2 ==ORDINAL==\n",
    "# dummy = 0, followed by increasing merit\n",
    "category_list = ['NA','Po','Fa','TA','Gd','Ex']\n",
    "df[column_name]=pd.Categorical(df[column_name],ordered=True,categories=category_list).codes\n",
    "print('After transformation:')\n",
    "df[column_name].value_counts()"
   ]
  },
  {
   "cell_type": "code",
   "execution_count": 124,
   "metadata": {},
   "outputs": [
    {
     "name": "stdout",
     "output_type": "stream",
     "text": [
      "after transformation\t (2051, 162)\n",
      "====================== added 0 columns ======================\n"
     ]
    }
   ],
   "source": [
    "# Stage 3\n",
    "shape_after = df.shape\n",
    "print('after transformation\\t', shape_after)\n",
    "print('====================== added',shape_after[1]-shape_before[1],'columns ======================')"
   ]
  },
  {
   "cell_type": "markdown",
   "metadata": {},
   "source": [
    "### Garage Type | nominal (baseline = 2Types)"
   ]
  },
  {
   "cell_type": "code",
   "execution_count": 125,
   "metadata": {},
   "outputs": [
    {
     "name": "stdout",
     "output_type": "stream",
     "text": [
      "starting shape\t (2051, 162)\n",
      "Garage Type is object\n",
      "Garage Type is empty in 113 rows\n",
      "Garage Type is zero in 0 rows\n"
     ]
    },
    {
     "data": {
      "text/plain": [
       "Attchd     1213\n",
       "Detchd      536\n",
       "BuiltIn     132\n",
       "Basment      27\n",
       "2Types       19\n",
       "CarPort      11\n",
       "Name: Garage Type, dtype: int64"
      ]
     },
     "execution_count": 125,
     "metadata": {},
     "output_type": "execute_result"
    }
   ],
   "source": [
    "# Stage 1\n",
    "column_name='Garage Type'\n",
    "shape_before = df.shape\n",
    "print('starting shape\\t', shape_before)\n",
    "print(column_name,'is',df[column_name].dtypes)\n",
    "print(column_name,'is empty in',df[df[column_name].isnull()].shape[0],'rows')\n",
    "print(column_name,'is zero in',df[df[column_name] == 0].shape[0],'rows')\n",
    "df[column_name].value_counts()"
   ]
  },
  {
   "cell_type": "code",
   "execution_count": 126,
   "metadata": {},
   "outputs": [
    {
     "data": {
      "text/plain": [
       "Attchd     1213\n",
       "Detchd      536\n",
       "BuiltIn     132\n",
       "NA          113\n",
       "Basment      27\n",
       "2Types       19\n",
       "CarPort      11\n",
       "Name: Garage Type, dtype: int64"
      ]
     },
     "execution_count": 126,
     "metadata": {},
     "output_type": "execute_result"
    }
   ],
   "source": [
    "# Stage 1^\n",
    "fill_empty_with = 'NA'\n",
    "df[column_name].fillna(fill_empty_with,inplace=True)\n",
    "df[column_name].value_counts()"
   ]
  },
  {
   "cell_type": "code",
   "execution_count": 127,
   "metadata": {},
   "outputs": [
    {
     "name": "stdout",
     "output_type": "stream",
     "text": [
      "GargType_Attchd\tGargType_Basment\tGargType_BuiltIn\tGargType_CarPort\tGargType_Detchd\tGargType_NA\t\n",
      "count ===>>> 6\n"
     ]
    }
   ],
   "source": [
    "# Stage 2 ==NOMINAL==\n",
    "prefix = 'GargType'\n",
    "prefix_search = prefix+'_'\n",
    "df=pd.get_dummies(df,prefix=prefix,columns=[column_name],drop_first=True)\n",
    "count = 0\n",
    "for i in df.columns:\n",
    "    if prefix_search in i:\n",
    "        print(i,end='\\t')\n",
    "        count += 1\n",
    "print('\\ncount ===>>>', count)"
   ]
  },
  {
   "cell_type": "code",
   "execution_count": 128,
   "metadata": {},
   "outputs": [
    {
     "name": "stdout",
     "output_type": "stream",
     "text": [
      "after transformation\t (2051, 167)\n",
      "====================== added 5 columns ======================\n"
     ]
    }
   ],
   "source": [
    "# Stage 3\n",
    "shape_after = df.shape\n",
    "print('after transformation\\t', shape_after)\n",
    "print('====================== added',shape_after[1]-shape_before[1],'columns ======================')"
   ]
  },
  {
   "cell_type": "markdown",
   "metadata": {},
   "source": [
    "### Garage Yr Blt | update missing values"
   ]
  },
  {
   "cell_type": "code",
   "execution_count": 129,
   "metadata": {},
   "outputs": [
    {
     "name": "stdout",
     "output_type": "stream",
     "text": [
      "starting shape\t (2051, 167)\n",
      "Garage Yr Blt is float64\n",
      "Garage Yr Blt is empty in 114 rows\n",
      "Garage Yr Blt is zero in 0 rows\n"
     ]
    }
   ],
   "source": [
    "# Stage 1\n",
    "column_name='Garage Yr Blt'\n",
    "shape_before = df.shape\n",
    "print('starting shape\\t', shape_before)\n",
    "print(column_name,'is',df[column_name].dtypes)\n",
    "print(column_name,'is empty in',df[df[column_name].isnull()].shape[0],'rows')\n",
    "print(column_name,'is zero in',df[df[column_name] == 0].shape[0],'rows')\n",
    "# df[column_name].value_counts()"
   ]
  },
  {
   "cell_type": "code",
   "execution_count": 130,
   "metadata": {},
   "outputs": [
    {
     "name": "stdout",
     "output_type": "stream",
     "text": [
      "Garage Yr Blt is empty in 0 rows\n"
     ]
    }
   ],
   "source": [
    "# Stage 2\n",
    "fill_empty_with = 1979 #use mean year = 1979\n",
    "df[column_name].fillna(fill_empty_with,inplace=True)\n",
    "print(column_name,'is empty in',df[df[column_name].isnull()].shape[0],'rows')"
   ]
  },
  {
   "cell_type": "code",
   "execution_count": 131,
   "metadata": {},
   "outputs": [
    {
     "name": "stdout",
     "output_type": "stream",
     "text": [
      "after transformation\t (2051, 167)\n",
      "====================== added 0 columns ======================\n"
     ]
    }
   ],
   "source": [
    "# Stage 3\n",
    "shape_after = df.shape\n",
    "print('after transformation\\t', shape_after)\n",
    "print('====================== added',shape_after[1]-shape_before[1],'columns ======================')"
   ]
  },
  {
   "cell_type": "markdown",
   "metadata": {},
   "source": [
    "### Garage Finish | ordinal | update missing values"
   ]
  },
  {
   "cell_type": "code",
   "execution_count": 132,
   "metadata": {},
   "outputs": [
    {
     "name": "stdout",
     "output_type": "stream",
     "text": [
      "starting shape\t (2051, 167)\n",
      "Garage Finish is object\n",
      "Garage Finish is empty in 114 rows\n",
      "Garage Finish is zero in 0 rows\n"
     ]
    },
    {
     "data": {
      "text/plain": [
       "Unf    849\n",
       "RFn    579\n",
       "Fin    509\n",
       "Name: Garage Finish, dtype: int64"
      ]
     },
     "execution_count": 132,
     "metadata": {},
     "output_type": "execute_result"
    }
   ],
   "source": [
    "# Stage 1\n",
    "column_name='Garage Finish'\n",
    "shape_before = df.shape\n",
    "print('starting shape\\t', shape_before)\n",
    "print(column_name,'is',df[column_name].dtypes)\n",
    "print(column_name,'is empty in',df[df[column_name].isnull()].shape[0],'rows')\n",
    "print(column_name,'is zero in',df[df[column_name] == 0].shape[0],'rows')\n",
    "df[column_name].value_counts()"
   ]
  },
  {
   "cell_type": "code",
   "execution_count": 133,
   "metadata": {},
   "outputs": [
    {
     "name": "stdout",
     "output_type": "stream",
     "text": [
      "113\n",
      "0\n"
     ]
    }
   ],
   "source": [
    "# Stage 1^\n",
    "# Check how many empty rows are for cases where there is no garage ie. GargType_NA=1\n",
    "print(df[df['GargType_NA']==1][column_name].isna().sum())\n",
    "\n",
    "# There are 113 such rows. For these rows, set Garage Finish to 'NA' (there is no garage)\n",
    "# Get row indexes for the above 113 rows\n",
    "idx_list_for_update = df[df['GargType_NA']==1][column_name].index\n",
    "\n",
    "# Update these 113 rows\n",
    "df.loc[idx_list_for_update,column_name] = 'NA'\n",
    "\n",
    "# Confirm upates successful - should return 0\n",
    "print(df[df['GargType_NA']==1][column_name].isna().sum())"
   ]
  },
  {
   "cell_type": "code",
   "execution_count": 134,
   "metadata": {},
   "outputs": [
    {
     "name": "stdout",
     "output_type": "stream",
     "text": [
      "Garage Finish is empty in 1 rows\n"
     ]
    }
   ],
   "source": [
    "# Stage 1^^\n",
    "print(column_name,'is empty in',df[df[column_name].isnull()].shape[0],'rows')"
   ]
  },
  {
   "cell_type": "code",
   "execution_count": 135,
   "metadata": {},
   "outputs": [
    {
     "name": "stdout",
     "output_type": "stream",
     "text": [
      "0\n"
     ]
    },
    {
     "data": {
      "text/plain": [
       "Unf    850\n",
       "RFn    579\n",
       "Fin    509\n",
       "NA     113\n",
       "Name: Garage Finish, dtype: int64"
      ]
     },
     "execution_count": 135,
     "metadata": {},
     "output_type": "execute_result"
    }
   ],
   "source": [
    "# Stage 1^^^\n",
    "# There's still 1 empty row left (garage exists). We will treat this as unfinished ie. set to 'Unf'\n",
    "idx_list_for_update = df[df[column_name].isnull()].index\n",
    "df.loc[idx_list_for_update,column_name] = 'Unf'\n",
    "print(df[df[column_name].isnull()][column_name].sum())\n",
    "df[column_name].value_counts()\n",
    "# Missing values have now been dealt with"
   ]
  },
  {
   "cell_type": "code",
   "execution_count": 136,
   "metadata": {},
   "outputs": [
    {
     "name": "stdout",
     "output_type": "stream",
     "text": [
      "After transformation:\n"
     ]
    },
    {
     "data": {
      "text/plain": [
       "1    850\n",
       "3    579\n",
       "2    509\n",
       "0    113\n",
       "Name: Garage Finish, dtype: int64"
      ]
     },
     "execution_count": 136,
     "metadata": {},
     "output_type": "execute_result"
    }
   ],
   "source": [
    "# Stage 2 ==ORDINAL==\n",
    "# dummy = 0, followed by increasing merit\n",
    "category_list = ['NA','Unf','Fin','RFn']\n",
    "df[column_name]=pd.Categorical(df[column_name],ordered=True,categories=category_list).codes\n",
    "print('After transformation:')\n",
    "df[column_name].value_counts()"
   ]
  },
  {
   "cell_type": "code",
   "execution_count": 137,
   "metadata": {},
   "outputs": [
    {
     "name": "stdout",
     "output_type": "stream",
     "text": [
      "after transformation\t (2051, 167)\n",
      "====================== added 0 columns ======================\n"
     ]
    }
   ],
   "source": [
    "# Stage 3\n",
    "shape_after = df.shape\n",
    "print('after transformation\\t', shape_after)\n",
    "print('====================== added',shape_after[1]-shape_before[1],'columns ======================')"
   ]
  },
  {
   "cell_type": "markdown",
   "metadata": {},
   "source": [
    "### Garage Cars | update missing values"
   ]
  },
  {
   "cell_type": "code",
   "execution_count": 138,
   "metadata": {},
   "outputs": [
    {
     "name": "stdout",
     "output_type": "stream",
     "text": [
      "starting shape\t (2051, 167)\n",
      "Garage Cars is float64\n",
      "Garage Cars is empty in 1 rows\n",
      "Garage Cars is zero in 113 rows\n"
     ]
    },
    {
     "data": {
      "text/plain": [
       "2.0    1136\n",
       "1.0     524\n",
       "3.0     263\n",
       "0.0     113\n",
       "4.0      13\n",
       "5.0       1\n",
       "Name: Garage Cars, dtype: int64"
      ]
     },
     "execution_count": 138,
     "metadata": {},
     "output_type": "execute_result"
    }
   ],
   "source": [
    "# Stage 1\n",
    "column_name='Garage Cars'\n",
    "shape_before = df.shape\n",
    "print('starting shape\\t', shape_before)\n",
    "print(column_name,'is',df[column_name].dtypes)\n",
    "print(column_name,'is empty in',df[df[column_name].isnull()].shape[0],'rows')\n",
    "print(column_name,'is zero in',df[df[column_name] == 0].shape[0],'rows')\n",
    "df[column_name].value_counts()"
   ]
  },
  {
   "cell_type": "code",
   "execution_count": 139,
   "metadata": {},
   "outputs": [],
   "source": [
    "# Stage 2\n",
    "# update using Median value of 2\n",
    "fill_empty_with = 2\n",
    "df[column_name].fillna(fill_empty_with,inplace=True)"
   ]
  },
  {
   "cell_type": "code",
   "execution_count": 140,
   "metadata": {},
   "outputs": [
    {
     "name": "stdout",
     "output_type": "stream",
     "text": [
      "after transformation\t (2051, 167)\n",
      "====================== added 0 columns ======================\n"
     ]
    }
   ],
   "source": [
    "# Stage 3\n",
    "shape_after = df.shape\n",
    "print('after transformation\\t', shape_after)\n",
    "print('====================== added',shape_after[1]-shape_before[1],'columns ======================')"
   ]
  },
  {
   "cell_type": "markdown",
   "metadata": {},
   "source": [
    "### Garage Qual | ordinal"
   ]
  },
  {
   "cell_type": "code",
   "execution_count": 141,
   "metadata": {},
   "outputs": [
    {
     "name": "stdout",
     "output_type": "stream",
     "text": [
      "starting shape\t (2051, 167)\n",
      "Garage Qual is object\n",
      "Garage Qual is empty in 114 rows\n",
      "Garage Qual is zero in 0 rows\n"
     ]
    },
    {
     "data": {
      "text/plain": [
       "TA    1832\n",
       "Fa      82\n",
       "Gd      18\n",
       "Ex       3\n",
       "Po       2\n",
       "Name: Garage Qual, dtype: int64"
      ]
     },
     "execution_count": 141,
     "metadata": {},
     "output_type": "execute_result"
    }
   ],
   "source": [
    "# Stage 1\n",
    "column_name='Garage Qual'\n",
    "shape_before = df.shape\n",
    "print('starting shape\\t', shape_before)\n",
    "print(column_name,'is',df[column_name].dtypes)\n",
    "print(column_name,'is empty in',df[df[column_name].isnull()].shape[0],'rows')\n",
    "print(column_name,'is zero in',df[df[column_name] == 0].shape[0],'rows')\n",
    "df[column_name].value_counts()"
   ]
  },
  {
   "cell_type": "code",
   "execution_count": 142,
   "metadata": {},
   "outputs": [
    {
     "data": {
      "text/plain": [
       "TA    1832\n",
       "NA     114\n",
       "Fa      82\n",
       "Gd      18\n",
       "Ex       3\n",
       "Po       2\n",
       "Name: Garage Qual, dtype: int64"
      ]
     },
     "execution_count": 142,
     "metadata": {},
     "output_type": "execute_result"
    }
   ],
   "source": [
    "# Stage 1^\n",
    "fill_empty_with = 'NA'\n",
    "df[column_name].fillna(fill_empty_with,inplace=True)\n",
    "df[column_name].value_counts()"
   ]
  },
  {
   "cell_type": "code",
   "execution_count": 143,
   "metadata": {},
   "outputs": [
    {
     "name": "stdout",
     "output_type": "stream",
     "text": [
      "After transformation:\n"
     ]
    },
    {
     "data": {
      "text/plain": [
       "3    1832\n",
       "0     114\n",
       "2      82\n",
       "4      18\n",
       "5       3\n",
       "1       2\n",
       "Name: Garage Qual, dtype: int64"
      ]
     },
     "execution_count": 143,
     "metadata": {},
     "output_type": "execute_result"
    }
   ],
   "source": [
    "# Stage 2 ==ORDINAL==\n",
    "# dummy = 0, followed by increasing merit\n",
    "category_list = ['NA','Po','Fa','TA','Gd','Ex']\n",
    "df[column_name]=pd.Categorical(df[column_name],ordered=True,categories=category_list).codes\n",
    "print('After transformation:')\n",
    "df[column_name].value_counts()"
   ]
  },
  {
   "cell_type": "code",
   "execution_count": 144,
   "metadata": {},
   "outputs": [
    {
     "name": "stdout",
     "output_type": "stream",
     "text": [
      "after transformation\t (2051, 167)\n",
      "====================== added 0 columns ======================\n"
     ]
    }
   ],
   "source": [
    "# Stage 3\n",
    "shape_after = df.shape\n",
    "print('after transformation\\t', shape_after)\n",
    "print('====================== added',shape_after[1]-shape_before[1],'columns ======================')"
   ]
  },
  {
   "cell_type": "markdown",
   "metadata": {},
   "source": [
    "### Garage Cond | ordinal"
   ]
  },
  {
   "cell_type": "code",
   "execution_count": 145,
   "metadata": {},
   "outputs": [
    {
     "name": "stdout",
     "output_type": "stream",
     "text": [
      "starting shape\t (2051, 167)\n",
      "Garage Cond is object\n",
      "Garage Cond is empty in 114 rows\n",
      "Garage Cond is zero in 0 rows\n"
     ]
    },
    {
     "data": {
      "text/plain": [
       "TA    1868\n",
       "Fa      47\n",
       "Gd      12\n",
       "Po       8\n",
       "Ex       2\n",
       "Name: Garage Cond, dtype: int64"
      ]
     },
     "execution_count": 145,
     "metadata": {},
     "output_type": "execute_result"
    }
   ],
   "source": [
    "# Stage 1\n",
    "column_name='Garage Cond'\n",
    "shape_before = df.shape\n",
    "print('starting shape\\t', shape_before)\n",
    "print(column_name,'is',df[column_name].dtypes)\n",
    "print(column_name,'is empty in',df[df[column_name].isnull()].shape[0],'rows')\n",
    "print(column_name,'is zero in',df[df[column_name] == 0].shape[0],'rows')\n",
    "df[column_name].value_counts()"
   ]
  },
  {
   "cell_type": "code",
   "execution_count": 146,
   "metadata": {},
   "outputs": [
    {
     "data": {
      "text/plain": [
       "TA    1868\n",
       "NA     114\n",
       "Fa      47\n",
       "Gd      12\n",
       "Po       8\n",
       "Ex       2\n",
       "Name: Garage Cond, dtype: int64"
      ]
     },
     "execution_count": 146,
     "metadata": {},
     "output_type": "execute_result"
    }
   ],
   "source": [
    "# Stage 1^\n",
    "fill_empty_with = 'NA'\n",
    "df[column_name].fillna(fill_empty_with,inplace=True)\n",
    "df[column_name].value_counts()"
   ]
  },
  {
   "cell_type": "code",
   "execution_count": 147,
   "metadata": {},
   "outputs": [
    {
     "name": "stdout",
     "output_type": "stream",
     "text": [
      "After transformation:\n"
     ]
    },
    {
     "data": {
      "text/plain": [
       "3    1868\n",
       "0     114\n",
       "2      47\n",
       "4      12\n",
       "1       8\n",
       "5       2\n",
       "Name: Garage Cond, dtype: int64"
      ]
     },
     "execution_count": 147,
     "metadata": {},
     "output_type": "execute_result"
    }
   ],
   "source": [
    "# Stage 2 ==ORDINAL==\n",
    "# dummy = 0, followed by increasing merit\n",
    "category_list = ['NA','Po','Fa','TA','Gd','Ex']\n",
    "df[column_name]=pd.Categorical(df[column_name],ordered=True,categories=category_list).codes\n",
    "print('After transformation:')\n",
    "df[column_name].value_counts()"
   ]
  },
  {
   "cell_type": "code",
   "execution_count": 148,
   "metadata": {},
   "outputs": [
    {
     "name": "stdout",
     "output_type": "stream",
     "text": [
      "after transformation\t (2051, 167)\n",
      "====================== added 0 columns ======================\n"
     ]
    }
   ],
   "source": [
    "# Stage 3\n",
    "shape_after = df.shape\n",
    "print('after transformation\\t', shape_after)\n",
    "print('====================== added',shape_after[1]-shape_before[1],'columns ======================')"
   ]
  },
  {
   "cell_type": "markdown",
   "metadata": {},
   "source": [
    "### Paved Drive | ordinal"
   ]
  },
  {
   "cell_type": "code",
   "execution_count": 149,
   "metadata": {},
   "outputs": [
    {
     "name": "stdout",
     "output_type": "stream",
     "text": [
      "starting shape\t (2051, 167)\n",
      "Paved Drive is object\n",
      "Paved Drive is empty in 0 rows\n",
      "Paved Drive is zero in 0 rows\n"
     ]
    },
    {
     "data": {
      "text/plain": [
       "Y    1861\n",
       "N     151\n",
       "P      39\n",
       "Name: Paved Drive, dtype: int64"
      ]
     },
     "execution_count": 149,
     "metadata": {},
     "output_type": "execute_result"
    }
   ],
   "source": [
    "# Stage 1\n",
    "column_name='Paved Drive'\n",
    "shape_before = df.shape\n",
    "print('starting shape\\t', shape_before)\n",
    "print(column_name,'is',df[column_name].dtypes)\n",
    "print(column_name,'is empty in',df[df[column_name].isnull()].shape[0],'rows')\n",
    "print(column_name,'is zero in',df[df[column_name] == 0].shape[0],'rows')\n",
    "df[column_name].value_counts()"
   ]
  },
  {
   "cell_type": "code",
   "execution_count": 150,
   "metadata": {},
   "outputs": [
    {
     "name": "stdout",
     "output_type": "stream",
     "text": [
      "After transformation:\n"
     ]
    },
    {
     "data": {
      "text/plain": [
       "2    1861\n",
       "0     151\n",
       "1      39\n",
       "Name: Paved Drive, dtype: int64"
      ]
     },
     "execution_count": 150,
     "metadata": {},
     "output_type": "execute_result"
    }
   ],
   "source": [
    "# Stage 2 ==ORDINAL==\n",
    "# dummy = 0, followed by increasing merit\n",
    "category_list = ['N','P','Y']\n",
    "df[column_name]=pd.Categorical(df[column_name],ordered=True,categories=category_list).codes\n",
    "print('After transformation:')\n",
    "df[column_name].value_counts()"
   ]
  },
  {
   "cell_type": "code",
   "execution_count": 151,
   "metadata": {},
   "outputs": [
    {
     "name": "stdout",
     "output_type": "stream",
     "text": [
      "after transformation\t (2051, 167)\n",
      "====================== added 0 columns ======================\n"
     ]
    }
   ],
   "source": [
    "# Stage 3\n",
    "shape_after = df.shape\n",
    "print('after transformation\\t', shape_after)\n",
    "print('====================== added',shape_after[1]-shape_before[1],'columns ======================')"
   ]
  },
  {
   "cell_type": "markdown",
   "metadata": {},
   "source": [
    "### 3-Ssn Porch | DROPPED"
   ]
  },
  {
   "cell_type": "code",
   "execution_count": 152,
   "metadata": {},
   "outputs": [
    {
     "name": "stdout",
     "output_type": "stream",
     "text": [
      "starting shape\t (2051, 167)\n",
      "3Ssn Porch is empty in 0 rows\n",
      "3Ssn Porch is zero in 2025 rows\n"
     ]
    }
   ],
   "source": [
    "# Stage 1\n",
    "column_name='3Ssn Porch'\n",
    "shape_before = df.shape\n",
    "print('starting shape\\t', shape_before)\n",
    "print(column_name,'is empty in',df[df[column_name].isnull()].shape[0],'rows')\n",
    "print(column_name,'is zero in',df[df[column_name] == 0].shape[0],'rows')"
   ]
  },
  {
   "cell_type": "code",
   "execution_count": 153,
   "metadata": {},
   "outputs": [],
   "source": [
    "# Stage 2\n",
    "# Drop column\n",
    "df.drop(column_name,axis=1,inplace=True);"
   ]
  },
  {
   "cell_type": "code",
   "execution_count": 154,
   "metadata": {},
   "outputs": [
    {
     "name": "stdout",
     "output_type": "stream",
     "text": [
      "after transformation\t (2051, 166)\n",
      "====================== added -1 columns ======================\n"
     ]
    }
   ],
   "source": [
    "# Stage 3\n",
    "shape_after = df.shape\n",
    "print('after transformation\\t', shape_after)\n",
    "print('====================== added',shape_after[1]-shape_before[1],'columns ======================')"
   ]
  },
  {
   "cell_type": "markdown",
   "metadata": {},
   "source": [
    "### Pool Area | DROPPED"
   ]
  },
  {
   "cell_type": "code",
   "execution_count": 155,
   "metadata": {},
   "outputs": [
    {
     "name": "stdout",
     "output_type": "stream",
     "text": [
      "starting shape\t (2051, 166)\n",
      "Pool Area is empty in 0 rows\n",
      "Pool Area is zero in 2042 rows\n"
     ]
    }
   ],
   "source": [
    "# Stage 1\n",
    "column_name='Pool Area'\n",
    "shape_before = df.shape\n",
    "print('starting shape\\t', shape_before)\n",
    "print(column_name,'is empty in',df[df[column_name].isnull()].shape[0],'rows')\n",
    "print(column_name,'is zero in',df[df[column_name] == 0].shape[0],'rows')"
   ]
  },
  {
   "cell_type": "code",
   "execution_count": 156,
   "metadata": {},
   "outputs": [],
   "source": [
    "# Stage 2\n",
    "# Drop column\n",
    "df.drop(column_name,axis=1,inplace=True);"
   ]
  },
  {
   "cell_type": "code",
   "execution_count": 157,
   "metadata": {},
   "outputs": [
    {
     "name": "stdout",
     "output_type": "stream",
     "text": [
      "after transformation\t (2051, 165)\n",
      "====================== added -1 columns ======================\n"
     ]
    }
   ],
   "source": [
    "# Stage 3\n",
    "shape_after = df.shape\n",
    "print('after transformation\\t', shape_after)\n",
    "print('====================== added',shape_after[1]-shape_before[1],'columns ======================')"
   ]
  },
  {
   "cell_type": "markdown",
   "metadata": {},
   "source": [
    "### Pool QC | DROPPED"
   ]
  },
  {
   "cell_type": "code",
   "execution_count": 158,
   "metadata": {},
   "outputs": [
    {
     "name": "stdout",
     "output_type": "stream",
     "text": [
      "starting shape\t (2051, 165)\n",
      "Pool QC is empty in 2042 rows\n",
      "Pool QC is zero in 0 rows\n"
     ]
    }
   ],
   "source": [
    "# Stage 1\n",
    "column_name='Pool QC'\n",
    "shape_before = df.shape\n",
    "print('starting shape\\t', shape_before)\n",
    "print(column_name,'is empty in',df[df[column_name].isnull()].shape[0],'rows')\n",
    "print(column_name,'is zero in',df[df[column_name] == 0].shape[0],'rows')"
   ]
  },
  {
   "cell_type": "code",
   "execution_count": 159,
   "metadata": {},
   "outputs": [],
   "source": [
    "# Stage 2\n",
    "# Drop column\n",
    "df.drop(column_name,axis=1,inplace=True);"
   ]
  },
  {
   "cell_type": "code",
   "execution_count": 160,
   "metadata": {},
   "outputs": [
    {
     "name": "stdout",
     "output_type": "stream",
     "text": [
      "after transformation\t (2051, 164)\n",
      "====================== added -1 columns ======================\n"
     ]
    }
   ],
   "source": [
    "# Stage 3\n",
    "shape_after = df.shape\n",
    "print('after transformation\\t', shape_after)\n",
    "print('====================== added',shape_after[1]-shape_before[1],'columns ======================')"
   ]
  },
  {
   "cell_type": "markdown",
   "metadata": {},
   "source": [
    "### Fence | ordinal"
   ]
  },
  {
   "cell_type": "code",
   "execution_count": 161,
   "metadata": {},
   "outputs": [
    {
     "name": "stdout",
     "output_type": "stream",
     "text": [
      "starting shape\t (2051, 164)\n",
      "Fence is object\n",
      "Fence is empty in 1651 rows\n",
      "Fence is zero in 0 rows\n"
     ]
    },
    {
     "data": {
      "text/plain": [
       "MnPrv    227\n",
       "GdPrv     83\n",
       "GdWo      80\n",
       "MnWw      10\n",
       "Name: Fence, dtype: int64"
      ]
     },
     "execution_count": 161,
     "metadata": {},
     "output_type": "execute_result"
    }
   ],
   "source": [
    "# Stage 1\n",
    "column_name='Fence'\n",
    "shape_before = df.shape\n",
    "print('starting shape\\t', shape_before)\n",
    "print(column_name,'is',df[column_name].dtypes)\n",
    "print(column_name,'is empty in',df[df[column_name].isnull()].shape[0],'rows')\n",
    "print(column_name,'is zero in',df[df[column_name] == 0].shape[0],'rows')\n",
    "df[column_name].value_counts()"
   ]
  },
  {
   "cell_type": "code",
   "execution_count": 162,
   "metadata": {},
   "outputs": [
    {
     "data": {
      "text/plain": [
       "NA       1651\n",
       "MnPrv     227\n",
       "GdPrv      83\n",
       "GdWo       80\n",
       "MnWw       10\n",
       "Name: Fence, dtype: int64"
      ]
     },
     "execution_count": 162,
     "metadata": {},
     "output_type": "execute_result"
    }
   ],
   "source": [
    "# Stage 1^\n",
    "fill_empty_with = 'NA'\n",
    "df[column_name].fillna(fill_empty_with,inplace=True)\n",
    "df[column_name].value_counts()"
   ]
  },
  {
   "cell_type": "code",
   "execution_count": 163,
   "metadata": {},
   "outputs": [
    {
     "name": "stdout",
     "output_type": "stream",
     "text": [
      "After transformation:\n"
     ]
    },
    {
     "data": {
      "text/plain": [
       "0    1651\n",
       "3     227\n",
       "4      83\n",
       "2      80\n",
       "1      10\n",
       "Name: Fence, dtype: int64"
      ]
     },
     "execution_count": 163,
     "metadata": {},
     "output_type": "execute_result"
    }
   ],
   "source": [
    "# Stage 2 ==ORDINAL==\n",
    "# dummy = 0, followed by increasing merit\n",
    "category_list = ['NA','MnWw','GdWo','MnPrv','GdPrv']\n",
    "df[column_name]=pd.Categorical(df[column_name],ordered=True,categories=category_list).codes\n",
    "print('After transformation:')\n",
    "df[column_name].value_counts()"
   ]
  },
  {
   "cell_type": "code",
   "execution_count": 164,
   "metadata": {},
   "outputs": [
    {
     "name": "stdout",
     "output_type": "stream",
     "text": [
      "after transformation\t (2051, 164)\n",
      "====================== added 0 columns ======================\n"
     ]
    }
   ],
   "source": [
    "# Stage 3\n",
    "shape_after = df.shape\n",
    "print('after transformation\\t', shape_after)\n",
    "print('====================== added',shape_after[1]-shape_before[1],'columns ======================')"
   ]
  },
  {
   "cell_type": "markdown",
   "metadata": {},
   "source": [
    "### Misc Feature | DROPPED"
   ]
  },
  {
   "cell_type": "code",
   "execution_count": 165,
   "metadata": {},
   "outputs": [
    {
     "name": "stdout",
     "output_type": "stream",
     "text": [
      "starting shape\t (2051, 164)\n",
      "Misc Feature is empty in 1986 rows\n",
      "Misc Feature is zero in 0 rows\n"
     ]
    }
   ],
   "source": [
    "# Stage 1\n",
    "column_name='Misc Feature'\n",
    "shape_before = df.shape\n",
    "print('starting shape\\t', shape_before)\n",
    "print(column_name,'is empty in',df[df[column_name].isnull()].shape[0],'rows')\n",
    "print(column_name,'is zero in',df[df[column_name] == 0].shape[0],'rows')"
   ]
  },
  {
   "cell_type": "code",
   "execution_count": 166,
   "metadata": {},
   "outputs": [],
   "source": [
    "# Stage 2\n",
    "# Drop column\n",
    "df.drop(column_name,axis=1,inplace=True);"
   ]
  },
  {
   "cell_type": "code",
   "execution_count": 167,
   "metadata": {},
   "outputs": [
    {
     "name": "stdout",
     "output_type": "stream",
     "text": [
      "after transformation\t (2051, 163)\n",
      "====================== added -1 columns ======================\n"
     ]
    }
   ],
   "source": [
    "# Stage 3\n",
    "shape_after = df.shape\n",
    "print('after transformation\\t', shape_after)\n",
    "print('====================== added',shape_after[1]-shape_before[1],'columns ======================')"
   ]
  },
  {
   "cell_type": "markdown",
   "metadata": {},
   "source": [
    "### Misc Val | DROPPED"
   ]
  },
  {
   "cell_type": "code",
   "execution_count": 168,
   "metadata": {},
   "outputs": [
    {
     "name": "stdout",
     "output_type": "stream",
     "text": [
      "starting shape\t (2051, 163)\n",
      "Misc Val is empty in 0 rows\n",
      "Misc Val is zero in 1986 rows\n"
     ]
    }
   ],
   "source": [
    "# Stage 1\n",
    "column_name='Misc Val'\n",
    "shape_before = df.shape\n",
    "print('starting shape\\t', shape_before)\n",
    "print(column_name,'is empty in',df[df[column_name].isnull()].shape[0],'rows')\n",
    "print(column_name,'is zero in',df[df[column_name] == 0].shape[0],'rows')"
   ]
  },
  {
   "cell_type": "code",
   "execution_count": 169,
   "metadata": {},
   "outputs": [],
   "source": [
    "# Stage 2\n",
    "# Drop column\n",
    "df.drop(column_name,axis=1,inplace=True);"
   ]
  },
  {
   "cell_type": "code",
   "execution_count": 170,
   "metadata": {},
   "outputs": [
    {
     "name": "stdout",
     "output_type": "stream",
     "text": [
      "after transformation\t (2051, 162)\n",
      "====================== added -1 columns ======================\n"
     ]
    }
   ],
   "source": [
    "# Stage 3\n",
    "shape_after = df.shape\n",
    "print('after transformation\\t', shape_after)\n",
    "print('====================== added',shape_after[1]-shape_before[1],'columns ======================')"
   ]
  },
  {
   "cell_type": "markdown",
   "metadata": {},
   "source": [
    "### Mo Sold | nominal (baseline = 1)"
   ]
  },
  {
   "cell_type": "code",
   "execution_count": 171,
   "metadata": {},
   "outputs": [
    {
     "name": "stdout",
     "output_type": "stream",
     "text": [
      "starting shape\t (2051, 162)\n"
     ]
    },
    {
     "data": {
      "text/plain": [
       "6     352\n",
       "7     303\n",
       "5     257\n",
       "4     208\n",
       "3     168\n",
       "8     167\n",
       "10    123\n",
       "9     109\n",
       "2     104\n",
       "11    103\n",
       "1      79\n",
       "12     78\n",
       "Name: Mo Sold, dtype: int64"
      ]
     },
     "execution_count": 171,
     "metadata": {},
     "output_type": "execute_result"
    }
   ],
   "source": [
    "# Stage 1\n",
    "column_name='Mo Sold'\n",
    "shape_before = df.shape\n",
    "print('starting shape\\t', shape_before)\n",
    "df[column_name].value_counts()"
   ]
  },
  {
   "cell_type": "code",
   "execution_count": 172,
   "metadata": {},
   "outputs": [
    {
     "name": "stdout",
     "output_type": "stream",
     "text": [
      "Month_2\tMonth_3\tMonth_4\tMonth_5\tMonth_6\tMonth_7\tMonth_8\tMonth_9\tMonth_10\tMonth_11\tMonth_12\t\n",
      "count ===>>> 11\n"
     ]
    }
   ],
   "source": [
    "# Stage 2 ==NOMINAL==\n",
    "prefix = 'Month'\n",
    "prefix_search = prefix+'_'\n",
    "df=pd.get_dummies(df,prefix=prefix,columns=[column_name],drop_first=True)\n",
    "count = 0\n",
    "for i in df.columns:\n",
    "    if prefix_search in i:\n",
    "        print(i,end='\\t')\n",
    "        count += 1\n",
    "print('\\ncount ===>>>', count)"
   ]
  },
  {
   "cell_type": "code",
   "execution_count": 173,
   "metadata": {},
   "outputs": [
    {
     "name": "stdout",
     "output_type": "stream",
     "text": [
      "after transformation\t (2051, 172)\n",
      "====================== added 10 columns ======================\n"
     ]
    }
   ],
   "source": [
    "# Stage 3\n",
    "shape_after = df.shape\n",
    "print('after transformation\\t', shape_after)\n",
    "print('====================== added',shape_after[1]-shape_before[1],'columns ======================')"
   ]
  },
  {
   "cell_type": "markdown",
   "metadata": {},
   "source": [
    "### Yr Sold | nominal (baseline = 2006)"
   ]
  },
  {
   "cell_type": "code",
   "execution_count": 174,
   "metadata": {},
   "outputs": [
    {
     "name": "stdout",
     "output_type": "stream",
     "text": [
      "starting shape\t (2051, 172)\n"
     ]
    },
    {
     "data": {
      "text/plain": [
       "2007    498\n",
       "2009    446\n",
       "2006    438\n",
       "2008    435\n",
       "2010    234\n",
       "Name: Yr Sold, dtype: int64"
      ]
     },
     "execution_count": 174,
     "metadata": {},
     "output_type": "execute_result"
    }
   ],
   "source": [
    "# Stage 1\n",
    "column_name='Yr Sold'\n",
    "shape_before = df.shape\n",
    "print('starting shape\\t', shape_before)\n",
    "df[column_name].value_counts()"
   ]
  },
  {
   "cell_type": "code",
   "execution_count": 175,
   "metadata": {},
   "outputs": [
    {
     "name": "stdout",
     "output_type": "stream",
     "text": [
      "Year_2007\tYear_2008\tYear_2009\tYear_2010\t\n",
      "count ===>>> 4\n"
     ]
    }
   ],
   "source": [
    "# Stage 2 ==NOMINAL==\n",
    "prefix = 'Year'\n",
    "prefix_search = prefix+'_'\n",
    "df=pd.get_dummies(df,prefix=prefix,columns=[column_name],drop_first=True)\n",
    "count = 0\n",
    "for i in df.columns:\n",
    "    if prefix_search in i:\n",
    "        print(i,end='\\t')\n",
    "        count += 1\n",
    "print('\\ncount ===>>>', count)"
   ]
  },
  {
   "cell_type": "code",
   "execution_count": 176,
   "metadata": {},
   "outputs": [
    {
     "name": "stdout",
     "output_type": "stream",
     "text": [
      "after transformation\t (2051, 175)\n",
      "====================== added 3 columns ======================\n"
     ]
    }
   ],
   "source": [
    "# Stage 3\n",
    "shape_after = df.shape\n",
    "print('after transformation\\t', shape_after)\n",
    "print('====================== added',shape_after[1]-shape_before[1],'columns ======================')"
   ]
  },
  {
   "cell_type": "markdown",
   "metadata": {},
   "source": [
    "### Sale Type | nominal (baseline = COD)"
   ]
  },
  {
   "cell_type": "code",
   "execution_count": 177,
   "metadata": {},
   "outputs": [
    {
     "name": "stdout",
     "output_type": "stream",
     "text": [
      "starting shape\t (2051, 175)\n"
     ]
    },
    {
     "data": {
      "text/plain": [
       "WD       1781\n",
       "New       160\n",
       "COD        63\n",
       "ConLD      17\n",
       "CWD        10\n",
       "ConLI       7\n",
       "ConLw       5\n",
       "Con         4\n",
       "Oth         4\n",
       "Name: Sale Type, dtype: int64"
      ]
     },
     "execution_count": 177,
     "metadata": {},
     "output_type": "execute_result"
    }
   ],
   "source": [
    "# Stage 1\n",
    "column_name='Sale Type'\n",
    "shape_before = df.shape\n",
    "print('starting shape\\t', shape_before)\n",
    "df[column_name].value_counts()"
   ]
  },
  {
   "cell_type": "code",
   "execution_count": 178,
   "metadata": {},
   "outputs": [
    {
     "name": "stdout",
     "output_type": "stream",
     "text": [
      "SaleType_CWD\tSaleType_Con\tSaleType_ConLD\tSaleType_ConLI\tSaleType_ConLw\tSaleType_New\tSaleType_Oth\tSaleType_WD \t\n",
      "count ===>>> 8\n"
     ]
    }
   ],
   "source": [
    "# Stage 2 ==NOMINAL==\n",
    "prefix = 'SaleType'\n",
    "prefix_search = prefix+'_'\n",
    "df=pd.get_dummies(df,prefix=prefix,columns=[column_name],drop_first=True)\n",
    "count = 0\n",
    "for i in df.columns:\n",
    "    if prefix_search in i:\n",
    "        print(i,end='\\t')\n",
    "        count += 1\n",
    "print('\\ncount ===>>>', count)"
   ]
  },
  {
   "cell_type": "markdown",
   "metadata": {},
   "source": [
    "### Bsmt Unf SF vs. Total Bsmt SF"
   ]
  },
  {
   "cell_type": "code",
   "execution_count": 179,
   "metadata": {},
   "outputs": [
    {
     "name": "stdout",
     "output_type": "stream",
     "text": [
      "Bsmt Unf SF is empty in 1 rows\n",
      "Bsmt Unf SF is zero in 165 rows\n",
      "Total Bsmt SF is empty in 1 rows\n",
      "Total Bsmt SF is zero in 54 rows\n"
     ]
    }
   ],
   "source": [
    "column_name='Bsmt Unf SF'\n",
    "print(column_name,'is empty in',df[df[column_name].isnull()].shape[0],'rows')\n",
    "print(column_name,'is zero in',df[df[column_name] == 0].shape[0],'rows')\n",
    "column_name='Total Bsmt SF'\n",
    "print(column_name,'is empty in',df[df[column_name].isnull()].shape[0],'rows')\n",
    "print(column_name,'is zero in',df[df[column_name] == 0].shape[0],'rows')"
   ]
  },
  {
   "cell_type": "code",
   "execution_count": 180,
   "metadata": {},
   "outputs": [
    {
     "data": {
      "text/html": [
       "<div>\n",
       "<style scoped>\n",
       "    .dataframe tbody tr th:only-of-type {\n",
       "        vertical-align: middle;\n",
       "    }\n",
       "\n",
       "    .dataframe tbody tr th {\n",
       "        vertical-align: top;\n",
       "    }\n",
       "\n",
       "    .dataframe thead th {\n",
       "        text-align: right;\n",
       "    }\n",
       "</style>\n",
       "<table border=\"1\" class=\"dataframe\">\n",
       "  <thead>\n",
       "    <tr style=\"text-align: right;\">\n",
       "      <th></th>\n",
       "      <th>Bsmt Cond</th>\n",
       "      <th>Bsmt Qual</th>\n",
       "      <th>Total Bsmt SF</th>\n",
       "      <th>Bsmt Unf SF</th>\n",
       "    </tr>\n",
       "  </thead>\n",
       "  <tbody>\n",
       "    <tr>\n",
       "      <th>1327</th>\n",
       "      <td>0</td>\n",
       "      <td>0</td>\n",
       "      <td>NaN</td>\n",
       "      <td>NaN</td>\n",
       "    </tr>\n",
       "  </tbody>\n",
       "</table>\n",
       "</div>"
      ],
      "text/plain": [
       "      Bsmt Cond  Bsmt Qual  Total Bsmt SF  Bsmt Unf SF\n",
       "1327          0          0            NaN          NaN"
      ]
     },
     "execution_count": 180,
     "metadata": {},
     "output_type": "execute_result"
    }
   ],
   "source": [
    "# explore the row where Bsmt Unf SF is empty\n",
    "df[df['Bsmt Unf SF'].isna()][['Bsmt Cond','Bsmt Qual','Total Bsmt SF','Bsmt Unf SF']]"
   ]
  },
  {
   "cell_type": "code",
   "execution_count": 181,
   "metadata": {},
   "outputs": [],
   "source": [
    "# based on the data, it appears this house does not have a basement\n",
    "# set both Bsmt Unf SF and Total Bsmt SF to zero\n",
    "fill_empty_with = 0\n",
    "df['Total Bsmt SF'].fillna(fill_empty_with,inplace=True)\n",
    "df['Bsmt Unf SF'].fillna(fill_empty_with,inplace=True)"
   ]
  },
  {
   "cell_type": "code",
   "execution_count": 182,
   "metadata": {},
   "outputs": [
    {
     "data": {
      "text/html": [
       "<div>\n",
       "<style scoped>\n",
       "    .dataframe tbody tr th:only-of-type {\n",
       "        vertical-align: middle;\n",
       "    }\n",
       "\n",
       "    .dataframe tbody tr th {\n",
       "        vertical-align: top;\n",
       "    }\n",
       "\n",
       "    .dataframe thead th {\n",
       "        text-align: right;\n",
       "    }\n",
       "</style>\n",
       "<table border=\"1\" class=\"dataframe\">\n",
       "  <thead>\n",
       "    <tr style=\"text-align: right;\">\n",
       "      <th></th>\n",
       "      <th>Total Bsmt SF</th>\n",
       "      <th>Bsmt Unf SF</th>\n",
       "    </tr>\n",
       "  </thead>\n",
       "  <tbody>\n",
       "  </tbody>\n",
       "</table>\n",
       "</div>"
      ],
      "text/plain": [
       "Empty DataFrame\n",
       "Columns: [Total Bsmt SF, Bsmt Unf SF]\n",
       "Index: []"
      ]
     },
     "execution_count": 182,
     "metadata": {},
     "output_type": "execute_result"
    }
   ],
   "source": [
    "# check if there are cases where Bsmt SF is zero but Bsmt Unf SF > 0\n",
    "# this is an illogical combination => drop these rows.\n",
    "df[(df['Total Bsmt SF']==0) & (df['Bsmt Unf SF']>0)][['Total Bsmt SF','Bsmt Unf SF']]"
   ]
  },
  {
   "cell_type": "code",
   "execution_count": 183,
   "metadata": {},
   "outputs": [],
   "source": [
    "# there are no cases where Bsmt SF is zero but Bsmt Unf SF > 0"
   ]
  },
  {
   "cell_type": "markdown",
   "metadata": {},
   "source": [
    "### Lot Frontage | update missing values"
   ]
  },
  {
   "cell_type": "code",
   "execution_count": 184,
   "metadata": {},
   "outputs": [
    {
     "name": "stdout",
     "output_type": "stream",
     "text": [
      "starting shape\t (2051, 182)\n",
      "Lot Frontage is empty in 330 rows\n",
      "Lot Frontage is zero in 0 rows\n"
     ]
    }
   ],
   "source": [
    "# Stage 1\n",
    "column_name='Lot Frontage'\n",
    "shape_before = df.shape\n",
    "print('starting shape\\t', shape_before)\n",
    "print(column_name,'is empty in',df[df[column_name].isnull()].shape[0],'rows')\n",
    "print(column_name,'is zero in',df[df[column_name] == 0].shape[0],'rows')"
   ]
  },
  {
   "cell_type": "code",
   "execution_count": 185,
   "metadata": {},
   "outputs": [
    {
     "name": "stdout",
     "output_type": "stream",
     "text": [
      "Lot Area is emtpy in 0 rows\n",
      "Lot Frontage is non-zero in 1721 rows\n",
      "The mean of Lot Frontage is 69.05520046484602\n"
     ]
    }
   ],
   "source": [
    "# Stage 2\n",
    "# Sanity check on Lot Area and Lot Frontage\n",
    "print('Lot Area is emtpy in', df['Lot Area'].isnull().sum(),'rows')\n",
    "print('Lot Frontage is non-zero in',df['Lot Frontage'].notna().sum(),'rows')\n",
    "print('The mean of Lot Frontage is',df['Lot Frontage'].mean())"
   ]
  },
  {
   "cell_type": "code",
   "execution_count": 186,
   "metadata": {},
   "outputs": [],
   "source": [
    "# Stage 2^\n",
    "# Based on the above, it would be reasonable to set Lot Frontage to 69 where currently zero\n",
    "fill_empty_with = 69\n",
    "df['Lot Frontage'].fillna(fill_empty_with,inplace=True)"
   ]
  },
  {
   "cell_type": "code",
   "execution_count": 187,
   "metadata": {},
   "outputs": [
    {
     "name": "stdout",
     "output_type": "stream",
     "text": [
      "after transformation\t (2051, 182)\n",
      "====================== added 0 columns ======================\n"
     ]
    }
   ],
   "source": [
    "# Stage 3\n",
    "shape_after = df.shape\n",
    "print('after transformation\\t', shape_after)\n",
    "print('====================== added',shape_after[1]-shape_before[1],'columns ======================')"
   ]
  },
  {
   "cell_type": "markdown",
   "metadata": {},
   "source": [
    "### Final checks for any null / NaN values"
   ]
  },
  {
   "cell_type": "code",
   "execution_count": 188,
   "metadata": {},
   "outputs": [
    {
     "name": "stdout",
     "output_type": "stream",
     "text": [
      "Index no. 42 has 1 null values\n"
     ]
    }
   ],
   "source": [
    "# enumerate columns \n",
    "for idx, null_count in enumerate(df.isnull().sum()):\n",
    "    if null_count > 0:\n",
    "        print(f'Index no. {idx} has {null_count} null values')"
   ]
  },
  {
   "cell_type": "code",
   "execution_count": 189,
   "metadata": {},
   "outputs": [
    {
     "data": {
      "text/plain": [
       "'Garage Area'"
      ]
     },
     "execution_count": 189,
     "metadata": {},
     "output_type": "execute_result"
    }
   ],
   "source": [
    "df.columns[42]"
   ]
  },
  {
   "cell_type": "code",
   "execution_count": 190,
   "metadata": {},
   "outputs": [],
   "source": [
    "pd.options.display.max_columns = 200"
   ]
  },
  {
   "cell_type": "code",
   "execution_count": 191,
   "metadata": {},
   "outputs": [
    {
     "data": {
      "text/html": [
       "<div>\n",
       "<style scoped>\n",
       "    .dataframe tbody tr th:only-of-type {\n",
       "        vertical-align: middle;\n",
       "    }\n",
       "\n",
       "    .dataframe tbody tr th {\n",
       "        vertical-align: top;\n",
       "    }\n",
       "\n",
       "    .dataframe thead th {\n",
       "        text-align: right;\n",
       "    }\n",
       "</style>\n",
       "<table border=\"1\" class=\"dataframe\">\n",
       "  <thead>\n",
       "    <tr style=\"text-align: right;\">\n",
       "      <th></th>\n",
       "      <th>Id</th>\n",
       "      <th>PID</th>\n",
       "      <th>MS Zoning</th>\n",
       "      <th>Lot Frontage</th>\n",
       "      <th>Lot Area</th>\n",
       "      <th>Lot Shape</th>\n",
       "      <th>Land Slope</th>\n",
       "      <th>House Style</th>\n",
       "      <th>Overall Qual</th>\n",
       "      <th>Overall Cond</th>\n",
       "      <th>Year Built</th>\n",
       "      <th>Year Remod/Add</th>\n",
       "      <th>Exterior 2nd</th>\n",
       "      <th>Mas Vnr Area</th>\n",
       "      <th>Exter Qual</th>\n",
       "      <th>Exter Cond</th>\n",
       "      <th>Foundation</th>\n",
       "      <th>Bsmt Qual</th>\n",
       "      <th>Bsmt Cond</th>\n",
       "      <th>Bsmt Exposure</th>\n",
       "      <th>BsmtFin Type 1</th>\n",
       "      <th>BsmtFin Type 2</th>\n",
       "      <th>Bsmt Unf SF</th>\n",
       "      <th>Total Bsmt SF</th>\n",
       "      <th>Heating QC</th>\n",
       "      <th>Electrical</th>\n",
       "      <th>1st Flr SF</th>\n",
       "      <th>2nd Flr SF</th>\n",
       "      <th>Gr Liv Area</th>\n",
       "      <th>Bsmt Full Bath</th>\n",
       "      <th>Bsmt Half Bath</th>\n",
       "      <th>Full Bath</th>\n",
       "      <th>Half Bath</th>\n",
       "      <th>Bedroom AbvGr</th>\n",
       "      <th>Kitchen AbvGr</th>\n",
       "      <th>Kitchen Qual</th>\n",
       "      <th>Functional</th>\n",
       "      <th>Fireplaces</th>\n",
       "      <th>Fireplace Qu</th>\n",
       "      <th>Garage Yr Blt</th>\n",
       "      <th>Garage Finish</th>\n",
       "      <th>Garage Cars</th>\n",
       "      <th>Garage Area</th>\n",
       "      <th>Garage Qual</th>\n",
       "      <th>Garage Cond</th>\n",
       "      <th>Paved Drive</th>\n",
       "      <th>Wood Deck SF</th>\n",
       "      <th>Open Porch SF</th>\n",
       "      <th>Enclosed Porch</th>\n",
       "      <th>Screen Porch</th>\n",
       "      <th>Fence</th>\n",
       "      <th>SalePrice</th>\n",
       "      <th>MSsubclass_30</th>\n",
       "      <th>MSsubclass_40</th>\n",
       "      <th>MSsubclass_45</th>\n",
       "      <th>MSsubclass_50</th>\n",
       "      <th>MSsubclass_60</th>\n",
       "      <th>MSsubclass_70</th>\n",
       "      <th>MSsubclass_75</th>\n",
       "      <th>MSsubclass_80</th>\n",
       "      <th>MSsubclass_85</th>\n",
       "      <th>MSsubclass_90</th>\n",
       "      <th>MSsubclass_120</th>\n",
       "      <th>MSsubclass_150</th>\n",
       "      <th>MSsubclass_160</th>\n",
       "      <th>MSsubclass_180</th>\n",
       "      <th>MSsubclass_190</th>\n",
       "      <th>Street_Pave</th>\n",
       "      <th>LandContour_HLS</th>\n",
       "      <th>LandContour_Low</th>\n",
       "      <th>LandContour_Lvl</th>\n",
       "      <th>LotConf_CulDSac</th>\n",
       "      <th>LotConf_FR2</th>\n",
       "      <th>LotConf_FR3</th>\n",
       "      <th>LotConf_Inside</th>\n",
       "      <th>ngbhd_Blueste</th>\n",
       "      <th>ngbhd_BrDale</th>\n",
       "      <th>ngbhd_BrkSide</th>\n",
       "      <th>ngbhd_ClearCr</th>\n",
       "      <th>ngbhd_CollgCr</th>\n",
       "      <th>ngbhd_Crawfor</th>\n",
       "      <th>ngbhd_Edwards</th>\n",
       "      <th>ngbhd_Gilbert</th>\n",
       "      <th>ngbhd_Greens</th>\n",
       "      <th>ngbhd_GrnHill</th>\n",
       "      <th>ngbhd_IDOTRR</th>\n",
       "      <th>ngbhd_Landmrk</th>\n",
       "      <th>ngbhd_MeadowV</th>\n",
       "      <th>ngbhd_Mitchel</th>\n",
       "      <th>ngbhd_NAmes</th>\n",
       "      <th>ngbhd_NPkVill</th>\n",
       "      <th>ngbhd_NWAmes</th>\n",
       "      <th>ngbhd_NoRidge</th>\n",
       "      <th>ngbhd_NridgHt</th>\n",
       "      <th>ngbhd_OldTown</th>\n",
       "      <th>ngbhd_SWISU</th>\n",
       "      <th>ngbhd_Sawyer</th>\n",
       "      <th>ngbhd_SawyerW</th>\n",
       "      <th>ngbhd_Somerst</th>\n",
       "      <th>ngbhd_StoneBr</th>\n",
       "      <th>ngbhd_Timber</th>\n",
       "      <th>ngbhd_Veenker</th>\n",
       "      <th>cond1_Feedr</th>\n",
       "      <th>cond1_Norm</th>\n",
       "      <th>cond1_PosA</th>\n",
       "      <th>cond1_PosN</th>\n",
       "      <th>cond1_RRAe</th>\n",
       "      <th>cond1_RRAn</th>\n",
       "      <th>cond1_RRNe</th>\n",
       "      <th>cond1_RRNn</th>\n",
       "      <th>cond2_Feedr</th>\n",
       "      <th>cond2_Norm</th>\n",
       "      <th>cond2_PosA</th>\n",
       "      <th>cond2_PosN</th>\n",
       "      <th>cond2_RRAe</th>\n",
       "      <th>cond2_RRAn</th>\n",
       "      <th>cond2_RRNn</th>\n",
       "      <th>bldgtype_2fmCon</th>\n",
       "      <th>bldgtype_Duplex</th>\n",
       "      <th>bldgtype_Twnhs</th>\n",
       "      <th>bldgtype_TwnhsE</th>\n",
       "      <th>roofstyle_Gable</th>\n",
       "      <th>roofstyle_Gambrel</th>\n",
       "      <th>roofstyle_Hip</th>\n",
       "      <th>roofstyle_Mansard</th>\n",
       "      <th>roofstyle_Shed</th>\n",
       "      <th>roofmatl_CompShg</th>\n",
       "      <th>roofmatl_Membran</th>\n",
       "      <th>roofmatl_Tar&amp;Grv</th>\n",
       "      <th>roofmatl_WdShake</th>\n",
       "      <th>roofmatl_WdShngl</th>\n",
       "      <th>Ext1st_AsphShn</th>\n",
       "      <th>Ext1st_BrkComm</th>\n",
       "      <th>Ext1st_BrkFace</th>\n",
       "      <th>Ext1st_CBlock</th>\n",
       "      <th>Ext1st_CemntBd</th>\n",
       "      <th>Ext1st_HdBoard</th>\n",
       "      <th>Ext1st_ImStucc</th>\n",
       "      <th>Ext1st_MetalSd</th>\n",
       "      <th>Ext1st_Plywood</th>\n",
       "      <th>Ext1st_Stone</th>\n",
       "      <th>Ext1st_Stucco</th>\n",
       "      <th>Ext1st_VinylSd</th>\n",
       "      <th>Ext1st_Wd Sdng</th>\n",
       "      <th>Ext1st_WdShing</th>\n",
       "      <th>MasVType_BrkFace</th>\n",
       "      <th>MasVType_None</th>\n",
       "      <th>MasVType_Stone</th>\n",
       "      <th>Heating_GasW</th>\n",
       "      <th>Heating_Grav</th>\n",
       "      <th>Heating_OthW</th>\n",
       "      <th>Heating_Wall</th>\n",
       "      <th>CentralAir_1</th>\n",
       "      <th>GargType_Attchd</th>\n",
       "      <th>GargType_Basment</th>\n",
       "      <th>GargType_BuiltIn</th>\n",
       "      <th>GargType_CarPort</th>\n",
       "      <th>GargType_Detchd</th>\n",
       "      <th>GargType_NA</th>\n",
       "      <th>Month_2</th>\n",
       "      <th>Month_3</th>\n",
       "      <th>Month_4</th>\n",
       "      <th>Month_5</th>\n",
       "      <th>Month_6</th>\n",
       "      <th>Month_7</th>\n",
       "      <th>Month_8</th>\n",
       "      <th>Month_9</th>\n",
       "      <th>Month_10</th>\n",
       "      <th>Month_11</th>\n",
       "      <th>Month_12</th>\n",
       "      <th>Year_2007</th>\n",
       "      <th>Year_2008</th>\n",
       "      <th>Year_2009</th>\n",
       "      <th>Year_2010</th>\n",
       "      <th>SaleType_CWD</th>\n",
       "      <th>SaleType_Con</th>\n",
       "      <th>SaleType_ConLD</th>\n",
       "      <th>SaleType_ConLI</th>\n",
       "      <th>SaleType_ConLw</th>\n",
       "      <th>SaleType_New</th>\n",
       "      <th>SaleType_Oth</th>\n",
       "      <th>SaleType_WD</th>\n",
       "    </tr>\n",
       "  </thead>\n",
       "  <tbody>\n",
       "    <tr>\n",
       "      <th>1712</th>\n",
       "      <td>2237</td>\n",
       "      <td>910201180</td>\n",
       "      <td>RM</td>\n",
       "      <td>50.0</td>\n",
       "      <td>9060</td>\n",
       "      <td>4</td>\n",
       "      <td>3</td>\n",
       "      <td>2Story</td>\n",
       "      <td>5</td>\n",
       "      <td>6</td>\n",
       "      <td>1923</td>\n",
       "      <td>1999</td>\n",
       "      <td>Plywood</td>\n",
       "      <td>0.0</td>\n",
       "      <td>2</td>\n",
       "      <td>3</td>\n",
       "      <td>BrkTil</td>\n",
       "      <td>4</td>\n",
       "      <td>3</td>\n",
       "      <td>1</td>\n",
       "      <td>5</td>\n",
       "      <td>1</td>\n",
       "      <td>311.0</td>\n",
       "      <td>859.0</td>\n",
       "      <td>5</td>\n",
       "      <td>5</td>\n",
       "      <td>942</td>\n",
       "      <td>886</td>\n",
       "      <td>1828</td>\n",
       "      <td>0.0</td>\n",
       "      <td>0.0</td>\n",
       "      <td>2</td>\n",
       "      <td>0</td>\n",
       "      <td>3</td>\n",
       "      <td>1</td>\n",
       "      <td>3</td>\n",
       "      <td>8</td>\n",
       "      <td>0</td>\n",
       "      <td>0</td>\n",
       "      <td>1979.0</td>\n",
       "      <td>1</td>\n",
       "      <td>2.0</td>\n",
       "      <td>NaN</td>\n",
       "      <td>0</td>\n",
       "      <td>0</td>\n",
       "      <td>2</td>\n",
       "      <td>174</td>\n",
       "      <td>0</td>\n",
       "      <td>212</td>\n",
       "      <td>0</td>\n",
       "      <td>3</td>\n",
       "      <td>150909</td>\n",
       "      <td>0</td>\n",
       "      <td>0</td>\n",
       "      <td>0</td>\n",
       "      <td>0</td>\n",
       "      <td>0</td>\n",
       "      <td>1</td>\n",
       "      <td>0</td>\n",
       "      <td>0</td>\n",
       "      <td>0</td>\n",
       "      <td>0</td>\n",
       "      <td>0</td>\n",
       "      <td>0</td>\n",
       "      <td>0</td>\n",
       "      <td>0</td>\n",
       "      <td>0</td>\n",
       "      <td>1</td>\n",
       "      <td>0</td>\n",
       "      <td>0</td>\n",
       "      <td>1</td>\n",
       "      <td>0</td>\n",
       "      <td>0</td>\n",
       "      <td>0</td>\n",
       "      <td>1</td>\n",
       "      <td>0</td>\n",
       "      <td>0</td>\n",
       "      <td>0</td>\n",
       "      <td>0</td>\n",
       "      <td>0</td>\n",
       "      <td>0</td>\n",
       "      <td>0</td>\n",
       "      <td>0</td>\n",
       "      <td>0</td>\n",
       "      <td>0</td>\n",
       "      <td>1</td>\n",
       "      <td>0</td>\n",
       "      <td>0</td>\n",
       "      <td>0</td>\n",
       "      <td>0</td>\n",
       "      <td>0</td>\n",
       "      <td>0</td>\n",
       "      <td>0</td>\n",
       "      <td>0</td>\n",
       "      <td>0</td>\n",
       "      <td>0</td>\n",
       "      <td>0</td>\n",
       "      <td>0</td>\n",
       "      <td>0</td>\n",
       "      <td>0</td>\n",
       "      <td>0</td>\n",
       "      <td>0</td>\n",
       "      <td>0</td>\n",
       "      <td>1</td>\n",
       "      <td>0</td>\n",
       "      <td>0</td>\n",
       "      <td>0</td>\n",
       "      <td>0</td>\n",
       "      <td>0</td>\n",
       "      <td>0</td>\n",
       "      <td>0</td>\n",
       "      <td>1</td>\n",
       "      <td>0</td>\n",
       "      <td>0</td>\n",
       "      <td>0</td>\n",
       "      <td>0</td>\n",
       "      <td>0</td>\n",
       "      <td>0</td>\n",
       "      <td>0</td>\n",
       "      <td>0</td>\n",
       "      <td>0</td>\n",
       "      <td>1</td>\n",
       "      <td>0</td>\n",
       "      <td>0</td>\n",
       "      <td>0</td>\n",
       "      <td>0</td>\n",
       "      <td>1</td>\n",
       "      <td>0</td>\n",
       "      <td>0</td>\n",
       "      <td>0</td>\n",
       "      <td>0</td>\n",
       "      <td>0</td>\n",
       "      <td>0</td>\n",
       "      <td>0</td>\n",
       "      <td>0</td>\n",
       "      <td>0</td>\n",
       "      <td>0</td>\n",
       "      <td>0</td>\n",
       "      <td>0</td>\n",
       "      <td>0</td>\n",
       "      <td>0</td>\n",
       "      <td>0</td>\n",
       "      <td>0</td>\n",
       "      <td>1</td>\n",
       "      <td>0</td>\n",
       "      <td>0</td>\n",
       "      <td>1</td>\n",
       "      <td>0</td>\n",
       "      <td>0</td>\n",
       "      <td>0</td>\n",
       "      <td>0</td>\n",
       "      <td>0</td>\n",
       "      <td>1</td>\n",
       "      <td>0</td>\n",
       "      <td>0</td>\n",
       "      <td>0</td>\n",
       "      <td>0</td>\n",
       "      <td>1</td>\n",
       "      <td>0</td>\n",
       "      <td>0</td>\n",
       "      <td>1</td>\n",
       "      <td>0</td>\n",
       "      <td>0</td>\n",
       "      <td>0</td>\n",
       "      <td>0</td>\n",
       "      <td>0</td>\n",
       "      <td>0</td>\n",
       "      <td>0</td>\n",
       "      <td>0</td>\n",
       "      <td>0</td>\n",
       "      <td>1</td>\n",
       "      <td>0</td>\n",
       "      <td>0</td>\n",
       "      <td>0</td>\n",
       "      <td>0</td>\n",
       "      <td>0</td>\n",
       "      <td>0</td>\n",
       "      <td>0</td>\n",
       "      <td>0</td>\n",
       "      <td>0</td>\n",
       "      <td>0</td>\n",
       "      <td>1</td>\n",
       "    </tr>\n",
       "  </tbody>\n",
       "</table>\n",
       "</div>"
      ],
      "text/plain": [
       "        Id        PID MS Zoning  Lot Frontage  Lot Area  Lot Shape  \\\n",
       "1712  2237  910201180        RM          50.0      9060          4   \n",
       "\n",
       "      Land Slope House Style  Overall Qual  Overall Cond  Year Built  \\\n",
       "1712           3      2Story             5             6        1923   \n",
       "\n",
       "      Year Remod/Add Exterior 2nd  Mas Vnr Area  Exter Qual  Exter Cond  \\\n",
       "1712            1999      Plywood           0.0           2           3   \n",
       "\n",
       "     Foundation  Bsmt Qual  Bsmt Cond  Bsmt Exposure  BsmtFin Type 1  \\\n",
       "1712     BrkTil          4          3              1               5   \n",
       "\n",
       "      BsmtFin Type 2  Bsmt Unf SF  Total Bsmt SF  Heating QC  Electrical  \\\n",
       "1712               1        311.0          859.0           5           5   \n",
       "\n",
       "      1st Flr SF  2nd Flr SF  Gr Liv Area  Bsmt Full Bath  Bsmt Half Bath  \\\n",
       "1712         942         886         1828             0.0             0.0   \n",
       "\n",
       "      Full Bath  Half Bath  Bedroom AbvGr  Kitchen AbvGr  Kitchen Qual  \\\n",
       "1712          2          0              3              1             3   \n",
       "\n",
       "      Functional  Fireplaces  Fireplace Qu  Garage Yr Blt  Garage Finish  \\\n",
       "1712           8           0             0         1979.0              1   \n",
       "\n",
       "      Garage Cars  Garage Area  Garage Qual  Garage Cond  Paved Drive  \\\n",
       "1712          2.0          NaN            0            0            2   \n",
       "\n",
       "      Wood Deck SF  Open Porch SF  Enclosed Porch  Screen Porch  Fence  \\\n",
       "1712           174              0             212             0      3   \n",
       "\n",
       "      SalePrice  MSsubclass_30  MSsubclass_40  MSsubclass_45  MSsubclass_50  \\\n",
       "1712     150909              0              0              0              0   \n",
       "\n",
       "      MSsubclass_60  MSsubclass_70  MSsubclass_75  MSsubclass_80  \\\n",
       "1712              0              1              0              0   \n",
       "\n",
       "      MSsubclass_85  MSsubclass_90  MSsubclass_120  MSsubclass_150  \\\n",
       "1712              0              0               0               0   \n",
       "\n",
       "      MSsubclass_160  MSsubclass_180  MSsubclass_190  Street_Pave  \\\n",
       "1712               0               0               0            1   \n",
       "\n",
       "      LandContour_HLS  LandContour_Low  LandContour_Lvl  LotConf_CulDSac  \\\n",
       "1712                0                0                1                0   \n",
       "\n",
       "      LotConf_FR2  LotConf_FR3  LotConf_Inside  ngbhd_Blueste  ngbhd_BrDale  \\\n",
       "1712            0            0               1              0             0   \n",
       "\n",
       "      ngbhd_BrkSide  ngbhd_ClearCr  ngbhd_CollgCr  ngbhd_Crawfor  \\\n",
       "1712              0              0              0              0   \n",
       "\n",
       "      ngbhd_Edwards  ngbhd_Gilbert  ngbhd_Greens  ngbhd_GrnHill  ngbhd_IDOTRR  \\\n",
       "1712              0              0             0              0             1   \n",
       "\n",
       "      ngbhd_Landmrk  ngbhd_MeadowV  ngbhd_Mitchel  ngbhd_NAmes  ngbhd_NPkVill  \\\n",
       "1712              0              0              0            0              0   \n",
       "\n",
       "      ngbhd_NWAmes  ngbhd_NoRidge  ngbhd_NridgHt  ngbhd_OldTown  ngbhd_SWISU  \\\n",
       "1712             0              0              0              0            0   \n",
       "\n",
       "      ngbhd_Sawyer  ngbhd_SawyerW  ngbhd_Somerst  ngbhd_StoneBr  ngbhd_Timber  \\\n",
       "1712             0              0              0              0             0   \n",
       "\n",
       "      ngbhd_Veenker  cond1_Feedr  cond1_Norm  cond1_PosA  cond1_PosN  \\\n",
       "1712              0            0           1           0           0   \n",
       "\n",
       "      cond1_RRAe  cond1_RRAn  cond1_RRNe  cond1_RRNn  cond2_Feedr  cond2_Norm  \\\n",
       "1712           0           0           0           0            0           1   \n",
       "\n",
       "      cond2_PosA  cond2_PosN  cond2_RRAe  cond2_RRAn  cond2_RRNn  \\\n",
       "1712           0           0           0           0           0   \n",
       "\n",
       "      bldgtype_2fmCon  bldgtype_Duplex  bldgtype_Twnhs  bldgtype_TwnhsE  \\\n",
       "1712                0                0               0                0   \n",
       "\n",
       "      roofstyle_Gable  roofstyle_Gambrel  roofstyle_Hip  roofstyle_Mansard  \\\n",
       "1712                1                  0              0                  0   \n",
       "\n",
       "      roofstyle_Shed  roofmatl_CompShg  roofmatl_Membran  roofmatl_Tar&Grv  \\\n",
       "1712               0                 1                 0                 0   \n",
       "\n",
       "      roofmatl_WdShake  roofmatl_WdShngl  Ext1st_AsphShn  Ext1st_BrkComm  \\\n",
       "1712                 0                 0               0               0   \n",
       "\n",
       "      Ext1st_BrkFace  Ext1st_CBlock  Ext1st_CemntBd  Ext1st_HdBoard  \\\n",
       "1712               0              0               0               0   \n",
       "\n",
       "      Ext1st_ImStucc  Ext1st_MetalSd  Ext1st_Plywood  Ext1st_Stone  \\\n",
       "1712               0               0               0             0   \n",
       "\n",
       "      Ext1st_Stucco  Ext1st_VinylSd  Ext1st_Wd Sdng  Ext1st_WdShing  \\\n",
       "1712              0               0               1               0   \n",
       "\n",
       "      MasVType_BrkFace  MasVType_None  MasVType_Stone  Heating_GasW  \\\n",
       "1712                 0              1               0             0   \n",
       "\n",
       "      Heating_Grav  Heating_OthW  Heating_Wall  CentralAir_1  GargType_Attchd  \\\n",
       "1712             0             0             0             1                0   \n",
       "\n",
       "      GargType_Basment  GargType_BuiltIn  GargType_CarPort  GargType_Detchd  \\\n",
       "1712                 0                 0                 0                1   \n",
       "\n",
       "      GargType_NA  Month_2  Month_3  Month_4  Month_5  Month_6  Month_7  \\\n",
       "1712            0        0        1        0        0        0        0   \n",
       "\n",
       "      Month_8  Month_9  Month_10  Month_11  Month_12  Year_2007  Year_2008  \\\n",
       "1712        0        0         0         0         0          1          0   \n",
       "\n",
       "      Year_2009  Year_2010  SaleType_CWD  SaleType_Con  SaleType_ConLD  \\\n",
       "1712          0          0             0             0               0   \n",
       "\n",
       "      SaleType_ConLI  SaleType_ConLw  SaleType_New  SaleType_Oth  SaleType_WD   \n",
       "1712               0               0             0             0             1  "
      ]
     },
     "execution_count": 191,
     "metadata": {},
     "output_type": "execute_result"
    }
   ],
   "source": [
    "# isolate the row where Garage Area is null\n",
    "df[df['Garage Area'].isna()]"
   ]
  },
  {
   "cell_type": "code",
   "execution_count": 192,
   "metadata": {},
   "outputs": [],
   "source": [
    "# create a temporary Series comprising the 'Garage Area' data MINUS the NaN row\n",
    "temp_series = df['Garage Area'].copy()\n",
    "temp_series.drop(index=1712,inplace=True) # drop the row that contains NaN - need to do this to calculate skew"
   ]
  },
  {
   "cell_type": "code",
   "execution_count": 193,
   "metadata": {},
   "outputs": [
    {
     "name": "stdout",
     "output_type": "stream",
     "text": [
      "Mean:\t 473.6717073170732\n",
      "Median:\t 480.0\n",
      "Skew:\t 0.1990955368854834\n"
     ]
    },
    {
     "data": {
      "image/png": "[encoded data removed]",
      "text/plain": [
       "<Figure size 432x288 with 1 Axes>"
      ]
     },
     "metadata": {
      "needs_background": "light"
     },
     "output_type": "display_data"
    }
   ],
   "source": [
    "# observe the distribution of the 'Garage Area' data\n",
    "temp_series.plot(kind='hist',bins=20)\n",
    "print('Mean:\\t',temp_series.mean())\n",
    "print('Median:\\t',temp_series.median())\n",
    "print('Skew:\\t',stats.skew(temp_series))"
   ]
  },
  {
   "cell_type": "code",
   "execution_count": 194,
   "metadata": {},
   "outputs": [],
   "source": [
    "# Since the magnitude of skew (to the right) < 0.5, we can use the mean as the measure of central tendency\n",
    "# Update missing value of 'Garage Area' using the mean value\n",
    "df.iloc[[1712],[42]] = temp_series.mean()"
   ]
  },
  {
   "cell_type": "code",
   "execution_count": 195,
   "metadata": {},
   "outputs": [
    {
     "data": {
      "text/html": [
       "<div>\n",
       "<style scoped>\n",
       "    .dataframe tbody tr th:only-of-type {\n",
       "        vertical-align: middle;\n",
       "    }\n",
       "\n",
       "    .dataframe tbody tr th {\n",
       "        vertical-align: top;\n",
       "    }\n",
       "\n",
       "    .dataframe thead th {\n",
       "        text-align: right;\n",
       "    }\n",
       "</style>\n",
       "<table border=\"1\" class=\"dataframe\">\n",
       "  <thead>\n",
       "    <tr style=\"text-align: right;\">\n",
       "      <th></th>\n",
       "      <th>Id</th>\n",
       "      <th>PID</th>\n",
       "      <th>MS Zoning</th>\n",
       "      <th>Lot Frontage</th>\n",
       "      <th>Lot Area</th>\n",
       "      <th>Lot Shape</th>\n",
       "      <th>Land Slope</th>\n",
       "      <th>House Style</th>\n",
       "      <th>Overall Qual</th>\n",
       "      <th>Overall Cond</th>\n",
       "      <th>Year Built</th>\n",
       "      <th>Year Remod/Add</th>\n",
       "      <th>Exterior 2nd</th>\n",
       "      <th>Mas Vnr Area</th>\n",
       "      <th>Exter Qual</th>\n",
       "      <th>Exter Cond</th>\n",
       "      <th>Foundation</th>\n",
       "      <th>Bsmt Qual</th>\n",
       "      <th>Bsmt Cond</th>\n",
       "      <th>Bsmt Exposure</th>\n",
       "      <th>BsmtFin Type 1</th>\n",
       "      <th>BsmtFin Type 2</th>\n",
       "      <th>Bsmt Unf SF</th>\n",
       "      <th>Total Bsmt SF</th>\n",
       "      <th>Heating QC</th>\n",
       "      <th>Electrical</th>\n",
       "      <th>1st Flr SF</th>\n",
       "      <th>2nd Flr SF</th>\n",
       "      <th>Gr Liv Area</th>\n",
       "      <th>Bsmt Full Bath</th>\n",
       "      <th>Bsmt Half Bath</th>\n",
       "      <th>Full Bath</th>\n",
       "      <th>Half Bath</th>\n",
       "      <th>Bedroom AbvGr</th>\n",
       "      <th>Kitchen AbvGr</th>\n",
       "      <th>Kitchen Qual</th>\n",
       "      <th>Functional</th>\n",
       "      <th>Fireplaces</th>\n",
       "      <th>Fireplace Qu</th>\n",
       "      <th>Garage Yr Blt</th>\n",
       "      <th>Garage Finish</th>\n",
       "      <th>Garage Cars</th>\n",
       "      <th>Garage Area</th>\n",
       "      <th>Garage Qual</th>\n",
       "      <th>Garage Cond</th>\n",
       "      <th>Paved Drive</th>\n",
       "      <th>Wood Deck SF</th>\n",
       "      <th>Open Porch SF</th>\n",
       "      <th>Enclosed Porch</th>\n",
       "      <th>Screen Porch</th>\n",
       "      <th>Fence</th>\n",
       "      <th>SalePrice</th>\n",
       "      <th>MSsubclass_30</th>\n",
       "      <th>MSsubclass_40</th>\n",
       "      <th>MSsubclass_45</th>\n",
       "      <th>MSsubclass_50</th>\n",
       "      <th>MSsubclass_60</th>\n",
       "      <th>MSsubclass_70</th>\n",
       "      <th>MSsubclass_75</th>\n",
       "      <th>MSsubclass_80</th>\n",
       "      <th>MSsubclass_85</th>\n",
       "      <th>MSsubclass_90</th>\n",
       "      <th>MSsubclass_120</th>\n",
       "      <th>MSsubclass_150</th>\n",
       "      <th>MSsubclass_160</th>\n",
       "      <th>MSsubclass_180</th>\n",
       "      <th>MSsubclass_190</th>\n",
       "      <th>Street_Pave</th>\n",
       "      <th>LandContour_HLS</th>\n",
       "      <th>LandContour_Low</th>\n",
       "      <th>LandContour_Lvl</th>\n",
       "      <th>LotConf_CulDSac</th>\n",
       "      <th>LotConf_FR2</th>\n",
       "      <th>LotConf_FR3</th>\n",
       "      <th>LotConf_Inside</th>\n",
       "      <th>ngbhd_Blueste</th>\n",
       "      <th>ngbhd_BrDale</th>\n",
       "      <th>ngbhd_BrkSide</th>\n",
       "      <th>ngbhd_ClearCr</th>\n",
       "      <th>ngbhd_CollgCr</th>\n",
       "      <th>ngbhd_Crawfor</th>\n",
       "      <th>ngbhd_Edwards</th>\n",
       "      <th>ngbhd_Gilbert</th>\n",
       "      <th>ngbhd_Greens</th>\n",
       "      <th>ngbhd_GrnHill</th>\n",
       "      <th>ngbhd_IDOTRR</th>\n",
       "      <th>ngbhd_Landmrk</th>\n",
       "      <th>ngbhd_MeadowV</th>\n",
       "      <th>ngbhd_Mitchel</th>\n",
       "      <th>ngbhd_NAmes</th>\n",
       "      <th>ngbhd_NPkVill</th>\n",
       "      <th>ngbhd_NWAmes</th>\n",
       "      <th>ngbhd_NoRidge</th>\n",
       "      <th>ngbhd_NridgHt</th>\n",
       "      <th>ngbhd_OldTown</th>\n",
       "      <th>ngbhd_SWISU</th>\n",
       "      <th>ngbhd_Sawyer</th>\n",
       "      <th>ngbhd_SawyerW</th>\n",
       "      <th>ngbhd_Somerst</th>\n",
       "      <th>ngbhd_StoneBr</th>\n",
       "      <th>ngbhd_Timber</th>\n",
       "      <th>ngbhd_Veenker</th>\n",
       "      <th>cond1_Feedr</th>\n",
       "      <th>cond1_Norm</th>\n",
       "      <th>cond1_PosA</th>\n",
       "      <th>cond1_PosN</th>\n",
       "      <th>cond1_RRAe</th>\n",
       "      <th>cond1_RRAn</th>\n",
       "      <th>cond1_RRNe</th>\n",
       "      <th>cond1_RRNn</th>\n",
       "      <th>cond2_Feedr</th>\n",
       "      <th>cond2_Norm</th>\n",
       "      <th>cond2_PosA</th>\n",
       "      <th>cond2_PosN</th>\n",
       "      <th>cond2_RRAe</th>\n",
       "      <th>cond2_RRAn</th>\n",
       "      <th>cond2_RRNn</th>\n",
       "      <th>bldgtype_2fmCon</th>\n",
       "      <th>bldgtype_Duplex</th>\n",
       "      <th>bldgtype_Twnhs</th>\n",
       "      <th>bldgtype_TwnhsE</th>\n",
       "      <th>roofstyle_Gable</th>\n",
       "      <th>roofstyle_Gambrel</th>\n",
       "      <th>roofstyle_Hip</th>\n",
       "      <th>roofstyle_Mansard</th>\n",
       "      <th>roofstyle_Shed</th>\n",
       "      <th>roofmatl_CompShg</th>\n",
       "      <th>roofmatl_Membran</th>\n",
       "      <th>roofmatl_Tar&amp;Grv</th>\n",
       "      <th>roofmatl_WdShake</th>\n",
       "      <th>roofmatl_WdShngl</th>\n",
       "      <th>Ext1st_AsphShn</th>\n",
       "      <th>Ext1st_BrkComm</th>\n",
       "      <th>Ext1st_BrkFace</th>\n",
       "      <th>Ext1st_CBlock</th>\n",
       "      <th>Ext1st_CemntBd</th>\n",
       "      <th>Ext1st_HdBoard</th>\n",
       "      <th>Ext1st_ImStucc</th>\n",
       "      <th>Ext1st_MetalSd</th>\n",
       "      <th>Ext1st_Plywood</th>\n",
       "      <th>Ext1st_Stone</th>\n",
       "      <th>Ext1st_Stucco</th>\n",
       "      <th>Ext1st_VinylSd</th>\n",
       "      <th>Ext1st_Wd Sdng</th>\n",
       "      <th>Ext1st_WdShing</th>\n",
       "      <th>MasVType_BrkFace</th>\n",
       "      <th>MasVType_None</th>\n",
       "      <th>MasVType_Stone</th>\n",
       "      <th>Heating_GasW</th>\n",
       "      <th>Heating_Grav</th>\n",
       "      <th>Heating_OthW</th>\n",
       "      <th>Heating_Wall</th>\n",
       "      <th>CentralAir_1</th>\n",
       "      <th>GargType_Attchd</th>\n",
       "      <th>GargType_Basment</th>\n",
       "      <th>GargType_BuiltIn</th>\n",
       "      <th>GargType_CarPort</th>\n",
       "      <th>GargType_Detchd</th>\n",
       "      <th>GargType_NA</th>\n",
       "      <th>Month_2</th>\n",
       "      <th>Month_3</th>\n",
       "      <th>Month_4</th>\n",
       "      <th>Month_5</th>\n",
       "      <th>Month_6</th>\n",
       "      <th>Month_7</th>\n",
       "      <th>Month_8</th>\n",
       "      <th>Month_9</th>\n",
       "      <th>Month_10</th>\n",
       "      <th>Month_11</th>\n",
       "      <th>Month_12</th>\n",
       "      <th>Year_2007</th>\n",
       "      <th>Year_2008</th>\n",
       "      <th>Year_2009</th>\n",
       "      <th>Year_2010</th>\n",
       "      <th>SaleType_CWD</th>\n",
       "      <th>SaleType_Con</th>\n",
       "      <th>SaleType_ConLD</th>\n",
       "      <th>SaleType_ConLI</th>\n",
       "      <th>SaleType_ConLw</th>\n",
       "      <th>SaleType_New</th>\n",
       "      <th>SaleType_Oth</th>\n",
       "      <th>SaleType_WD</th>\n",
       "    </tr>\n",
       "  </thead>\n",
       "  <tbody>\n",
       "  </tbody>\n",
       "</table>\n",
       "</div>"
      ],
      "text/plain": [
       "Empty DataFrame\n",
       "Columns: [Id, PID, MS Zoning, Lot Frontage, Lot Area, Lot Shape, Land Slope, House Style, Overall Qual, Overall Cond, Year Built, Year Remod/Add, Exterior 2nd, Mas Vnr Area, Exter Qual, Exter Cond, Foundation, Bsmt Qual, Bsmt Cond, Bsmt Exposure, BsmtFin Type 1, BsmtFin Type 2, Bsmt Unf SF, Total Bsmt SF, Heating QC, Electrical, 1st Flr SF, 2nd Flr SF, Gr Liv Area, Bsmt Full Bath, Bsmt Half Bath, Full Bath, Half Bath, Bedroom AbvGr, Kitchen AbvGr, Kitchen Qual, Functional, Fireplaces, Fireplace Qu, Garage Yr Blt, Garage Finish, Garage Cars, Garage Area, Garage Qual, Garage Cond, Paved Drive, Wood Deck SF, Open Porch SF, Enclosed Porch, Screen Porch, Fence, SalePrice, MSsubclass_30, MSsubclass_40, MSsubclass_45, MSsubclass_50, MSsubclass_60, MSsubclass_70, MSsubclass_75, MSsubclass_80, MSsubclass_85, MSsubclass_90, MSsubclass_120, MSsubclass_150, MSsubclass_160, MSsubclass_180, MSsubclass_190, Street_Pave, LandContour_HLS, LandContour_Low, LandContour_Lvl, LotConf_CulDSac, LotConf_FR2, LotConf_FR3, LotConf_Inside, ngbhd_Blueste, ngbhd_BrDale, ngbhd_BrkSide, ngbhd_ClearCr, ngbhd_CollgCr, ngbhd_Crawfor, ngbhd_Edwards, ngbhd_Gilbert, ngbhd_Greens, ngbhd_GrnHill, ngbhd_IDOTRR, ngbhd_Landmrk, ngbhd_MeadowV, ngbhd_Mitchel, ngbhd_NAmes, ngbhd_NPkVill, ngbhd_NWAmes, ngbhd_NoRidge, ngbhd_NridgHt, ngbhd_OldTown, ngbhd_SWISU, ngbhd_Sawyer, ngbhd_SawyerW, ngbhd_Somerst, ngbhd_StoneBr, ...]\n",
       "Index: []"
      ]
     },
     "execution_count": 195,
     "metadata": {},
     "output_type": "execute_result"
    }
   ],
   "source": [
    "# isolate the row where Garage Area is null\n",
    "df[df['Garage Area'].isna()]"
   ]
  },
  {
   "cell_type": "code",
   "execution_count": 196,
   "metadata": {},
   "outputs": [],
   "source": [
    "# no rows returned - means that the NaN value was successfully updated"
   ]
  },
  {
   "cell_type": "markdown",
   "metadata": {},
   "source": [
    "### Export clean/transformed TRAINING data"
   ]
  },
  {
   "cell_type": "code",
   "execution_count": 197,
   "metadata": {},
   "outputs": [
    {
     "name": "stdout",
     "output_type": "stream",
     "text": [
      "after transformation\t (2051, 182)\n"
     ]
    }
   ],
   "source": [
    "# final shape of transformed dataset\n",
    "shape_after = df.shape\n",
    "print('after transformation\\t', shape_after)"
   ]
  },
  {
   "cell_type": "code",
   "execution_count": 198,
   "metadata": {},
   "outputs": [],
   "source": [
    "# export data to a new csv file 'train_r1.csv'\n",
    "df.to_csv('../datasets/train_r1.csv',index=False)"
   ]
  },
  {
   "cell_type": "markdown",
   "metadata": {},
   "source": [
    "# TESTING DATA"
   ]
  },
  {
   "cell_type": "code",
   "execution_count": 199,
   "metadata": {},
   "outputs": [],
   "source": [
    "pd.options.display.max_rows = 999\n",
    "pd.options.display.max_columns = 999"
   ]
  },
  {
   "cell_type": "code",
   "execution_count": 200,
   "metadata": {},
   "outputs": [],
   "source": [
    "df = pd.read_csv('../datasets/test.csv')"
   ]
  },
  {
   "cell_type": "code",
   "execution_count": 201,
   "metadata": {},
   "outputs": [
    {
     "data": {
      "text/plain": [
       "(879, 80)"
      ]
     },
     "execution_count": 201,
     "metadata": {},
     "output_type": "execute_result"
    }
   ],
   "source": [
    "df.shape"
   ]
  },
  {
   "cell_type": "code",
   "execution_count": 202,
   "metadata": {},
   "outputs": [],
   "source": [
    "# check for null values\n",
    "df.isnull().sum();"
   ]
  },
  {
   "cell_type": "markdown",
   "metadata": {},
   "source": [
    "### The following columns have null values\n",
    "- Lot Frontage (not used in model)\n",
    "- Alley (not used in model)\n",
    "- Mas Vnr Type (not used in model)\n",
    "- Mas Vnr Area (not used in model)\n",
    "- Bsmt Qual **(THIS IS USED IN THE MODEL)**\n",
    "- Bsmt Cond (not used in model)\n",
    "- Bsmt Exposure **(THIS IS USED IN THE MODEL)**\n",
    "- BsmtFin Type 1 **(THIS IS USED IN THE MODEL)**\n",
    "- BsmtFin Type 2 (not used in model)\n",
    "- Electrical (not used in model)\n",
    "- Fireplace Qu **(THIS IS USED IN THE MODEL)**\n",
    "- Garage Type (not used in model)\n",
    "- Garage Yr Blt (not used in model)\n",
    "- Garage Finish (not used in model)\n",
    "- Garage Qual (not used in model)\n",
    "- Garage Cond (not used in model)\n",
    "- Pool QC (not used in model)\n",
    "- Fence (not used in model)\n",
    "- Misc Feature (not used in model)\n",
    "\n",
    "##### Note that this portion of data cleaning/transforming was carried out AFTER selecting the regression model i.e. predictors have been selected already. \n",
    "- **3 columns ('Alley', 'Pool QC', 'Misc Feature') were dropped** in the training data (among others). So these will be dropped from the testing data too.\n",
    "\n",
    "\n",
    "- For **'Bsmt Qual'** ==> if the other columns show that a basement exists, then 'TA' (typical) is imputed. if there is no evidence that a basement exists, then 'NA' is imputed on the assumption that there is no basement.\n",
    "\n",
    "\n",
    "- For **'Bsmt Exposure'** ==> if the other columns show that a basement exists, then 'TA' (typical) is imputed. if there is no evidence that a basement exists, then 'NA' is imputed on the assumption that there is no basement.\n",
    "\n",
    "\n",
    "- For **'BsmtFin Type 1'** ==> if the other columns show that a basement exists, then 'TA' (typical) is imputed. if there is no evidence that a basement exists, then 'NA' is imputed on the assumption that there is no basement.\n",
    "\n",
    "\n",
    "- For **'Fireplace Qu'** ==> if the other columns show that a fireplace exists, then 'TA' (typical) is imputed. if there is no evidence that a fireplace exists, then 'NA' is imputed on the assumption that there is no fireplace.\n",
    "\n",
    "\n",
    "- **All remaining columns are NOT used in the model.** Thus, I have imputed nominal values just so that the fields are not null. i.e. imputed values do not have any impact on the model/prediction."
   ]
  },
  {
   "cell_type": "markdown",
   "metadata": {},
   "source": [
    "### DROP columns"
   ]
  },
  {
   "cell_type": "code",
   "execution_count": 203,
   "metadata": {},
   "outputs": [],
   "source": [
    "# 11 columns to be dropped, as per the training data\n",
    "df.drop(axis=1,columns=['Alley','Utilities','3Ssn Porch','Pool Area','Pool QC','BsmtFin SF 1',\n",
    "                        'BsmtFin SF 2','Low Qual Fin SF','TotRms AbvGrd','Misc Feature','Misc Val'],inplace=True);"
   ]
  },
  {
   "cell_type": "markdown",
   "metadata": {},
   "source": [
    "### Update missing values"
   ]
  },
  {
   "cell_type": "code",
   "execution_count": 204,
   "metadata": {},
   "outputs": [
    {
     "name": "stdout",
     "output_type": "stream",
     "text": [
      "Number of rows where Bsmt Qual is missing: 25\n"
     ]
    }
   ],
   "source": [
    "print('Number of rows where Bsmt Qual is missing:',len(df[df['Bsmt Qual'].isna()]))"
   ]
  },
  {
   "cell_type": "code",
   "execution_count": 205,
   "metadata": {},
   "outputs": [
    {
     "data": {
      "text/html": [
       "<div>\n",
       "<style scoped>\n",
       "    .dataframe tbody tr th:only-of-type {\n",
       "        vertical-align: middle;\n",
       "    }\n",
       "\n",
       "    .dataframe tbody tr th {\n",
       "        vertical-align: top;\n",
       "    }\n",
       "\n",
       "    .dataframe thead th {\n",
       "        text-align: right;\n",
       "    }\n",
       "</style>\n",
       "<table border=\"1\" class=\"dataframe\">\n",
       "  <thead>\n",
       "    <tr style=\"text-align: right;\">\n",
       "      <th></th>\n",
       "      <th>Bsmt Qual</th>\n",
       "      <th>Bsmt Cond</th>\n",
       "      <th>Bsmt Exposure</th>\n",
       "      <th>BsmtFin Type 1</th>\n",
       "      <th>BsmtFin Type 2</th>\n",
       "      <th>Bsmt Unf SF</th>\n",
       "      <th>Total Bsmt SF</th>\n",
       "    </tr>\n",
       "  </thead>\n",
       "  <tbody>\n",
       "    <tr>\n",
       "      <th>15</th>\n",
       "      <td>NaN</td>\n",
       "      <td>NaN</td>\n",
       "      <td>NaN</td>\n",
       "      <td>NaN</td>\n",
       "      <td>NaN</td>\n",
       "      <td>0</td>\n",
       "      <td>0</td>\n",
       "    </tr>\n",
       "    <tr>\n",
       "      <th>37</th>\n",
       "      <td>NaN</td>\n",
       "      <td>NaN</td>\n",
       "      <td>NaN</td>\n",
       "      <td>NaN</td>\n",
       "      <td>NaN</td>\n",
       "      <td>0</td>\n",
       "      <td>0</td>\n",
       "    </tr>\n",
       "    <tr>\n",
       "      <th>77</th>\n",
       "      <td>NaN</td>\n",
       "      <td>NaN</td>\n",
       "      <td>NaN</td>\n",
       "      <td>NaN</td>\n",
       "      <td>NaN</td>\n",
       "      <td>0</td>\n",
       "      <td>0</td>\n",
       "    </tr>\n",
       "    <tr>\n",
       "      <th>79</th>\n",
       "      <td>NaN</td>\n",
       "      <td>NaN</td>\n",
       "      <td>NaN</td>\n",
       "      <td>NaN</td>\n",
       "      <td>NaN</td>\n",
       "      <td>0</td>\n",
       "      <td>0</td>\n",
       "    </tr>\n",
       "    <tr>\n",
       "      <th>113</th>\n",
       "      <td>NaN</td>\n",
       "      <td>NaN</td>\n",
       "      <td>NaN</td>\n",
       "      <td>NaN</td>\n",
       "      <td>NaN</td>\n",
       "      <td>0</td>\n",
       "      <td>0</td>\n",
       "    </tr>\n",
       "    <tr>\n",
       "      <th>145</th>\n",
       "      <td>NaN</td>\n",
       "      <td>NaN</td>\n",
       "      <td>NaN</td>\n",
       "      <td>NaN</td>\n",
       "      <td>NaN</td>\n",
       "      <td>0</td>\n",
       "      <td>0</td>\n",
       "    </tr>\n",
       "    <tr>\n",
       "      <th>190</th>\n",
       "      <td>NaN</td>\n",
       "      <td>NaN</td>\n",
       "      <td>NaN</td>\n",
       "      <td>NaN</td>\n",
       "      <td>NaN</td>\n",
       "      <td>0</td>\n",
       "      <td>0</td>\n",
       "    </tr>\n",
       "    <tr>\n",
       "      <th>206</th>\n",
       "      <td>NaN</td>\n",
       "      <td>NaN</td>\n",
       "      <td>NaN</td>\n",
       "      <td>NaN</td>\n",
       "      <td>NaN</td>\n",
       "      <td>0</td>\n",
       "      <td>0</td>\n",
       "    </tr>\n",
       "    <tr>\n",
       "      <th>279</th>\n",
       "      <td>NaN</td>\n",
       "      <td>NaN</td>\n",
       "      <td>NaN</td>\n",
       "      <td>NaN</td>\n",
       "      <td>NaN</td>\n",
       "      <td>0</td>\n",
       "      <td>0</td>\n",
       "    </tr>\n",
       "    <tr>\n",
       "      <th>292</th>\n",
       "      <td>NaN</td>\n",
       "      <td>NaN</td>\n",
       "      <td>NaN</td>\n",
       "      <td>NaN</td>\n",
       "      <td>NaN</td>\n",
       "      <td>0</td>\n",
       "      <td>0</td>\n",
       "    </tr>\n",
       "    <tr>\n",
       "      <th>294</th>\n",
       "      <td>NaN</td>\n",
       "      <td>NaN</td>\n",
       "      <td>NaN</td>\n",
       "      <td>NaN</td>\n",
       "      <td>NaN</td>\n",
       "      <td>0</td>\n",
       "      <td>0</td>\n",
       "    </tr>\n",
       "    <tr>\n",
       "      <th>315</th>\n",
       "      <td>NaN</td>\n",
       "      <td>NaN</td>\n",
       "      <td>NaN</td>\n",
       "      <td>NaN</td>\n",
       "      <td>NaN</td>\n",
       "      <td>0</td>\n",
       "      <td>0</td>\n",
       "    </tr>\n",
       "    <tr>\n",
       "      <th>321</th>\n",
       "      <td>NaN</td>\n",
       "      <td>NaN</td>\n",
       "      <td>NaN</td>\n",
       "      <td>NaN</td>\n",
       "      <td>NaN</td>\n",
       "      <td>0</td>\n",
       "      <td>0</td>\n",
       "    </tr>\n",
       "    <tr>\n",
       "      <th>414</th>\n",
       "      <td>NaN</td>\n",
       "      <td>NaN</td>\n",
       "      <td>NaN</td>\n",
       "      <td>NaN</td>\n",
       "      <td>NaN</td>\n",
       "      <td>0</td>\n",
       "      <td>0</td>\n",
       "    </tr>\n",
       "    <tr>\n",
       "      <th>431</th>\n",
       "      <td>NaN</td>\n",
       "      <td>NaN</td>\n",
       "      <td>NaN</td>\n",
       "      <td>NaN</td>\n",
       "      <td>NaN</td>\n",
       "      <td>0</td>\n",
       "      <td>0</td>\n",
       "    </tr>\n",
       "    <tr>\n",
       "      <th>481</th>\n",
       "      <td>NaN</td>\n",
       "      <td>NaN</td>\n",
       "      <td>NaN</td>\n",
       "      <td>NaN</td>\n",
       "      <td>NaN</td>\n",
       "      <td>0</td>\n",
       "      <td>0</td>\n",
       "    </tr>\n",
       "    <tr>\n",
       "      <th>528</th>\n",
       "      <td>NaN</td>\n",
       "      <td>NaN</td>\n",
       "      <td>NaN</td>\n",
       "      <td>NaN</td>\n",
       "      <td>NaN</td>\n",
       "      <td>0</td>\n",
       "      <td>0</td>\n",
       "    </tr>\n",
       "    <tr>\n",
       "      <th>553</th>\n",
       "      <td>NaN</td>\n",
       "      <td>NaN</td>\n",
       "      <td>NaN</td>\n",
       "      <td>NaN</td>\n",
       "      <td>NaN</td>\n",
       "      <td>0</td>\n",
       "      <td>0</td>\n",
       "    </tr>\n",
       "    <tr>\n",
       "      <th>614</th>\n",
       "      <td>NaN</td>\n",
       "      <td>NaN</td>\n",
       "      <td>NaN</td>\n",
       "      <td>NaN</td>\n",
       "      <td>NaN</td>\n",
       "      <td>0</td>\n",
       "      <td>0</td>\n",
       "    </tr>\n",
       "    <tr>\n",
       "      <th>619</th>\n",
       "      <td>NaN</td>\n",
       "      <td>NaN</td>\n",
       "      <td>NaN</td>\n",
       "      <td>NaN</td>\n",
       "      <td>NaN</td>\n",
       "      <td>0</td>\n",
       "      <td>0</td>\n",
       "    </tr>\n",
       "    <tr>\n",
       "      <th>622</th>\n",
       "      <td>NaN</td>\n",
       "      <td>NaN</td>\n",
       "      <td>NaN</td>\n",
       "      <td>NaN</td>\n",
       "      <td>NaN</td>\n",
       "      <td>0</td>\n",
       "      <td>0</td>\n",
       "    </tr>\n",
       "    <tr>\n",
       "      <th>626</th>\n",
       "      <td>NaN</td>\n",
       "      <td>NaN</td>\n",
       "      <td>NaN</td>\n",
       "      <td>NaN</td>\n",
       "      <td>NaN</td>\n",
       "      <td>0</td>\n",
       "      <td>0</td>\n",
       "    </tr>\n",
       "    <tr>\n",
       "      <th>655</th>\n",
       "      <td>NaN</td>\n",
       "      <td>NaN</td>\n",
       "      <td>NaN</td>\n",
       "      <td>NaN</td>\n",
       "      <td>NaN</td>\n",
       "      <td>0</td>\n",
       "      <td>0</td>\n",
       "    </tr>\n",
       "    <tr>\n",
       "      <th>703</th>\n",
       "      <td>NaN</td>\n",
       "      <td>NaN</td>\n",
       "      <td>NaN</td>\n",
       "      <td>NaN</td>\n",
       "      <td>NaN</td>\n",
       "      <td>0</td>\n",
       "      <td>0</td>\n",
       "    </tr>\n",
       "    <tr>\n",
       "      <th>772</th>\n",
       "      <td>NaN</td>\n",
       "      <td>NaN</td>\n",
       "      <td>NaN</td>\n",
       "      <td>NaN</td>\n",
       "      <td>NaN</td>\n",
       "      <td>0</td>\n",
       "      <td>0</td>\n",
       "    </tr>\n",
       "  </tbody>\n",
       "</table>\n",
       "</div>"
      ],
      "text/plain": [
       "    Bsmt Qual Bsmt Cond Bsmt Exposure BsmtFin Type 1 BsmtFin Type 2  \\\n",
       "15        NaN       NaN           NaN            NaN            NaN   \n",
       "37        NaN       NaN           NaN            NaN            NaN   \n",
       "77        NaN       NaN           NaN            NaN            NaN   \n",
       "79        NaN       NaN           NaN            NaN            NaN   \n",
       "113       NaN       NaN           NaN            NaN            NaN   \n",
       "145       NaN       NaN           NaN            NaN            NaN   \n",
       "190       NaN       NaN           NaN            NaN            NaN   \n",
       "206       NaN       NaN           NaN            NaN            NaN   \n",
       "279       NaN       NaN           NaN            NaN            NaN   \n",
       "292       NaN       NaN           NaN            NaN            NaN   \n",
       "294       NaN       NaN           NaN            NaN            NaN   \n",
       "315       NaN       NaN           NaN            NaN            NaN   \n",
       "321       NaN       NaN           NaN            NaN            NaN   \n",
       "414       NaN       NaN           NaN            NaN            NaN   \n",
       "431       NaN       NaN           NaN            NaN            NaN   \n",
       "481       NaN       NaN           NaN            NaN            NaN   \n",
       "528       NaN       NaN           NaN            NaN            NaN   \n",
       "553       NaN       NaN           NaN            NaN            NaN   \n",
       "614       NaN       NaN           NaN            NaN            NaN   \n",
       "619       NaN       NaN           NaN            NaN            NaN   \n",
       "622       NaN       NaN           NaN            NaN            NaN   \n",
       "626       NaN       NaN           NaN            NaN            NaN   \n",
       "655       NaN       NaN           NaN            NaN            NaN   \n",
       "703       NaN       NaN           NaN            NaN            NaN   \n",
       "772       NaN       NaN           NaN            NaN            NaN   \n",
       "\n",
       "     Bsmt Unf SF  Total Bsmt SF  \n",
       "15             0              0  \n",
       "37             0              0  \n",
       "77             0              0  \n",
       "79             0              0  \n",
       "113            0              0  \n",
       "145            0              0  \n",
       "190            0              0  \n",
       "206            0              0  \n",
       "279            0              0  \n",
       "292            0              0  \n",
       "294            0              0  \n",
       "315            0              0  \n",
       "321            0              0  \n",
       "414            0              0  \n",
       "431            0              0  \n",
       "481            0              0  \n",
       "528            0              0  \n",
       "553            0              0  \n",
       "614            0              0  \n",
       "619            0              0  \n",
       "622            0              0  \n",
       "626            0              0  \n",
       "655            0              0  \n",
       "703            0              0  \n",
       "772            0              0  "
      ]
     },
     "execution_count": 205,
     "metadata": {},
     "output_type": "execute_result"
    }
   ],
   "source": [
    "df[df['Bsmt Qual'].isna()][['Bsmt Qual','Bsmt Cond','Bsmt Exposure','BsmtFin Type 1',\n",
    "                           'BsmtFin Type 2','Bsmt Unf SF','Total Bsmt SF']]"
   ]
  },
  {
   "cell_type": "markdown",
   "metadata": {},
   "source": [
    "#### From the above, it appears that there is no basement. Update all missing values in these columns to 'NA'."
   ]
  },
  {
   "cell_type": "code",
   "execution_count": 206,
   "metadata": {},
   "outputs": [],
   "source": [
    "df.fillna(value={'Bsmt Qual':'NA', 'Bsmt Cond':'NA', 'Bsmt Exposure':'NA',\n",
    "                 'BsmtFin Type 1':'NA', 'BsmtFin Type 2':'NA'}, inplace=True);"
   ]
  },
  {
   "cell_type": "code",
   "execution_count": 207,
   "metadata": {},
   "outputs": [],
   "source": [
    "df[df['Fireplace Qu'].isna()][['Fireplace Qu','Fireplaces']];"
   ]
  },
  {
   "cell_type": "markdown",
   "metadata": {},
   "source": [
    "#### From the above, it apears that where 'Fireplace Qu' is missing, 'Fireplaces' = 0 i.e. there are no fireplaces in the house. Therefore, it makes sense to update all missing values of 'Fireplace Qu' to 'NA'."
   ]
  },
  {
   "cell_type": "code",
   "execution_count": 208,
   "metadata": {},
   "outputs": [],
   "source": [
    "df['Fireplace Qu'].fillna('NA',inplace=True)"
   ]
  },
  {
   "cell_type": "markdown",
   "metadata": {},
   "source": [
    "#### Update remaining missing values to 'NA'."
   ]
  },
  {
   "cell_type": "code",
   "execution_count": 209,
   "metadata": {},
   "outputs": [],
   "source": [
    "df['Lot Frontage'].fillna(0,inplace=True)\n",
    "df['Mas Vnr Type'].fillna('NA',inplace=True)\n",
    "df['Mas Vnr Area'].fillna(0,inplace=True)\n",
    "df['Electrical'].fillna('NA',inplace=True)\n",
    "df['Garage Type'].fillna('NA',inplace=True)\n",
    "df['Garage Yr Blt'].fillna(1979,inplace=True)\n",
    "df['Garage Finish'].fillna('NA',inplace=True)\n",
    "df['Garage Qual'].fillna('NA',inplace=True)\n",
    "df['Garage Cond'].fillna('NA',inplace=True)\n",
    "df['Fence'].fillna('NA',inplace=True)"
   ]
  },
  {
   "cell_type": "markdown",
   "metadata": {},
   "source": [
    "### Generate dummy columns (one-hot encoded) from nominal data\n",
    "- the following dummy columns are used as predictors by the model:\n",
    "\n",
    "|Original Column name|Value|   |Dummy Column name\n",
    "|---|---|---|---|\n",
    "|Land Contour|HLS|------>>|LandContour_HLS\n",
    "|Neighborhood|GrnHill|------>>|ngbhd_GrnHill\n",
    "|Neighborhood|NoRidge|------>>|ngbhd_NoRidge\n",
    "|Neighborhood|NridgHt|------>>|ngbhd_NridgHt\n",
    "|Neighborhood|StoneBr|------>>|ngbhd_StoneBr\n",
    "|Condition 1|PosN|------>>|cond1_PosN\n",
    "|Bldg Type|TwnhsE|------>>|bldgtype_TwnhsE\n",
    "|Bldg Type|Twnhs|------>>|bldgtype_Twnhs\n",
    "|Roof Style|Hip|------>>|roofstyle_Hip\n",
    "|Roof Matl|WdShngl|------>>|roofmatl_WdShngl\n",
    "|Sale Type|New|------>>|SaleType_New"
   ]
  },
  {
   "cell_type": "code",
   "execution_count": 210,
   "metadata": {},
   "outputs": [],
   "source": [
    "# Generate dummy columns\n",
    "# Do NOT drop any dummy columns to make a baseline because we can't control which column will be dropped\n",
    "# To avoid dropping the column that we need, we set drop_first = False\n",
    "df=pd.get_dummies(df,prefix='LandContour',columns=['Land Contour'],drop_first=False)\n",
    "df=pd.get_dummies(df,prefix='ngbhd',columns=['Neighborhood'],drop_first=False)\n",
    "df=pd.get_dummies(df,prefix='cond1',columns=['Condition 1'],drop_first=False)\n",
    "df=pd.get_dummies(df,prefix='bldgtype',columns=['Bldg Type'],drop_first=False)\n",
    "df=pd.get_dummies(df,prefix='roofstyle',columns=['Roof Style'],drop_first=False)\n",
    "df=pd.get_dummies(df,prefix='roofmatl',columns=['Roof Matl'],drop_first=False)\n",
    "df=pd.get_dummies(df,prefix='SaleType',columns=['Sale Type'],drop_first=False)"
   ]
  },
  {
   "cell_type": "markdown",
   "metadata": {},
   "source": [
    "### Create column 'Overall Qual Squared' (for use by model)"
   ]
  },
  {
   "cell_type": "code",
   "execution_count": 211,
   "metadata": {},
   "outputs": [],
   "source": [
    "df['Overall Qual Squared'] = df['Overall Qual']**2"
   ]
  },
  {
   "cell_type": "code",
   "execution_count": 212,
   "metadata": {},
   "outputs": [
    {
     "data": {
      "text/plain": [
       "(879, 129)"
      ]
     },
     "execution_count": 212,
     "metadata": {},
     "output_type": "execute_result"
    }
   ],
   "source": [
    "df.shape"
   ]
  },
  {
   "cell_type": "markdown",
   "metadata": {},
   "source": [
    "### Check that those features used as predictors are numeric type\n",
    "\n",
    "##### Noted that the following are still \"object\" type:\n",
    "- Exter Qual          \n",
    "- Bsmt Qual               \n",
    "- Kitchen Qual\n",
    "- Fireplace Qu\n",
    "\n",
    "Since these are Ordinal, convert them into their equivalent numeric rankings"
   ]
  },
  {
   "cell_type": "code",
   "execution_count": 213,
   "metadata": {},
   "outputs": [],
   "source": [
    "# convert 'Exter Qual'\n",
    "column_name='Exter Qual'\n",
    "category_list = ['dummy','Fa','TA','Gd','Ex']\n",
    "df[column_name]=pd.Categorical(df[column_name],ordered=True,categories=category_list).codes\n",
    "\n",
    "# convert 'Bsmt Qual'\n",
    "column_name='Bsmt Qual'\n",
    "category_list = ['NA','Po','Fa','TA','Gd','Ex']\n",
    "df[column_name]=pd.Categorical(df[column_name],ordered=True,categories=category_list).codes\n",
    "\n",
    "# convert 'Kitchen Qual'\n",
    "column_name='Kitchen Qual'\n",
    "category_list = ['dummy','Fa','TA','Gd','Ex']\n",
    "df[column_name]=pd.Categorical(df[column_name],ordered=True,categories=category_list).codes\n",
    "\n",
    "# convert 'Fireplace Qu'\n",
    "column_name='Fireplace Qu'\n",
    "category_list = ['NA','Po','Fa','TA','Gd','Ex']\n",
    "df[column_name]=pd.Categorical(df[column_name],ordered=True,categories=category_list).codes\n",
    "\n",
    "# convert 'Basement Exposure'\n",
    "column_name='Bsmt Exposure'\n",
    "category_list = ['NA','No','Mn','Av','Gd']\n",
    "df[column_name]=pd.Categorical(df[column_name],ordered=True,categories=category_list).codes\n",
    "\n",
    "# convert 'BsmtFin Type 1'\n",
    "column_name='BsmtFin Type 1'\n",
    "category_list = ['NA','Unf','LwQ','Rec','BLQ','ALQ','GLQ']\n",
    "df[column_name]=pd.Categorical(df[column_name],ordered=True,categories=category_list).codes"
   ]
  },
  {
   "cell_type": "markdown",
   "metadata": {},
   "source": [
    "### Export clean/transformed TEST data"
   ]
  },
  {
   "cell_type": "code",
   "execution_count": 214,
   "metadata": {},
   "outputs": [],
   "source": [
    "# export data to a new csv file 'train_r1.csv'\n",
    "df.to_csv('../datasets/test_ss_r1.csv',index=False)"
   ]
  }
 ],
 "metadata": {
  "kernelspec": {
   "display_name": "Python 3",
   "language": "python",
   "name": "python3"
  },
  "language_info": {
   "codemirror_mode": {
    "name": "ipython",
    "version": 3
   },
   "file_extension": ".py",
   "mimetype": "text/x-python",
   "name": "python",
   "nbconvert_exporter": "python",
   "pygments_lexer": "ipython3",
   "version": "3.7.3"
  }
 },
 "nbformat": 4,
 "nbformat_minor": 2
}
